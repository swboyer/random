{
  "cells": [
    {
      "cell_type": "markdown",
      "id": "c4ca8276-e829-4cff-8905-47534e4b4d4e",
      "metadata": {
        "id": "c4ca8276-e829-4cff-8905-47534e4b4d4e"
      },
      "source": [
        "# Using `gpt-3.5-turbo` to answer questions posed in natural language, using a custom dataset and Retrieval-Augmented Generation\n",
        "\n",
        "\n",
        "\n",
        "---\n",
        "**Credit**: Adapted from this [OpenAI notebook](https://github.com/openai/openai-cookbook/blob/main/examples/Question_answering_using_embeddings.ipynb)\n",
        "\n",
        "---\n",
        "\n",
        "Many use cases require us to respond to user questions with relevant and accurate answers. For example, a customer support chatbot may need to provide answers to common support questions.\n",
        "\n",
        "The GPT models have picked up a lot of general knowledge in training - remember GPT-3 was trained on 500 billion tokens! - but we often would like to have the model *use our own dataset or library* of more specific information to answer the questions (e.g., we would like our customer service chatbot to consult a library of service manuals when it answers a user question). We'd expect those tailored responses to be more helpful and accurate than generic responses uninformed by our specific data.\n",
        "\n",
        "In this notebook we will demonstrate a method for enabling `gpt-3.5-turbo` to answer questions using a library of text as a reference. We'll be using a dataset of Wikipedia articles about the 2022 Winter Olympic Games but the same approach can be used with a library of books, articles, documentation, service manuals, or much much more."
      ]
    },
    {
      "cell_type": "markdown",
      "source": [
        "## Setup\n",
        "\n",
        "Let's get started by installing the openai python package and `tiktoken`, a package that can tokenize inputs using BPE, in a manner compatible with the OpenAI models\n"
      ],
      "metadata": {
        "id": "KYInMIG5qHYt"
      },
      "id": "KYInMIG5qHYt"
    },
    {
      "cell_type": "code",
      "source": [
        "!pip install --upgrade openai\n",
        "!pip install tiktoken"
      ],
      "metadata": {
        "id": "HiJ-lzBu9bUg"
      },
      "id": "HiJ-lzBu9bUg",
      "execution_count": null,
      "outputs": []
    },
    {
      "cell_type": "code",
      "execution_count": null,
      "id": "9e3839a6-9146-4f60-b74b-19abbc24278d",
      "metadata": {
        "id": "9e3839a6-9146-4f60-b74b-19abbc24278d"
      },
      "outputs": [],
      "source": [
        "import pandas as pd  # for storing text and embeddings data"
      ]
    },
    {
      "cell_type": "markdown",
      "source": [
        "\n",
        "We will use `gpt-3.5-turbo` in this colab; this is the GPT variant that powered the initial release of ChatGPT and remains a potential backend for that service.\n",
        "\n",
        "\n",
        "\n",
        "\n",
        "---\n",
        "We will be using **pre-trained contextual embeddings** as well. For that, we will\n",
        "use the `text-embedding-ada-002` model ([link](https://openai.com/blog/new-and-improved-embedding-model)).\n",
        "\n",
        "\n",
        "---\n",
        "\n",
        "Finally, let's set the OpenAI API key. You can get yours [here](https://platform.openai.com/account/api-keys), and then enter it under `OPENAI_API_KEY` in your Colab secrets. We will create an OpenAI API client using this key.\n",
        "\n",
        "\n",
        "\n"
      ],
      "metadata": {
        "id": "Z2bUETiOrGBK"
      },
      "id": "Z2bUETiOrGBK"
    },
    {
      "cell_type": "code",
      "source": [
        "# models\n",
        "EMBEDDING_MODEL = \"text-embedding-ada-002\"\n",
        "GPT_MODEL = \"gpt-3.5-turbo\"\n",
        "\n",
        "import os # for getting API token from env variable OPENAI_API_KEY\n",
        "from google.colab import userdata, drive\n",
        "\n",
        "os.environ[\"OPENAI_API_KEY\"] = userdata.get('OPENAI_API_KEY')\n",
        "\n",
        "# client for OpenAI API\n",
        "from openai import OpenAI # for calling the OpenAI API\n",
        "client = OpenAI(api_key=os.environ.get(\"OPENAI_API_KEY\", \"<your OpenAI API key if not set as env var>\"))"
      ],
      "metadata": {
        "id": "4bylYKUdq8ug"
      },
      "id": "4bylYKUdq8ug",
      "execution_count": null,
      "outputs": []
    },
    {
      "cell_type": "markdown",
      "source": [
        "## Prompting without custom data"
      ],
      "metadata": {
        "id": "rgSVrSEHrled"
      },
      "id": "rgSVrSEHrled"
    },
    {
      "cell_type": "markdown",
      "id": "9312f62f-e208-4030-a648-71ad97aee74f",
      "metadata": {
        "id": "9312f62f-e208-4030-a648-71ad97aee74f"
      },
      "source": [
        "Before we try anything fancy, let's simply ask `gpt-3.5-turbo` a question on the 2020 Summer Olympics and see how it responds.\n",
        "\n",
        "First, we prepare the prompt."
      ]
    },
    {
      "cell_type": "code",
      "execution_count": null,
      "id": "a167516c-7c19-4bda-afa5-031aa0ae13bb",
      "metadata": {
        "id": "a167516c-7c19-4bda-afa5-031aa0ae13bb"
      },
      "outputs": [],
      "source": [
        "query = 'Which athlete won the gold medal in the high jump at the 2020 Summer Olympics?'"
      ]
    },
    {
      "cell_type": "markdown",
      "source": [
        "Next, we make the request to the model, using the openai API. [Documentation](https://platform.openai.com/docs/api-reference/completions/create?lang=python).\n"
      ],
      "metadata": {
        "id": "qKwMS3diCUCe"
      },
      "id": "qKwMS3diCUCe"
    },
    {
      "cell_type": "code",
      "source": [
        "response = client.chat.completions.create(\n",
        "    messages=[\n",
        "        {'role': 'system', 'content': 'You answer questions about the Olympics.'},\n",
        "        {'role': 'user', 'content': query},\n",
        "    ],\n",
        "    model=GPT_MODEL,\n",
        "    temperature=0,\n",
        ")\n",
        "\n",
        "print(response.choices[0].message.content)"
      ],
      "metadata": {
        "id": "0AfZ-QUVCRuL",
        "colab": {
          "base_uri": "https://localhost:8080/"
        },
        "outputId": "a29eb4d7-ee54-4d6d-9a69-b4010fd84517"
      },
      "id": "0AfZ-QUVCRuL",
      "execution_count": null,
      "outputs": [
        {
          "output_type": "stream",
          "name": "stdout",
          "text": [
            "Mutaz Essa Barshim of Qatar and Gianmarco Tamberi of Italy both won the gold medal in the high jump at the 2020 Summer Olympics. They decided to share the gold medal rather than participate in a jump-off.\n"
          ]
        }
      ]
    },
    {
      "cell_type": "markdown",
      "source": [
        "We can check that this answer is in fact correct [here](https://en.wikipedia.org/wiki/Athletics_at_the_2020_Summer_Olympics_%E2%80%93_Men%27s_high_jump). Impressive. But now lets change the query around and ask something about the 2022 Winter Olmpics."
      ],
      "metadata": {
        "id": "9mFSfDRLUKgA"
      },
      "id": "9mFSfDRLUKgA"
    },
    {
      "cell_type": "code",
      "source": [
        "query = 'Which athletes won the gold medal in curling at the 2022 Winter Olympics?'\n",
        "\n",
        "response = client.chat.completions.create(\n",
        "    messages=[\n",
        "        {'role': 'system', 'content': 'You answer questions about the Winter Olympics.'},\n",
        "        {'role': 'user', 'content': query},\n",
        "    ],\n",
        "    model=GPT_MODEL,\n",
        "    temperature=0,\n",
        ")\n",
        "\n",
        "print(response.choices[0].message.content)"
      ],
      "metadata": {
        "colab": {
          "base_uri": "https://localhost:8080/"
        },
        "id": "qt4krqbQUjfd",
        "outputId": "c06cecd7-cb3a-4ca8-c4e9-386da1085045"
      },
      "id": "qt4krqbQUjfd",
      "execution_count": null,
      "outputs": [
        {
          "output_type": "stream",
          "name": "stdout",
          "text": [
            "The gold medal in curling at the 2022 Winter Olympics was won by the Swedish men's team and the South Korean women's team.\n"
          ]
        }
      ]
    },
    {
      "cell_type": "markdown",
      "id": "47204cce-a7d5-4c81-ab6e-53323026e08c",
      "metadata": {
        "id": "47204cce-a7d5-4c81-ab6e-53323026e08c"
      },
      "source": [
        "If we fact-check this, it turns out that ....\n",
        "<br> <br> <br> <br> <br> <br> <br> <br> <br> <br> <br> <br> <br> <br> <br> <br> <br> <br> <br> <br> <br> <br> <br> <br>\n",
        "\n",
        "\n",
        "\n",
        "\n",
        "\n",
        "\n",
        "\n",
        "\n",
        "\n",
        "\n",
        "\n",
        "\n",
        "\n",
        "... Sweden did win the men's gold and the South Korean team did particpate, but **Great Britain won the women's gold**.\n",
        "\n",
        "\n",
        "<br>\n",
        "\n",
        "<br>\n",
        "\n",
        "\n",
        "\n",
        "Sounds like `gpt-3.5-turbo` could use some help. 😆\n"
      ]
    },
    {
      "cell_type": "markdown",
      "source": [
        "### \"Engineering\" the prompt to reduce hallucinations\n",
        "\n"
      ],
      "metadata": {
        "id": "PSQUCBO9s0J3"
      },
      "id": "PSQUCBO9s0J3"
    },
    {
      "cell_type": "markdown",
      "source": [
        "One simple thing we can try right off the bat is to tell `gpt-3.5-turbo` to say \"I don't know\" if it doesn't know rather than make stuff up i.e., \"hallucinate\".\n",
        "\n",
        "\n",
        "How? By asking nicely? 😀 Well, almost.\n",
        "\n",
        "\n",
        "\n",
        "By asking **explicitly!**\n",
        "\n",
        "Let's modify our prompt as follows.\n"
      ],
      "metadata": {
        "id": "c8f8w4_jNqdh"
      },
      "id": "c8f8w4_jNqdh"
    },
    {
      "cell_type": "code",
      "execution_count": null,
      "id": "a5451371-17fe-4ef3-aa02-affcf4edb0e0",
      "metadata": {
        "id": "a5451371-17fe-4ef3-aa02-affcf4edb0e0"
      },
      "outputs": [],
      "source": [
        "query = f\"\"\"Answer the question as truthfully as possible, \\\n",
        "and if you're unsure of the answer, say \"Sorry, I don't know\".\n",
        "\n",
        "Question: Which athletes won the gold medal in curling at the 2022 Winter Olympics?\"\"\""
      ]
    },
    {
      "cell_type": "markdown",
      "source": [
        "Note the explicit extra instruction in the above prompt: *as truthfully as possible, and if you're unsure of the answer, say \"Sorry, I don't know\"*"
      ],
      "metadata": {
        "id": "QtjF92agtqz2"
      },
      "id": "QtjF92agtqz2"
    },
    {
      "cell_type": "code",
      "source": [
        "response = client.chat.completions.create(\n",
        "    messages=[\n",
        "        {'role': 'system', 'content': 'You answer questions about the 2022 Winter Olympics.'},\n",
        "        {'role': 'user', 'content': query},\n",
        "    ],\n",
        "    model=GPT_MODEL,\n",
        "    temperature=0,\n",
        ")\n",
        "\n",
        "print(response.choices[0].message.content)"
      ],
      "metadata": {
        "id": "FMZkGsg5tZr6",
        "colab": {
          "base_uri": "https://localhost:8080/"
        },
        "outputId": "488db54e-7636-4f49-a0d4-8ffd45037cb5"
      },
      "id": "FMZkGsg5tZr6",
      "execution_count": null,
      "outputs": [
        {
          "output_type": "stream",
          "name": "stdout",
          "text": [
            "Sorry, I don't know.\n"
          ]
        }
      ]
    },
    {
      "cell_type": "markdown",
      "source": [
        "Wow, it worked. The model is being humble and honest 👀."
      ],
      "metadata": {
        "id": "TcklGziptw_m"
      },
      "id": "TcklGziptw_m"
    },
    {
      "cell_type": "markdown",
      "source": [
        "It is an interesting question as to why ChatGPT knew the High jump answer but not this. Let's check the [cutoff date](https://platform.openai.com/docs/models/gpt-3-5-turbo) for the training data."
      ],
      "metadata": {
        "id": "stSuIotb5Kh-"
      },
      "id": "stSuIotb5Kh-"
    },
    {
      "cell_type": "markdown",
      "source": [
        "## Using custom data"
      ],
      "metadata": {
        "id": "C-IRkW6NFSU8"
      },
      "id": "C-IRkW6NFSU8"
    },
    {
      "cell_type": "markdown",
      "id": "1af18d66-d47a-496d-ae5f-4c5d53caa434",
      "metadata": {
        "id": "1af18d66-d47a-496d-ae5f-4c5d53caa434"
      },
      "source": [
        "To help the model answer a question, we can provide relevant custom data **in the prompt itself**. This extra information we provide in the prompt is referred to as **context**.\n",
        "\n"
      ]
    },
    {
      "cell_type": "markdown",
      "source": [
        "### Manually enriching the prompt with custom data"
      ],
      "metadata": {
        "id": "R-d2d6tgF56x"
      },
      "id": "R-d2d6tgF56x"
    },
    {
      "cell_type": "markdown",
      "source": [
        "We will first show how to do this by ***manually*** finding and adding information (that's relevant to the question) to the prompt."
      ],
      "metadata": {
        "id": "SkCRjOHPF_YP"
      },
      "id": "SkCRjOHPF_YP"
    },
    {
      "cell_type": "markdown",
      "source": [
        "First, we will use the wikipedia article for the 2022 Winter Olympics curling event as context.\n",
        "\n",
        "Second, we will **explicitly tell the model to make use of the provided context**.\n",
        "\n",
        "There's a deeper lesson here: **telling LLMs explicitly what you want them to do often helps**"
      ],
      "metadata": {
        "id": "Il-5WnlKFwip"
      },
      "id": "Il-5WnlKFwip"
    },
    {
      "cell_type": "code",
      "source": [
        "# text copied and pasted from: https://en.wikipedia.org/wiki/Curling_at_the_2022_Winter_Olympics\n",
        "# Only the portion of the article up until the medalists is included.\n",
        "\n",
        "wikipedia_article_on_curling = \"\"\"Curling at the 2022 Winter Olympics\n",
        "\n",
        "Article\n",
        "Talk\n",
        "Read\n",
        "Edit\n",
        "View history\n",
        "From Wikipedia, the free encyclopedia\n",
        "Curling\n",
        "at the XXIV Olympic Winter Games\n",
        "Curling pictogram.svg\n",
        "Curling pictogram\n",
        "Venue\tBeijing National Aquatics Centre\n",
        "Dates\t2–20 February 2022\n",
        "No. of events\t3 (1 men, 1 women, 1 mixed)\n",
        "Competitors\t114 from 14 nations\n",
        "← 20182026 →\n",
        "Men's curling\n",
        "at the XXIV Olympic Winter Games\n",
        "Medalists\n",
        "1st place, gold medalist(s)\t\t Sweden\n",
        "2nd place, silver medalist(s)\t\t Great Britain\n",
        "3rd place, bronze medalist(s)\t\t Canada\n",
        "Women's curling\n",
        "at the XXIV Olympic Winter Games\n",
        "Medalists\n",
        "1st place, gold medalist(s)\t\t Great Britain\n",
        "2nd place, silver medalist(s)\t\t Japan\n",
        "3rd place, bronze medalist(s)\t\t Sweden\n",
        "Mixed doubles's curling\n",
        "at the XXIV Olympic Winter Games\n",
        "Medalists\n",
        "1st place, gold medalist(s)\t\t Italy\n",
        "2nd place, silver medalist(s)\t\t Norway\n",
        "3rd place, bronze medalist(s)\t\t Sweden\n",
        "Curling at the\n",
        "2022 Winter Olympics\n",
        "Curling pictogram.svg\n",
        "Qualification\n",
        "Statistics\n",
        "Tournament\n",
        "Men\n",
        "Women\n",
        "Mixed doubles\n",
        "vte\n",
        "The curling competitions of the 2022 Winter Olympics were held at the \\\n",
        "Beijing National Aquatics Centre, one of the Olympic Green venues. Curling \\\n",
        "competitions were scheduled for every day of the games, from February 2 to \\\n",
        "February 20.[1] This was the eighth time that curling was part of the Olympic \\\n",
        "program.\n",
        "\n",
        "In each of the men's, women's, and mixed doubles competitions, 10 nations \\\n",
        "competed. The mixed doubles competition was expanded for its second appearance \\\n",
        "in the Olympics.[2] A total of 120 quota spots (60 per sex) were distributed to \\\n",
        "the sport of curling, an increase of four from the 2018 Winter Olympics.[3] A \\\n",
        "total of 3 events were contested, one for men, one for women, and one mixed.[4]\n",
        "\n",
        "Qualification\n",
        "Main article: Curling at the 2022 Winter Olympics – Qualification\n",
        "Qualification to the Men's and Women's curling tournaments at the Winter \\\n",
        "Olympics was determined through two methods (in addition to the host nation).\\\n",
        " Nations qualified teams by placing in the top six at the 2021 World Curling \\\n",
        " Championships. Teams could also qualify through Olympic qualification events \\\n",
        " which were held in 2021. Six nations qualified via World Championship \\\n",
        " qualification placement, while three nations qualified through qualification \\\n",
        " events. In men's and women's play, a host will be selected for the Olympic \\\n",
        " Qualification Event (OQE). They would be joined by the teams which competed \\\n",
        " at the 2021 World Championships but did not qualify for the Olympics, and \\\n",
        " two qualifiers from the Pre-Olympic Qualification Event (Pre-OQE). The \\\n",
        " Pre-OQE was open to all member associations.[5]\n",
        "\n",
        "For the mixed doubles competition in 2022, the tournament field was expanded \\\n",
        "from eight competitor nations to ten.[2] The top seven ranked teams at the \\\n",
        "2021 World Mixed Doubles Curling Championship qualified, along with two teams \\\n",
        "from the Olympic Qualification Event (OQE) – Mixed Doubles. This OQE was open \\\n",
        "to a nominated host and the fifteen nations with the highest qualification \\\n",
        "points not already qualified to the Olympics. As the host nation, China \\\n",
        "qualified teams automatically, thus making a total of ten teams per event \\\n",
        "in the curling tournaments.[6]\n",
        "\n",
        "Summary\n",
        "Nations\tMen\tWomen\tMixed doubles\tAthletes\n",
        " Australia\t\t\tYes\t2\n",
        " Canada\tYes\tYes\tYes\t12\n",
        " China\tYes\tYes\tYes\t12\n",
        " Czech Republic\t\t\tYes\t2\n",
        " Denmark\tYes\tYes\t\t10\n",
        " Great Britain\tYes\tYes\tYes\t10\n",
        " Italy\tYes\t\tYes\t6\n",
        " Japan\t\tYes\t\t5\n",
        " Norway\tYes\t\tYes\t6\n",
        " ROC\tYes\tYes\t\t10\n",
        " South Korea\t\tYes\t\t5\n",
        " Sweden\tYes\tYes\tYes\t11\n",
        " Switzerland\tYes\tYes\tYes\t12\n",
        " United States\tYes\tYes\tYes\t11\n",
        "Total: 14 NOCs\t10\t10\t10\t114\n",
        "Competition schedule\n",
        "\n",
        "The Beijing National Aquatics Centre served as the venue of the curling \\\n",
        "competitions.\n",
        "Curling competitions started two days before the Opening Ceremony and finished \\\n",
        "on the last day of the games, meaning the sport was the only one to have had a \\\n",
        "competition every day of the games. The following was the competition schedule \\\n",
        "for the curling competitions:\n",
        "\n",
        "RR\tRound robin\tSF\tSemifinals\tB\t3rd place play-off\tF\tFinal\n",
        "Date\n",
        "Event\n",
        "Wed 2\tThu 3\tFri 4\tSat 5\tSun 6\tMon 7\tTue 8\tWed 9\tThu 10\tFri 11\tSat 12\tSun 13\t\\\n",
        "Mon 14\tTue 15\tWed 16\tThu 17\tFri 18\tSat 19\tSun 20\n",
        "Men's tournament\t\t\t\t\t\t\t\tRR\tRR\tRR\tRR\tRR\tRR\tRR\tRR\tRR\tSF\tB\tF\n",
        "Women's tournament\t\t\t\t\t\t\t\t\tRR\tRR\tRR\tRR\tRR\tRR\tRR\tRR\tSF\tB\tF\n",
        "Mixed doubles\tRR\tRR\tRR\tRR\tRR\tRR\tSF\tB\tF\n",
        "Medal summary\n",
        "Medal table\n",
        "Rank\tNation\tGold\tSilver\tBronze\tTotal\n",
        "1\t Great Britain\t1\t1\t0\t2\n",
        "2\t Sweden\t1\t0\t2\t3\n",
        "3\t Italy\t1\t0\t0\t1\n",
        "4\t Japan\t0\t1\t0\t1\n",
        " Norway\t0\t1\t0\t1\n",
        "6\t Canada\t0\t0\t1\t1\n",
        "Totals (6 entries)\t3\t3\t3\t9\n",
        "Medalists\n",
        "Event\tGold\tSilver\tBronze\n",
        "Men\n",
        "details\t Sweden\n",
        "Niklas Edin\n",
        "Oskar Eriksson\n",
        "Rasmus Wranå\n",
        "Christoffer Sundgren\n",
        "Daniel Magnusson\t Great Britain\n",
        "Bruce Mouat\n",
        "Grant Hardie\n",
        "Bobby Lammie\n",
        "Hammy McMillan Jr.\n",
        "Ross Whyte\t Canada\n",
        "Brad Gushue\n",
        "Mark Nichols\n",
        "Brett Gallant\n",
        "Geoff Walker\n",
        "Marc Kennedy\n",
        "Women\n",
        "details\t Great Britain\n",
        "Eve Muirhead\n",
        "Vicky Wright\n",
        "Jennifer Dodds\n",
        "Hailey Duff\n",
        "Mili Smith\t Japan\n",
        "Satsuki Fujisawa\n",
        "Chinami Yoshida\n",
        "Yumi Suzuki\n",
        "Yurika Yoshida\n",
        "Kotomi Ishizaki\t Sweden\n",
        "Anna Hasselborg\n",
        "Sara McManus\n",
        "Agnes Knochenhauer\n",
        "Sofia Mabergs\n",
        "Johanna Heldin\n",
        "Mixed doubles\n",
        "details\t Italy\n",
        "Stefania Constantini\n",
        "Amos Mosaner\t Norway\n",
        "Kristin Skaslien\n",
        "Magnus Nedregotten\t Sweden\n",
        "Almida de Val\n",
        "Oskar Eriksson\n",
        "\"\"\""
      ],
      "metadata": {
        "id": "TGAz2Dk4UNAU"
      },
      "id": "TGAz2Dk4UNAU",
      "execution_count": null,
      "outputs": []
    },
    {
      "cell_type": "code",
      "execution_count": null,
      "id": "fceaf665-2602-4788-bc44-9eb256a6f955",
      "metadata": {
        "id": "fceaf665-2602-4788-bc44-9eb256a6f955"
      },
      "outputs": [],
      "source": [
        "query = f\"\"\"Use the below article on the 2022 Winter Olympics to answer the \\\n",
        "subsequent question. Answer the question as truthfully as possible, and if \\\n",
        "you're unsure of the answer, say \"Sorry, I don't know\".\n",
        "\n",
        "Article:\n",
        "```\n",
        "{wikipedia_article_on_curling}\n",
        "```\n",
        "\n",
        "Question: Which teams won the gold medal in curling at the 2022 Winter Olympics?\"\"\"\n",
        "\n",
        "print(query)"
      ]
    },
    {
      "cell_type": "markdown",
      "source": [
        "Take a moment to notice what the prompt has grown to.\n",
        "\n",
        "\n",
        "OK, let's run it."
      ],
      "metadata": {
        "id": "8KwCoDatGsFm"
      },
      "id": "8KwCoDatGsFm"
    },
    {
      "cell_type": "code",
      "source": [
        "response = client.chat.completions.create(\n",
        "    messages=[\n",
        "        {'role': 'system', 'content': 'You answer questions about the Olympics.'},\n",
        "        {'role': 'user', 'content': query},\n",
        "    ],\n",
        "    model=GPT_MODEL,\n",
        "    temperature=0,\n",
        ")\n",
        "\n",
        "print(response.choices[0].message.content)"
      ],
      "metadata": {
        "id": "mfIYpFbg0tCI",
        "colab": {
          "base_uri": "https://localhost:8080/"
        },
        "outputId": "96252160-2e75-4be5-ae8c-56709cdfd5f5"
      },
      "id": "mfIYpFbg0tCI",
      "execution_count": null,
      "outputs": [
        {
          "output_type": "stream",
          "name": "stdout",
          "text": [
            "The teams that won the gold medal in curling at the 2022 Winter Olympics were:\n",
            "\n",
            "- Men's Curling: Sweden\n",
            "- Women's Curling: Great Britain\n",
            "- Mixed Doubles Curling: Italy\n"
          ]
        }
      ]
    },
    {
      "cell_type": "markdown",
      "source": [
        "Nicely done, `gpt-3.5-turbo`!\n",
        "\n",
        "---\n",
        "\n",
        "But maybe it wasn't super hard since the answer is literally in the context we provided.\n",
        "\n",
        "\n",
        "Let's make it a bit harder.\n",
        "\n",
        "\n",
        "I noticed that Oskar Eriksson actually won two medals in the event...which tempts me to ask whether any athlete won multiple medals.\n",
        "\n",
        "Let's try it."
      ],
      "metadata": {
        "id": "m4liRh5k04OA"
      },
      "id": "m4liRh5k04OA"
    },
    {
      "cell_type": "code",
      "source": [
        "query = f\"\"\"Use the below article on the 2022 Winter Olympics to answer \\\n",
        "the subsequent question. Answer the question as truthfully as possible, \\\n",
        "and if you're unsure of the answer, say \"Sorry, I don't know\"\n",
        "\n",
        "Article:\n",
        "```\n",
        "{wikipedia_article_on_curling}\n",
        "```\n",
        "\n",
        "Question: Did any athlete win multiple medals in curling at the 2022 Winter \\\n",
        "Olympics?\"\"\""
      ],
      "metadata": {
        "id": "qpI9mMx5JSW5"
      },
      "id": "qpI9mMx5JSW5",
      "execution_count": null,
      "outputs": []
    },
    {
      "cell_type": "markdown",
      "source": [
        "Notice that the question has changed. Everything else is unchanged."
      ],
      "metadata": {
        "id": "M8gAZxH-KVhx"
      },
      "id": "M8gAZxH-KVhx"
    },
    {
      "cell_type": "code",
      "source": [
        "response = client.chat.completions.create(\n",
        "    messages=[\n",
        "        {'role': 'system', 'content': 'You answer questions about the 2022 Winter Olympics.'},\n",
        "        {'role': 'user', 'content': query},\n",
        "    ],\n",
        "    model=GPT_MODEL,\n",
        "    temperature=0,\n",
        ")\n",
        "\n",
        "print(response.choices[0].message.content)"
      ],
      "metadata": {
        "id": "vai7XuvCJe-_",
        "colab": {
          "base_uri": "https://localhost:8080/"
        },
        "outputId": "e2fc2ca1-f2e4-4bc3-f78e-b365011bc15c"
      },
      "id": "vai7XuvCJe-_",
      "execution_count": null,
      "outputs": [
        {
          "output_type": "stream",
          "name": "stdout",
          "text": [
            "Yes, Oskar Eriksson from Sweden won multiple medals in curling at the 2022 Winter Olympics. He won a gold medal in the men's event and a bronze medal in the mixed doubles event.\n"
          ]
        }
      ]
    },
    {
      "cell_type": "markdown",
      "source": [
        "WHOAH!!!!\n",
        "\n",
        "👏 👍\n",
        "\n",
        "Google cannot do this. In fact, poor Oskar doesn't show up anywhere on the results page summary.\n",
        "\n",
        "\n",
        "\n",
        "---\n",
        "\n",
        "\n"
      ],
      "metadata": {
        "id": "I7C-ejVqKcpU"
      },
      "id": "I7C-ejVqKcpU"
    },
    {
      "cell_type": "markdown",
      "source": [
        "### RETRIEVAL AUGMENTED GENERATION: *Automatically* enriching the prompt with custom data\n",
        "\n",
        "\n",
        "\n"
      ],
      "metadata": {
        "id": "lsFc2fnWLHyK"
      },
      "id": "lsFc2fnWLHyK"
    },
    {
      "cell_type": "markdown",
      "id": "ee85ee77-d8d2-4788-b57e-0785f2d7e2e3",
      "metadata": {
        "id": "ee85ee77-d8d2-4788-b57e-0785f2d7e2e3"
      },
      "source": [
        "**Manually** adding extra information into the prompt obviously doesn't scale. So, we will now show how to **automatically** enrich the prompt with custom relevant data.\n",
        "\n",
        "First thing to note. We typically can't just include **all** the custom data into the prompt due to an important reason.\n",
        "\n",
        "The prompt for every model has a limit (called the **context window**) on how many tokens you can send in and get out. For `gpt-3.5-turbo`,  the context window is 16,385 tokens ([link](https://platform.openai.com/docs/models/gpt-3-5-turbo)).\n",
        "\n",
        "Note that the context window includes both the prompt and the response - **together**, they can't exceed 16,385 tokens. We will get deeper into this a bit later but for now, understand this is one key reason we can't include ALL data in the prompt. Another reason is expense. OpenAI charges by the token and these charges can easily add up.\n",
        "\n",
        "(BTW, GPT-4's context window is way bigger - it ranges up to 128K tokens, depending on the particular GPT-4 model)"
      ]
    },
    {
      "cell_type": "markdown",
      "source": [
        "If we can't include all the custom data, the logical thing to do is to only include data that's **relevant** to the question.\n",
        "\n",
        "How can we measure the relevance between a question and a piece of (our custom) data?\n",
        "\n",
        "Using pretrained contextual embeddings!\n",
        "\n",
        "\n",
        "\n",
        "---\n",
        "\n",
        "\n",
        "\n",
        "\n",
        "This is our overall process.\n",
        "\n"
      ],
      "metadata": {
        "id": "O2N4vj7pdaDh"
      },
      "id": "O2N4vj7pdaDh"
    },
    {
      "cell_type": "markdown",
      "source": [
        "**RETRIEVAL AUGMENTED GENERATION**\n",
        "\n",
        "**One-time setup**\n",
        "* Preprocess the custom dataset by splitting it into 'sections'\n",
        "* We calculate an embedding vector for each section using the `text-embedding-ada-002` model and store it somewhere handy\n",
        "\n",
        "\n",
        "**Each time we receive a question, we do this:**\n",
        "* We calculate an embedding vector for the question (again using the same `text-embedding-ada-002` model)\n",
        "* For each section in our custom dataset, we calculate the *cosine similarity* (more or less the dot-product) between that section's embedding vector and the question's embedding vector\n",
        "* We rank the sections from most-cosine-similar to the question to least-cosine-similar\n",
        "* Starting from the most-cosine-similar section, include as many sections into the prompt as can fit into the context window\n",
        "* Send the prompt into `gpt-3.5-turbo`."
      ],
      "metadata": {
        "id": "sEJbDq1EfHj3"
      },
      "id": "sEJbDq1EfHj3"
    },
    {
      "cell_type": "markdown",
      "source": [
        "![RAG](https://substackcdn.com/image/fetch/f_auto,q_auto:good,fl_progressive:steep/https%3A%2F%2Fsubstack-post-media.s3.amazonaws.com%2Fpublic%2Fimages%2F4063347e-8920-40c6-86b3-c520084b303c_1272x998.jpeg)"
      ],
      "metadata": {
        "id": "R78WL_sh5ago"
      },
      "id": "R78WL_sh5ago"
    },
    {
      "cell_type": "markdown",
      "source": [
        "Credit for 👆image: https://magazine.sebastianraschka.com/p/finetuning-large-language-models"
      ],
      "metadata": {
        "id": "-oUGGWsI5zeN"
      },
      "id": "-oUGGWsI5zeN"
    },
    {
      "cell_type": "markdown",
      "id": "0c9bfea5-a028-4191-b9f1-f210d76ec4e3",
      "metadata": {
        "id": "0c9bfea5-a028-4191-b9f1-f210d76ec4e3"
      },
      "source": [
        "#### One-time setup\n",
        "\n",
        "We first need to break up the custom dataset into \"sections\".\n",
        "\n",
        "Sections should be large enough to contain enough information to answer a question; but small enough to fit one or several into the `gpt-3.5-turbo` prompt.\n",
        "\n",
        "Approximately a paragraph of text is usually a good length, but you should experiment for your particular use case. In this example, Wikipedia articles are already grouped into headers, so we will use these to define our sections. This preprocessing (for a related dataset) has already been done in [this notebook](https://github.com/openai/openai-cookbook/blob/main/examples/fine-tuned_qa/olympics-1-collect-data.ipynb), so we will load the results and use them."
      ]
    },
    {
      "cell_type": "code",
      "execution_count": null,
      "id": "cc9c8d69-e234-48b4-87e3-935970e1523a",
      "metadata": {
        "id": "cc9c8d69-e234-48b4-87e3-935970e1523a"
      },
      "outputs": [],
      "source": [
        "# OpenAI has hosted the processed dataset, so we can download it directly without having to recreate it.\n",
        "# This dataset has already been split into 'chunks' (apparently one row for each section of the Wikipedia page)\n",
        "# and a contextual embedding for each chunk has been computed.\n",
        "# This file is ~200 MB, so may take a minute depending on your connection speed\n",
        "\n",
        "embeddings_path = \"https://cdn.openai.com/API/examples/data/winter_olympics_2022.csv\"\n",
        "\n",
        "df = pd.read_csv(embeddings_path)\n",
        "\n",
        "import ast  # for converting embeddings saved as strings to arrays\n",
        "df['embedding'] = df['embedding'].apply(ast.literal_eval)"
      ]
    },
    {
      "cell_type": "markdown",
      "source": [
        "Let's print out 5 randomly chosen chunks."
      ],
      "metadata": {
        "id": "pPEIe3Q8Pbud"
      },
      "id": "pPEIe3Q8Pbud"
    },
    {
      "cell_type": "code",
      "source": [
        "pd.set_option('display.max_colwidth', 500)\n",
        "df[['text']].sample(5)"
      ],
      "metadata": {
        "colab": {
          "base_uri": "https://localhost:8080/",
          "height": 362
        },
        "id": "KMGvMVoFQWy-",
        "outputId": "20b8dd47-0cd6-42d2-a32b-756c4c8f3c19"
      },
      "id": "KMGvMVoFQWy-",
      "execution_count": null,
      "outputs": [
        {
          "output_type": "execute_result",
          "data": {
            "text/plain": [
              "                                                                                                                                                                                                                                                                                                                                                                                                                                                                                                                     text\n",
              "5324  Russian Olympic Committee athletes at the 2022 Winter Olympics\\n\\n==Curling==\\n\\n===Men's tournament===\\n\\n{{main|Curling at the 2022 Winter Olympics – Men's tournament}}\\n\\nRussia has qualified their men's team (five athletes), by finishing in the top six teams in the [[2021 World Men's Curling Championship]].\\n\\n{{#lst:Curling at the 2022 Winter Olympics – Men's tournament|Standings}}\\n;Round robin\\nRussia had a [[Bye (sports)|bye]] in draws 5, 7 and 12.\\n{{Col-float-begin|style=width:45em...\n",
              "982   Freestyle skiing at the 2022 Winter Olympics\\n\\n==Medal summary==\\n\\n===Women's events===\\n\\n{| {{MedalistTable|type=Event|columns=2}}\\n|-style=\"vertical-align: top;\"\\n| Aerials<br />{{DetailsLink|Freestyle skiing at the 2022 Winter Olympics – Women's aerials}}\\n|{{flagIOCmedalist|[[Xu Mengtao]]|CHN|2022 Winter}} || 108.61\\n|{{flagIOCmedalist|[[Hanna Huskova]]|BLR|2022 Winter}} || 107.95\\n|{{flagIOCmedalist|[[Megan Nick]]|USA|2022 Winter}} || 93.76\\n|-style=\"vertical-align: top;\"\\n| Big air<...\n",
              "4750  Brandon Frazier\\n\\n== Career ==\\n\\n=== 2020–2021 season: New partnership, first Grand Prix title, and second national title ===\\n\\nOn April 1, Frazier announced that he was teaming up with [[Alexa Knierim]], whose husband and former partner [[Chris Knierim]] had opted to retire.<ref name=knierim-frazier/> The new pair started skating together in May 2020 due to restrictions caused by the [[COVID-19 pandemic]]. They began training in [[Irvine, California]], at [[Great Park Ice & FivePoint Are...\n",
              "931   Alexander Bolshunov\\n\\n==Career==\\n\\n===2019–20: Tour de Ski champion, World Cup overall winner===\\n\\nBolshunov started the [[2019–20 FIS Cross-Country World Cup]] by participating in the mini-event [[2019 Nordic Opening]], where he was positioned fifth in the overall ranking. He won the next stage in [[Lillehammer]] for the first time in the 30&nbsp;km skiathlon classic and freestyle event. Bolshunov entered the [[2019–20 Tour de Ski]] by reaching third place in 15&nbsp;km mass start freest...\n",
              "3069  Ice hockey at the 2022 Winter Olympics – Men's qualification\\n\\n==Final qualification==\\n\\n===Group E===\\n\\n| stadium     = [[Arena Riga]], [[Riga]]\\n| attendance  = 197\\n| shots1      = 22\\n| shots2      = 23\\n| penalties1  = 6\\n| penalties2  = 8\\n}}\\n{{Ice hockey box\\n| bg          = \\n| date        = 27 August 2021\\n| time        = 20:00\\n| team1       = '''{{ih-rt|LAT}}'''\\n| team2       = {{ih|HUN}}\\n| score       = 9–0\\n| periods     = (1–0, 0–0, 8–0)\\n| reference   = https://stats.iih..."
            ],
            "text/html": [
              "\n",
              "  <div id=\"df-304a0adf-96d4-4b09-9abf-3783017d3e8b\" class=\"colab-df-container\">\n",
              "    <div>\n",
              "<style scoped>\n",
              "    .dataframe tbody tr th:only-of-type {\n",
              "        vertical-align: middle;\n",
              "    }\n",
              "\n",
              "    .dataframe tbody tr th {\n",
              "        vertical-align: top;\n",
              "    }\n",
              "\n",
              "    .dataframe thead th {\n",
              "        text-align: right;\n",
              "    }\n",
              "</style>\n",
              "<table border=\"1\" class=\"dataframe\">\n",
              "  <thead>\n",
              "    <tr style=\"text-align: right;\">\n",
              "      <th></th>\n",
              "      <th>text</th>\n",
              "    </tr>\n",
              "  </thead>\n",
              "  <tbody>\n",
              "    <tr>\n",
              "      <th>5324</th>\n",
              "      <td>Russian Olympic Committee athletes at the 2022 Winter Olympics\\n\\n==Curling==\\n\\n===Men's tournament===\\n\\n{{main|Curling at the 2022 Winter Olympics – Men's tournament}}\\n\\nRussia has qualified their men's team (five athletes), by finishing in the top six teams in the [[2021 World Men's Curling Championship]].\\n\\n{{#lst:Curling at the 2022 Winter Olympics – Men's tournament|Standings}}\\n;Round robin\\nRussia had a [[Bye (sports)|bye]] in draws 5, 7 and 12.\\n{{Col-float-begin|style=width:45em...</td>\n",
              "    </tr>\n",
              "    <tr>\n",
              "      <th>982</th>\n",
              "      <td>Freestyle skiing at the 2022 Winter Olympics\\n\\n==Medal summary==\\n\\n===Women's events===\\n\\n{| {{MedalistTable|type=Event|columns=2}}\\n|-style=\"vertical-align: top;\"\\n| Aerials&lt;br /&gt;{{DetailsLink|Freestyle skiing at the 2022 Winter Olympics – Women's aerials}}\\n|{{flagIOCmedalist|[[Xu Mengtao]]|CHN|2022 Winter}} || 108.61\\n|{{flagIOCmedalist|[[Hanna Huskova]]|BLR|2022 Winter}} || 107.95\\n|{{flagIOCmedalist|[[Megan Nick]]|USA|2022 Winter}} || 93.76\\n|-style=\"vertical-align: top;\"\\n| Big air&lt;...</td>\n",
              "    </tr>\n",
              "    <tr>\n",
              "      <th>4750</th>\n",
              "      <td>Brandon Frazier\\n\\n== Career ==\\n\\n=== 2020–2021 season: New partnership, first Grand Prix title, and second national title ===\\n\\nOn April 1, Frazier announced that he was teaming up with [[Alexa Knierim]], whose husband and former partner [[Chris Knierim]] had opted to retire.&lt;ref name=knierim-frazier/&gt; The new pair started skating together in May 2020 due to restrictions caused by the [[COVID-19 pandemic]]. They began training in [[Irvine, California]], at [[Great Park Ice &amp; FivePoint Are...</td>\n",
              "    </tr>\n",
              "    <tr>\n",
              "      <th>931</th>\n",
              "      <td>Alexander Bolshunov\\n\\n==Career==\\n\\n===2019–20: Tour de Ski champion, World Cup overall winner===\\n\\nBolshunov started the [[2019–20 FIS Cross-Country World Cup]] by participating in the mini-event [[2019 Nordic Opening]], where he was positioned fifth in the overall ranking. He won the next stage in [[Lillehammer]] for the first time in the 30&amp;nbsp;km skiathlon classic and freestyle event. Bolshunov entered the [[2019–20 Tour de Ski]] by reaching third place in 15&amp;nbsp;km mass start freest...</td>\n",
              "    </tr>\n",
              "    <tr>\n",
              "      <th>3069</th>\n",
              "      <td>Ice hockey at the 2022 Winter Olympics – Men's qualification\\n\\n==Final qualification==\\n\\n===Group E===\\n\\n| stadium     = [[Arena Riga]], [[Riga]]\\n| attendance  = 197\\n| shots1      = 22\\n| shots2      = 23\\n| penalties1  = 6\\n| penalties2  = 8\\n}}\\n{{Ice hockey box\\n| bg          = \\n| date        = 27 August 2021\\n| time        = 20:00\\n| team1       = '''{{ih-rt|LAT}}'''\\n| team2       = {{ih|HUN}}\\n| score       = 9–0\\n| periods     = (1–0, 0–0, 8–0)\\n| reference   = https://stats.iih...</td>\n",
              "    </tr>\n",
              "  </tbody>\n",
              "</table>\n",
              "</div>\n",
              "    <div class=\"colab-df-buttons\">\n",
              "\n",
              "  <div class=\"colab-df-container\">\n",
              "    <button class=\"colab-df-convert\" onclick=\"convertToInteractive('df-304a0adf-96d4-4b09-9abf-3783017d3e8b')\"\n",
              "            title=\"Convert this dataframe to an interactive table.\"\n",
              "            style=\"display:none;\">\n",
              "\n",
              "  <svg xmlns=\"http://www.w3.org/2000/svg\" height=\"24px\" viewBox=\"0 -960 960 960\">\n",
              "    <path d=\"M120-120v-720h720v720H120Zm60-500h600v-160H180v160Zm220 220h160v-160H400v160Zm0 220h160v-160H400v160ZM180-400h160v-160H180v160Zm440 0h160v-160H620v160ZM180-180h160v-160H180v160Zm440 0h160v-160H620v160Z\"/>\n",
              "  </svg>\n",
              "    </button>\n",
              "\n",
              "  <style>\n",
              "    .colab-df-container {\n",
              "      display:flex;\n",
              "      gap: 12px;\n",
              "    }\n",
              "\n",
              "    .colab-df-convert {\n",
              "      background-color: #E8F0FE;\n",
              "      border: none;\n",
              "      border-radius: 50%;\n",
              "      cursor: pointer;\n",
              "      display: none;\n",
              "      fill: #1967D2;\n",
              "      height: 32px;\n",
              "      padding: 0 0 0 0;\n",
              "      width: 32px;\n",
              "    }\n",
              "\n",
              "    .colab-df-convert:hover {\n",
              "      background-color: #E2EBFA;\n",
              "      box-shadow: 0px 1px 2px rgba(60, 64, 67, 0.3), 0px 1px 3px 1px rgba(60, 64, 67, 0.15);\n",
              "      fill: #174EA6;\n",
              "    }\n",
              "\n",
              "    .colab-df-buttons div {\n",
              "      margin-bottom: 4px;\n",
              "    }\n",
              "\n",
              "    [theme=dark] .colab-df-convert {\n",
              "      background-color: #3B4455;\n",
              "      fill: #D2E3FC;\n",
              "    }\n",
              "\n",
              "    [theme=dark] .colab-df-convert:hover {\n",
              "      background-color: #434B5C;\n",
              "      box-shadow: 0px 1px 3px 1px rgba(0, 0, 0, 0.15);\n",
              "      filter: drop-shadow(0px 1px 2px rgba(0, 0, 0, 0.3));\n",
              "      fill: #FFFFFF;\n",
              "    }\n",
              "  </style>\n",
              "\n",
              "    <script>\n",
              "      const buttonEl =\n",
              "        document.querySelector('#df-304a0adf-96d4-4b09-9abf-3783017d3e8b button.colab-df-convert');\n",
              "      buttonEl.style.display =\n",
              "        google.colab.kernel.accessAllowed ? 'block' : 'none';\n",
              "\n",
              "      async function convertToInteractive(key) {\n",
              "        const element = document.querySelector('#df-304a0adf-96d4-4b09-9abf-3783017d3e8b');\n",
              "        const dataTable =\n",
              "          await google.colab.kernel.invokeFunction('convertToInteractive',\n",
              "                                                    [key], {});\n",
              "        if (!dataTable) return;\n",
              "\n",
              "        const docLinkHtml = 'Like what you see? Visit the ' +\n",
              "          '<a target=\"_blank\" href=https://colab.research.google.com/notebooks/data_table.ipynb>data table notebook</a>'\n",
              "          + ' to learn more about interactive tables.';\n",
              "        element.innerHTML = '';\n",
              "        dataTable['output_type'] = 'display_data';\n",
              "        await google.colab.output.renderOutput(dataTable, element);\n",
              "        const docLink = document.createElement('div');\n",
              "        docLink.innerHTML = docLinkHtml;\n",
              "        element.appendChild(docLink);\n",
              "      }\n",
              "    </script>\n",
              "  </div>\n",
              "\n",
              "\n",
              "<div id=\"df-c5517c30-5af9-4991-b227-25b9debe07a5\">\n",
              "  <button class=\"colab-df-quickchart\" onclick=\"quickchart('df-c5517c30-5af9-4991-b227-25b9debe07a5')\"\n",
              "            title=\"Suggest charts\"\n",
              "            style=\"display:none;\">\n",
              "\n",
              "<svg xmlns=\"http://www.w3.org/2000/svg\" height=\"24px\"viewBox=\"0 0 24 24\"\n",
              "     width=\"24px\">\n",
              "    <g>\n",
              "        <path d=\"M19 3H5c-1.1 0-2 .9-2 2v14c0 1.1.9 2 2 2h14c1.1 0 2-.9 2-2V5c0-1.1-.9-2-2-2zM9 17H7v-7h2v7zm4 0h-2V7h2v10zm4 0h-2v-4h2v4z\"/>\n",
              "    </g>\n",
              "</svg>\n",
              "  </button>\n",
              "\n",
              "<style>\n",
              "  .colab-df-quickchart {\n",
              "      --bg-color: #E8F0FE;\n",
              "      --fill-color: #1967D2;\n",
              "      --hover-bg-color: #E2EBFA;\n",
              "      --hover-fill-color: #174EA6;\n",
              "      --disabled-fill-color: #AAA;\n",
              "      --disabled-bg-color: #DDD;\n",
              "  }\n",
              "\n",
              "  [theme=dark] .colab-df-quickchart {\n",
              "      --bg-color: #3B4455;\n",
              "      --fill-color: #D2E3FC;\n",
              "      --hover-bg-color: #434B5C;\n",
              "      --hover-fill-color: #FFFFFF;\n",
              "      --disabled-bg-color: #3B4455;\n",
              "      --disabled-fill-color: #666;\n",
              "  }\n",
              "\n",
              "  .colab-df-quickchart {\n",
              "    background-color: var(--bg-color);\n",
              "    border: none;\n",
              "    border-radius: 50%;\n",
              "    cursor: pointer;\n",
              "    display: none;\n",
              "    fill: var(--fill-color);\n",
              "    height: 32px;\n",
              "    padding: 0;\n",
              "    width: 32px;\n",
              "  }\n",
              "\n",
              "  .colab-df-quickchart:hover {\n",
              "    background-color: var(--hover-bg-color);\n",
              "    box-shadow: 0 1px 2px rgba(60, 64, 67, 0.3), 0 1px 3px 1px rgba(60, 64, 67, 0.15);\n",
              "    fill: var(--button-hover-fill-color);\n",
              "  }\n",
              "\n",
              "  .colab-df-quickchart-complete:disabled,\n",
              "  .colab-df-quickchart-complete:disabled:hover {\n",
              "    background-color: var(--disabled-bg-color);\n",
              "    fill: var(--disabled-fill-color);\n",
              "    box-shadow: none;\n",
              "  }\n",
              "\n",
              "  .colab-df-spinner {\n",
              "    border: 2px solid var(--fill-color);\n",
              "    border-color: transparent;\n",
              "    border-bottom-color: var(--fill-color);\n",
              "    animation:\n",
              "      spin 1s steps(1) infinite;\n",
              "  }\n",
              "\n",
              "  @keyframes spin {\n",
              "    0% {\n",
              "      border-color: transparent;\n",
              "      border-bottom-color: var(--fill-color);\n",
              "      border-left-color: var(--fill-color);\n",
              "    }\n",
              "    20% {\n",
              "      border-color: transparent;\n",
              "      border-left-color: var(--fill-color);\n",
              "      border-top-color: var(--fill-color);\n",
              "    }\n",
              "    30% {\n",
              "      border-color: transparent;\n",
              "      border-left-color: var(--fill-color);\n",
              "      border-top-color: var(--fill-color);\n",
              "      border-right-color: var(--fill-color);\n",
              "    }\n",
              "    40% {\n",
              "      border-color: transparent;\n",
              "      border-right-color: var(--fill-color);\n",
              "      border-top-color: var(--fill-color);\n",
              "    }\n",
              "    60% {\n",
              "      border-color: transparent;\n",
              "      border-right-color: var(--fill-color);\n",
              "    }\n",
              "    80% {\n",
              "      border-color: transparent;\n",
              "      border-right-color: var(--fill-color);\n",
              "      border-bottom-color: var(--fill-color);\n",
              "    }\n",
              "    90% {\n",
              "      border-color: transparent;\n",
              "      border-bottom-color: var(--fill-color);\n",
              "    }\n",
              "  }\n",
              "</style>\n",
              "\n",
              "  <script>\n",
              "    async function quickchart(key) {\n",
              "      const quickchartButtonEl =\n",
              "        document.querySelector('#' + key + ' button');\n",
              "      quickchartButtonEl.disabled = true;  // To prevent multiple clicks.\n",
              "      quickchartButtonEl.classList.add('colab-df-spinner');\n",
              "      try {\n",
              "        const charts = await google.colab.kernel.invokeFunction(\n",
              "            'suggestCharts', [key], {});\n",
              "      } catch (error) {\n",
              "        console.error('Error during call to suggestCharts:', error);\n",
              "      }\n",
              "      quickchartButtonEl.classList.remove('colab-df-spinner');\n",
              "      quickchartButtonEl.classList.add('colab-df-quickchart-complete');\n",
              "    }\n",
              "    (() => {\n",
              "      let quickchartButtonEl =\n",
              "        document.querySelector('#df-c5517c30-5af9-4991-b227-25b9debe07a5 button');\n",
              "      quickchartButtonEl.style.display =\n",
              "        google.colab.kernel.accessAllowed ? 'block' : 'none';\n",
              "    })();\n",
              "  </script>\n",
              "</div>\n",
              "\n",
              "    </div>\n",
              "  </div>\n"
            ],
            "application/vnd.google.colaboratory.intrinsic+json": {
              "type": "dataframe",
              "summary": "{\n  \"name\": \"df[['text']]\",\n  \"rows\": 5,\n  \"fields\": [\n    {\n      \"column\": \"text\",\n      \"properties\": {\n        \"dtype\": \"string\",\n        \"num_unique_values\": 5,\n        \"samples\": [\n          \"Freestyle skiing at the 2022 Winter Olympics\\n\\n==Medal summary==\\n\\n===Women's events===\\n\\n{| {{MedalistTable|type=Event|columns=2}}\\n|-style=\\\"vertical-align: top;\\\"\\n| Aerials<br />{{DetailsLink|Freestyle skiing at the 2022 Winter Olympics \\u2013 Women's aerials}}\\n|{{flagIOCmedalist|[[Xu Mengtao]]|CHN|2022 Winter}} || 108.61\\n|{{flagIOCmedalist|[[Hanna Huskova]]|BLR|2022 Winter}} || 107.95\\n|{{flagIOCmedalist|[[Megan Nick]]|USA|2022 Winter}} || 93.76\\n|-style=\\\"vertical-align: top;\\\"\\n| Big air<br />{{DetailsLink|Freestyle skiing at the 2022 Winter Olympics \\u2013 Women's big air}}\\n|{{flagIOCmedalist|[[Eileen Gu]]|CHN|2022 Winter}} || 188.25\\n|{{flagIOCmedalist|[[Tess Ledeux]]|FRA|2022 Winter}} || 187.50\\n|{{flagIOCmedalist|[[Mathilde Gremaud]]|SUI|2022 Winter}} || 182.50\\n|-style=\\\"vertical-align: top;\\\"\\n| Halfpipe<br />{{DetailsLink|Freestyle skiing at the 2022 Winter Olympics \\u2013 Women's halfpipe}}\\n|{{flagIOCmedalist|[[Eileen Gu]]|CHN|2022 Winter}} || 95.25\\n|{{flagIOCmedalist|[[Cassie Sharpe]]|CAN|2022 Winter}} || 90.75\\n|{{flagIOCmedalist|[[Rachael Karker]]|CAN|2022 Winter}} || 87.75\\n|-style=\\\"vertical-align: top;\\\"\\n| Slopestyle<br />{{DetailsLink|Freestyle skiing at the 2022 Winter Olympics \\u2013 Women's slopestyle}}\\n|{{flagIOCmedalist|[[Mathilde Gremaud]]|SUI|2022 Winter}} || 86.56 \\n|{{flagIOCmedalist|[[Eileen Gu]]|CHN|2022 Winter}} || 86.23 \\n|{{flagIOCmedalist|[[Kelly Sildaru]]|EST|2022 Winter}} || 82.06 \\n|-style=\\\"vertical-align: top;\\\"\\n| Moguls<br />{{DetailsLink|Freestyle skiing at the 2022 Winter Olympics \\u2013 Women's moguls}}\\n| {{flagIOCmedalist|[[Jakara Anthony]]|AUS|2022 Winter}} || 83.09\\n| {{flagIOCmedalist|[[Jaelin Kauf]]|USA|2022 Winter}} || 80.28\\n| {{flagIOCmedalist|[[Anastasia Smirnova (freestyle skier)|Anastasia Smirnova]]|ROC|2022 Winter}} || 77.72\\n|-style=\\\"vertical-align: top;\\\" \\n| Ski cross{{ref label|a|note|note}}<br />{{DetailsLink|Freestyle skiing at the 2022 Winter Olympics \\u2013 Women's ski cross}}\\n|colspan=2|{{flagIOCmedalist|[[Sandra N\\u00e4slund]]|SWE|2022 Winter}}\\n|colspan=2|{{flagIOCmedalist|[[Marielle Thompson]]|CAN|2022 Winter}}\\n|colspan=2|{{flagIOCmedalist|[[Daniela Maier]]|GER|2022 Winter}}<br>{{flagIOCmedalist|[[Fanny Smith]]|SUI|2022 Winter}}\\n|}\",\n          \"Ice hockey at the 2022 Winter Olympics \\u2013 Men's qualification\\n\\n==Final qualification==\\n\\n===Group E===\\n\\n| stadium     = [[Arena Riga]], [[Riga]]\\n| attendance  = 197\\n| shots1      = 22\\n| shots2      = 23\\n| penalties1  = 6\\n| penalties2  = 8\\n}}\\n{{Ice hockey box\\n| bg          = \\n| date        = 27 August 2021\\n| time        = 20:00\\n| team1       = '''{{ih-rt|LAT}}'''\\n| team2       = {{ih|HUN}}\\n| score       = 9\\u20130\\n| periods     = (1\\u20130, 0\\u20130, 8\\u20130)\\n| reference   = https://stats.iihf.com/Hydra/900/IHM900904_74_3_0.pdf\\n| goalie1     = [[Ivars Punnenovs]]\\n| goalie2     = [[Zolt\\u00e1n Het\\u00e9nyi]]\\n| progression = 1\\u20130 / 2\\u20130 / 3\\u20130 / 4\\u20130 / 5\\u20130 / 6\\u20130 / 7\\u20130 / 8\\u20130 / 9\\u20130\\n| goals1      = [[Rodrigo \\u0100bols|\\u0100bols]] ([[J\\u0101nis Jaks|Jaks]], [[Ronalds \\u0136\\u0113ni\\u0146\\u0161|Kenins]]) (PP) \\u2013 07:18 / [[Rudolfs Balcers|Balcers]] (Kenins) \\u2013 40:32 / Kenins (Balcers) \\u2013 42:51 / [[Teodors Blugers|Blugers]] (Balcers, [[Lauris D\\u0101rzi\\u0146\\u0161|D\\u0101rzi\\u0146\\u0161]]) (PP) \\u2013 51:54 / \\u0100bols (Kenins, [[Roberts Bukarts|Ro. Bukarts]]) (PP) \\u2013 54:35 / Balcers (Kenins) \\u2013 54:58 / Blugers \\u2013 56:31 / Balcers (D\\u0101rzi\\u0146\\u0161, [[Miks Indra\\u0161is|Indra\\u0161is]]) (PP) \\u2013 58:23 / Kenins (Balcers,  \\u0100bols) \\u2013 58:36\\n| goals2      = \\n| official    = {{flagicon|BLR}} Maxim Sidorenko\\n| official2   = {{flagicon|AUT}} Christoph Sternat\\n| linesman    = {{flagicon|AUT}} Simon Riecken\\n| linesman2   = {{flagicon|RUS}} Dmitri Shishlo\\n| stadium     = [[Arena Riga]], [[Riga]]\\n| attendance  = 3,250\\n| shots1      = 45\\n| shots2      = 17\\n| penalties1  = 0\\n| penalties2  = 14\\n}}\\n----\\n{{Ice hockey box\\n| bg          = \\n| date        = 29 August 2021\\n| time        = 13:00\\n| team1       = '''{{ih-rt|HUN}}'''\\n| team2       = {{ih|ITA}}\\n| score       = 2\\u20131\\n| periods     = (0\\u20130, 1\\u20130, 1\\u20131)\\n| reference   = https://stats.iihf.com/Hydra/900/IHM900905_74_3_0.pdf\\n| goalie1     = [[Mikl\\u00f3s Rajna]]\\n| goalie2     = [[Andreas Bernard]]\\n| progression = 1\\u20130 / 2\\u20130 / 2\\u20131\\n| goals1      = [[Gerg\\u0151 Nagy (ice hockey)|Nagy]] ([[Istv\\u00e1n Sofron|Sofron]], [[Bence Stipsicz|Stipsicz]]) (PP) \\u2013 38:13 / [[\\u00c1kos Mih\\u00e1ly|Mih\\u00e1ly]] ([[Istv\\u00e1n Bartalis|Bartalis]]) \\u2013 47:23\\n| goals2      = 53:07 \\u2013 [[Giovanni Morini|Morini]] ([[Luca Frigo|Frigo]], [[Simon Kostner|Kostner]])\\n| official    = {{flagicon|GER}} Andr\\u00e9 Schrader\\n| official2   = {{flagicon|AUT}} Christoph Sternat\\n| linesman    = {{flagicon|AUT}} Simon Riecken\\n| linesman2   = {{flagicon|NOR}} Alexander Waldejer\\n| stadium     = [[Arena Riga]], [[Riga]]\\n| attendance  = 460\\n| shots1      = 24\\n| shots2      = 30\\n| penalties1  = 14\\n| penalties2  = 10\\n}}\\n{{Ice hockey box\\n| bg          = \\n| date        = 29 August 2021\\n| time        = 17:00\\n| team1       = '''{{ih-rt|LAT}}'''\\n| team2       = {{ih|FRA}}\\n| score       = 2\\u20131\\n| periods     = (1\\u20130, 0\\u20130, 1\\u20131)\\n| reference   = https://stats.iihf.com/Hydra/900/IHM900906_74_3_0.pdf\\n| goalie1     = [[Ivars Punnenovs]]\\n| goalie2     = [[Henri-Corentin Buysse]]\\n| progression = 1\\u20130 / 2\\u20130 / 2\\u20131\\n| goals1      = [[Rihards Bukarts|Ri. Bukarts]] \\u2013 10:56 / [[Miks Indra\\u0161is|Indra\\u0161is]] ([[Teodors B\\u013cugers|B\\u013cugers]], [[Uvis J\\u0101nis Balinskis|Balinskis]]) (PP) \\u2013 45:50\\n| goals2      = 51:15 \\u2013 [[St\\u00e9phane Da Costa|Da Costa]]\\n| official    = {{flagicon|FIN}} Mikko Kaukokari\\n| official2   = {{flagicon|BLR}} Maxim Sidorenko\\n| linesman    = {{flagicon|FIN}} Lauri Nikulainen\\n| linesman2   = {{flagicon|RUS}} Dmitri Shishlo\\n| stadium     = [[Arena Riga]], [[Riga]]\\n| attendance  = 7,954\\n| shots1      = 26\\n| shots2      = 30\\n| penalties1  = 8\\n| penalties2  = 8\\n}}\",\n          \"Brandon Frazier\\n\\n== Career ==\\n\\n=== 2020\\u20132021 season: New partnership, first Grand Prix title, and second national title ===\\n\\nOn April 1, Frazier announced that he was teaming up with [[Alexa Knierim]], whose husband and former partner [[Chris Knierim]] had opted to retire.<ref name=knierim-frazier/> The new pair started skating together in May 2020 due to restrictions caused by the [[COVID-19 pandemic]]. They began training in [[Irvine, California]], at [[Great Park Ice & FivePoint Arena|Great Park Ice]], with coaches [[Todd Sand]], [[Jenni Meno]], [[Rafael Arutunian]], [[Chris Knierim]], and Christine Binder. They also took lessons remotely from coach [[Nina Mozer]].<ref name=USFS-AKBF/>\\n\\nKnierim/Frazier won the gold medal in their [[2020-21 ISU Grand Prix of Figure Skating|Grand Prix debut]] at [[2020 Skate America]], which also marked their competitive debut as a pair. This event was attended by skaters training in the United States due to travel restrictions caused by the [[COVID-19 pandemic]].<ref name=IFS201020/> The pair skated strongly and solidly in both programs, placing 1st in the short program with a score of 74.19 and 1st the free skate with a score of 140.58, for a total of 214.77 to earn their first Grand Prix title.<ref name=GS201024/><ref name=GS201026/>\\n\\nAt the [[2021 U.S. Figure Skating Championships|2021 U.S. Championships]] in January, Knierim/Frazier won their first national title together with a score of 228.10, the highest score ever achieved in U.S. competition. They placed 1st in the short program with a score of 77.46 and 1st in the free skate with a score of 150.64, setting new U.S. Championship records in both segments. They won the gold medal by a dominant 23-point margin with two strong and well-executed programs. Frazier is the first male U.S. pair skater to win national titles with two different partners since 2012.<ref name=NBC11621/>\\n\\nAt the [[2021_World_Figure_Skating_Championships|2021 World Championships]] in March, Knierim/Frazier placed 7th in their Worlds debut. They skated well enough to finish 7th in both segments of the competition, despite Frazier doubling his planned triple jump in the short program and the pair counting multiple errors in the free skate.<ref name=GS210324/> This was the best result by a U.S. pair since 2015 when Knierim achieved the same placement with her former partner.<ref name=GS210326/>\\n\\nIn April, Knierim/Frazier competed at the [[2021 ISU World Team Trophy in Figure Skating|2021 World Team Trophy]] and helped Team USA win the silver medal. They placed second among the pairs after finishing fourth in the short program and second in the free skate. Their free skate score was the highest score a U.S. pair has ever received from an international judging panel under the current judging system.<ref name=US41721/>\"\n        ],\n        \"semantic_type\": \"\",\n        \"description\": \"\"\n      }\n    }\n  ]\n}"
            }
          },
          "metadata": {},
          "execution_count": 15
        }
      ]
    },
    {
      "cell_type": "markdown",
      "source": [
        "Next, we define a function to calculate the embedding using the `text-embedding-ada-002` model, given a piece of text. The API call is simple (see below). [Link](https://openai.com/blog/new-and-improved-embedding-model)."
      ],
      "metadata": {
        "id": "ygZKOYP6hFvO"
      },
      "id": "ygZKOYP6hFvO"
    },
    {
      "cell_type": "code",
      "execution_count": null,
      "id": "ba475f30-ef7f-431c-b60d-d5970b62ad09",
      "metadata": {
        "id": "ba475f30-ef7f-431c-b60d-d5970b62ad09"
      },
      "outputs": [],
      "source": [
        "def get_embedding(text: str, model: str=EMBEDDING_MODEL) -> list[float]:\n",
        "    result = client.embeddings.create(\n",
        "      model=EMBEDDING_MODEL,  # which embedding model we want to use\n",
        "      input=text,            # feed in the text for which you want to calc the embedding\n",
        "    )\n",
        "    return result.data[0].embedding"
      ]
    },
    {
      "cell_type": "markdown",
      "source": [
        "Let's try it on \"HODL is amazing!!\" 😃"
      ],
      "metadata": {
        "id": "Gm_jlpKEIY2f"
      },
      "id": "Gm_jlpKEIY2f"
    },
    {
      "cell_type": "code",
      "source": [
        "e = get_embedding(\"HODL is amazing!!\")"
      ],
      "metadata": {
        "id": "60l0L2BwIfd4"
      },
      "id": "60l0L2BwIfd4",
      "execution_count": null,
      "outputs": []
    },
    {
      "cell_type": "markdown",
      "source": [
        "Let's see how long the embedding vector is."
      ],
      "metadata": {
        "id": "U1hadXcQiOq5"
      },
      "id": "U1hadXcQiOq5"
    },
    {
      "cell_type": "code",
      "source": [
        "len(e)"
      ],
      "metadata": {
        "id": "3Ohnow38iuj9",
        "colab": {
          "base_uri": "https://localhost:8080/"
        },
        "outputId": "6ce9d7b6-78de-4897-ec69-c4ff85c3606c"
      },
      "id": "3Ohnow38iuj9",
      "execution_count": null,
      "outputs": [
        {
          "output_type": "execute_result",
          "data": {
            "text/plain": [
              "1536"
            ]
          },
          "metadata": {},
          "execution_count": 39
        }
      ]
    },
    {
      "cell_type": "code",
      "source": [
        "f = get_embedding(\"HODL is incredible!!\")"
      ],
      "metadata": {
        "id": "4XDc41gHNpyi"
      },
      "id": "4XDc41gHNpyi",
      "execution_count": null,
      "outputs": []
    },
    {
      "cell_type": "markdown",
      "source": [
        "Let's calculate the cosine similarity. The `scipy.spatial.distance.cosine` function is handy here."
      ],
      "metadata": {
        "id": "TpGeo8e9NyPT"
      },
      "id": "TpGeo8e9NyPT"
    },
    {
      "cell_type": "code",
      "source": [
        "from scipy import spatial  # for calculating cosine similarities for search\n",
        "\n",
        "1-spatial.distance.cosine(e, f)"
      ],
      "metadata": {
        "colab": {
          "base_uri": "https://localhost:8080/"
        },
        "id": "zAwsfqyBNx1o",
        "outputId": "6e4b7bcb-f56d-46e9-dfd4-434a209cf535"
      },
      "id": "zAwsfqyBNx1o",
      "execution_count": null,
      "outputs": [
        {
          "output_type": "execute_result",
          "data": {
            "text/plain": [
              "0.9934264140022533"
            ]
          },
          "metadata": {},
          "execution_count": 41
        }
      ]
    },
    {
      "cell_type": "markdown",
      "source": [
        "Given a dataframe like `df` with a column of text chunks, we can use the `get_embedding` function to calculate the embeddings for all the text chunks in the column."
      ],
      "metadata": {
        "id": "Dm1_rELVhRQO"
      },
      "id": "Dm1_rELVhRQO"
    },
    {
      "cell_type": "code",
      "source": [
        "def compute_doc_embeddings(df: pd.DataFrame) -> dict[tuple[str, str], list[float]]:\n",
        "    \"\"\"\n",
        "    Create an embedding for each row in the dataframe using the OpenAI Embeddings API.\n",
        "\n",
        "    Return a dictionary that maps between each embedding vector and the index of the row that it corresponds to.\n",
        "    \"\"\"\n",
        "    return {\n",
        "        idx: get_embedding(r.text) for idx, r in df.iterrows()\n",
        "    }"
      ],
      "metadata": {
        "id": "kg73ks73hEip"
      },
      "id": "kg73ks73hEip",
      "execution_count": null,
      "outputs": []
    },
    {
      "cell_type": "markdown",
      "source": [
        "To calculate the embeddings from scratch, uncomment the below line and run. Warning - it will take some time!"
      ],
      "metadata": {
        "id": "d-oqqBSN8KKX"
      },
      "id": "d-oqqBSN8KKX"
    },
    {
      "cell_type": "code",
      "source": [
        "#document_embeddings = compute_doc_embeddings(df)\n"
      ],
      "metadata": {
        "id": "k-07jQpM8Ios"
      },
      "id": "k-07jQpM8Ios",
      "execution_count": null,
      "outputs": []
    },
    {
      "cell_type": "markdown",
      "id": "cfe9c723-f838-4c75-8ed8-286b2e491a60",
      "metadata": {
        "id": "cfe9c723-f838-4c75-8ed8-286b2e491a60"
      },
      "source": [
        "But happily for us, OpenAI has calculated the embeddings for us so we don't have to; in fact, these are already avaiable in the embedding column of the dataframe `df` we downloaded."
      ]
    },
    {
      "cell_type": "code",
      "source": [
        "df.sample(5)"
      ],
      "metadata": {
        "colab": {
          "base_uri": "https://localhost:8080/",
          "height": 1000
        },
        "id": "ufCTcT-OQOAy",
        "outputId": "446770f3-8d82-4961-ba6a-35b876402c04"
      },
      "id": "ufCTcT-OQOAy",
      "execution_count": null,
      "outputs": [
        {
          "output_type": "execute_result",
          "data": {
            "text/plain": [
              "                                                                                                                                                                                                                                                                                                                                                                                                                                                                                                                     text  \\\n",
              "1363  Oslo bid for the 2022 Winter Olympics\\n\\n{{Olympic bid|2022|Winter|\\n| Paralympics = yes\\n| logo = File:2022 Oslo Olympic bid logo.svg\\n| logo-size =  200px\\n| fullname = [[Oslo]], [[Norway]]\\n| chair = [[Stian Berger Røsland]] (President)<br /> Eli Grimsby (CEO)\\n| committee = [[Norwegian Olympic and Paralympic Committee and Confederation of Sports]] (NOR)\\n| history = Hosted the [[1952 Winter Olympics]]\\n}}\\n\\n'''Oslo 2022 Winter Olympics''' was a campaign by the private organization [[Nor...   \n",
              "3391  Kaori Sakamoto\\n\\n== Skating career ==\\n\\n===Senior career===\\n\\n==== 2019–2020 season: Struggles ====\\n\\nSakamoto began the season at the [[2019 CS Ondrej Nepela Memorial]], where she won the silver medal, her first [[ISU Challenger Series|Challenger]] medal.\\n\\nBeginning on the [[2019-20 ISU Grand Prix of Figure Skating|Grand Prix]] at [[2019 Skate America]], Sakamoto placed second in the short program and fourth in the free skate after popping two of her jumps and finished the event fourt...   \n",
              "1652  Estonia at the 2022 Winter Olympics\\n\\n==Cross-country skiing==\\n\\n{{main article|Cross-country skiing at the 2022 Winter Olympics|Cross-country skiing at the 2022 Winter Olympics – Qualification}}\\nEstonia qualified four male and five female cross-country skiers.\\n\\n;Distance\\n{|class=wikitable style=font-size:90%;text-align:center\\n|-\\n!rowspan=2|Athlete\\n!rowspan=2|Event\\n!colspan=2|Classical\\n!colspan=2|Freestyle\\n!colspan=3|Final\\n|-style=\"font-size: 95%\"\\n!Time\\n!Rank\\n!Time\\n!Rank\\n!T...   \n",
              "22                                                                                                                                                                                                                                                                                                      Aleksandr Galliamov\\n\\n== Competitive highlights ==\\n\\n''GP: [[ISU Grand Prix of Figure Skating|Grand Prix]]; CS: [[ISU Challenger Series|Challenger Series]]; JGP: [[ISU Junior Grand Prix|Junior Grand Prix]]''   \n",
              "2594  Sui Wenjing\\n\\n==Competitive highlights==\\n\\n===With Han===\\n\\n{| class=\"wikitable\" style=\"text-align:center\"\\n|-\\n! colspan=15 style=\"background-color: #ffdead; \" align=\"center\" | '''International'''<ref name=\"isucrWSCH\" />\\n|-\\n! Event\\n! [[2008–09 figure skating season|08–09]]\\n! [[2009–10 figure skating season|09–10]]\\n! [[2010–11 figure skating season|10–11]]\\n! [[2011–12 figure skating season|11–12]]\\n! [[2012–13 figure skating season|12–13]]\\n! [[2013–14 figure skating season|13–14]]\\...   \n",
              "\n",
              "                                                                                                                                                                                                                                                                                                                                                                                                                                                                                                                embedding  \n",
              "1363  [-0.011376652866601944, -0.013184035196900368, -0.020387277007102966, 0.004955514799803495, -0.015931256115436554, 0.021780604496598244, -0.01991407200694084, 0.004541459959000349, -0.028313471004366875, -0.017889803275465965, 0.020794760435819626, 0.02089991606771946, -0.005530591122806072, -0.04329831898212433, -0.020965639501810074, -0.016969680786132812, 0.02557939477264881, 0.009766438975930214, 0.00032081041717901826, -0.0019010379910469055, -0.013841265812516212, -0.005507587920874357...  \n",
              "3391  [-0.0020558552350848913, 0.004040032625198364, 0.016055870801210403, -0.018558084964752197, -0.014205276034772396, 0.004424487240612507, -0.009181300178170204, -0.002492439467459917, -0.022141985595226288, -0.03531770408153534, 0.018922992050647736, 0.00676379632204771, -0.008262517862021923, -0.025569496676325798, -0.011963709257543087, -0.024709360674023628, 0.018375631421804428, -0.020656295120716095, 0.010823377408087254, -0.026950927451252937, -0.007845482788980007, 0.006718183401972055...  \n",
              "1652  [-0.01062480453401804, -0.006469001527875662, -0.005809508264064789, -0.0009246165282092988, -0.034916702657938004, 0.043983906507492065, -0.03584463149309158, -0.00931907445192337, 0.0003173191216774285, -0.028235601261258125, 0.01973840780556202, 0.027228133752942085, -0.003701779991388321, -0.02834165096282959, -0.010492243804037571, -0.005773053504526615, 0.01927444338798523, -0.005166584625840187, -0.007324023172259331, -0.016530420631170273, -0.012069725431501865, 0.0327426940202713, 0...  \n",
              "22    [-0.020467450842261314, 0.022396815940737724, 0.020980149507522583, -0.02320633828639984, -0.021223006770014763, 0.027294432744383812, -0.027739670127630234, -0.009478170424699783, -0.02102062478661537, -0.03823649138212204, 0.020764276385307312, 0.016811104491353035, -0.00897221826016903, -0.022923005744814873, 0.010672217234969139, -0.006381743121892214, 0.020629355683922768, -0.012109121307730675, 0.006479560863226652, -0.006948409602046013, 0.0014891858445480466, 0.009984122589230537, 0....  \n",
              "2594  [0.0005034424248151481, 0.004824342671781778, 0.030532967299222946, -0.0019635511562228203, -0.014837951399385929, 0.006294076796621084, -0.020824018865823746, -0.01059949304908514, -0.014529943466186523, -0.05453081056475639, 0.02655564621090889, 0.024988824501633644, -0.0016480102203786373, -0.009186673909425735, -0.009481290355324745, 0.009146498516201973, 0.023180950433015823, -0.025604840368032455, -0.0009432745282538235, -0.03155073523521423, -0.031229333952069283, 0.007070792373269796...  "
            ],
            "text/html": [
              "\n",
              "  <div id=\"df-a4f0b9f9-0f97-4fce-b55c-1a3567ae9dc4\" class=\"colab-df-container\">\n",
              "    <div>\n",
              "<style scoped>\n",
              "    .dataframe tbody tr th:only-of-type {\n",
              "        vertical-align: middle;\n",
              "    }\n",
              "\n",
              "    .dataframe tbody tr th {\n",
              "        vertical-align: top;\n",
              "    }\n",
              "\n",
              "    .dataframe thead th {\n",
              "        text-align: right;\n",
              "    }\n",
              "</style>\n",
              "<table border=\"1\" class=\"dataframe\">\n",
              "  <thead>\n",
              "    <tr style=\"text-align: right;\">\n",
              "      <th></th>\n",
              "      <th>text</th>\n",
              "      <th>embedding</th>\n",
              "    </tr>\n",
              "  </thead>\n",
              "  <tbody>\n",
              "    <tr>\n",
              "      <th>1363</th>\n",
              "      <td>Oslo bid for the 2022 Winter Olympics\\n\\n{{Olympic bid|2022|Winter|\\n| Paralympics = yes\\n| logo = File:2022 Oslo Olympic bid logo.svg\\n| logo-size =  200px\\n| fullname = [[Oslo]], [[Norway]]\\n| chair = [[Stian Berger Røsland]] (President)&lt;br /&gt; Eli Grimsby (CEO)\\n| committee = [[Norwegian Olympic and Paralympic Committee and Confederation of Sports]] (NOR)\\n| history = Hosted the [[1952 Winter Olympics]]\\n}}\\n\\n'''Oslo 2022 Winter Olympics''' was a campaign by the private organization [[Nor...</td>\n",
              "      <td>[-0.011376652866601944, -0.013184035196900368, -0.020387277007102966, 0.004955514799803495, -0.015931256115436554, 0.021780604496598244, -0.01991407200694084, 0.004541459959000349, -0.028313471004366875, -0.017889803275465965, 0.020794760435819626, 0.02089991606771946, -0.005530591122806072, -0.04329831898212433, -0.020965639501810074, -0.016969680786132812, 0.02557939477264881, 0.009766438975930214, 0.00032081041717901826, -0.0019010379910469055, -0.013841265812516212, -0.005507587920874357...</td>\n",
              "    </tr>\n",
              "    <tr>\n",
              "      <th>3391</th>\n",
              "      <td>Kaori Sakamoto\\n\\n== Skating career ==\\n\\n===Senior career===\\n\\n==== 2019–2020 season: Struggles ====\\n\\nSakamoto began the season at the [[2019 CS Ondrej Nepela Memorial]], where she won the silver medal, her first [[ISU Challenger Series|Challenger]] medal.\\n\\nBeginning on the [[2019-20 ISU Grand Prix of Figure Skating|Grand Prix]] at [[2019 Skate America]], Sakamoto placed second in the short program and fourth in the free skate after popping two of her jumps and finished the event fourt...</td>\n",
              "      <td>[-0.0020558552350848913, 0.004040032625198364, 0.016055870801210403, -0.018558084964752197, -0.014205276034772396, 0.004424487240612507, -0.009181300178170204, -0.002492439467459917, -0.022141985595226288, -0.03531770408153534, 0.018922992050647736, 0.00676379632204771, -0.008262517862021923, -0.025569496676325798, -0.011963709257543087, -0.024709360674023628, 0.018375631421804428, -0.020656295120716095, 0.010823377408087254, -0.026950927451252937, -0.007845482788980007, 0.006718183401972055...</td>\n",
              "    </tr>\n",
              "    <tr>\n",
              "      <th>1652</th>\n",
              "      <td>Estonia at the 2022 Winter Olympics\\n\\n==Cross-country skiing==\\n\\n{{main article|Cross-country skiing at the 2022 Winter Olympics|Cross-country skiing at the 2022 Winter Olympics – Qualification}}\\nEstonia qualified four male and five female cross-country skiers.\\n\\n;Distance\\n{|class=wikitable style=font-size:90%;text-align:center\\n|-\\n!rowspan=2|Athlete\\n!rowspan=2|Event\\n!colspan=2|Classical\\n!colspan=2|Freestyle\\n!colspan=3|Final\\n|-style=\"font-size: 95%\"\\n!Time\\n!Rank\\n!Time\\n!Rank\\n!T...</td>\n",
              "      <td>[-0.01062480453401804, -0.006469001527875662, -0.005809508264064789, -0.0009246165282092988, -0.034916702657938004, 0.043983906507492065, -0.03584463149309158, -0.00931907445192337, 0.0003173191216774285, -0.028235601261258125, 0.01973840780556202, 0.027228133752942085, -0.003701779991388321, -0.02834165096282959, -0.010492243804037571, -0.005773053504526615, 0.01927444338798523, -0.005166584625840187, -0.007324023172259331, -0.016530420631170273, -0.012069725431501865, 0.0327426940202713, 0...</td>\n",
              "    </tr>\n",
              "    <tr>\n",
              "      <th>22</th>\n",
              "      <td>Aleksandr Galliamov\\n\\n== Competitive highlights ==\\n\\n''GP: [[ISU Grand Prix of Figure Skating|Grand Prix]]; CS: [[ISU Challenger Series|Challenger Series]]; JGP: [[ISU Junior Grand Prix|Junior Grand Prix]]''</td>\n",
              "      <td>[-0.020467450842261314, 0.022396815940737724, 0.020980149507522583, -0.02320633828639984, -0.021223006770014763, 0.027294432744383812, -0.027739670127630234, -0.009478170424699783, -0.02102062478661537, -0.03823649138212204, 0.020764276385307312, 0.016811104491353035, -0.00897221826016903, -0.022923005744814873, 0.010672217234969139, -0.006381743121892214, 0.020629355683922768, -0.012109121307730675, 0.006479560863226652, -0.006948409602046013, 0.0014891858445480466, 0.009984122589230537, 0....</td>\n",
              "    </tr>\n",
              "    <tr>\n",
              "      <th>2594</th>\n",
              "      <td>Sui Wenjing\\n\\n==Competitive highlights==\\n\\n===With Han===\\n\\n{| class=\"wikitable\" style=\"text-align:center\"\\n|-\\n! colspan=15 style=\"background-color: #ffdead; \" align=\"center\" | '''International'''&lt;ref name=\"isucrWSCH\" /&gt;\\n|-\\n! Event\\n! [[2008–09 figure skating season|08–09]]\\n! [[2009–10 figure skating season|09–10]]\\n! [[2010–11 figure skating season|10–11]]\\n! [[2011–12 figure skating season|11–12]]\\n! [[2012–13 figure skating season|12–13]]\\n! [[2013–14 figure skating season|13–14]]\\...</td>\n",
              "      <td>[0.0005034424248151481, 0.004824342671781778, 0.030532967299222946, -0.0019635511562228203, -0.014837951399385929, 0.006294076796621084, -0.020824018865823746, -0.01059949304908514, -0.014529943466186523, -0.05453081056475639, 0.02655564621090889, 0.024988824501633644, -0.0016480102203786373, -0.009186673909425735, -0.009481290355324745, 0.009146498516201973, 0.023180950433015823, -0.025604840368032455, -0.0009432745282538235, -0.03155073523521423, -0.031229333952069283, 0.007070792373269796...</td>\n",
              "    </tr>\n",
              "  </tbody>\n",
              "</table>\n",
              "</div>\n",
              "    <div class=\"colab-df-buttons\">\n",
              "\n",
              "  <div class=\"colab-df-container\">\n",
              "    <button class=\"colab-df-convert\" onclick=\"convertToInteractive('df-a4f0b9f9-0f97-4fce-b55c-1a3567ae9dc4')\"\n",
              "            title=\"Convert this dataframe to an interactive table.\"\n",
              "            style=\"display:none;\">\n",
              "\n",
              "  <svg xmlns=\"http://www.w3.org/2000/svg\" height=\"24px\" viewBox=\"0 -960 960 960\">\n",
              "    <path d=\"M120-120v-720h720v720H120Zm60-500h600v-160H180v160Zm220 220h160v-160H400v160Zm0 220h160v-160H400v160ZM180-400h160v-160H180v160Zm440 0h160v-160H620v160ZM180-180h160v-160H180v160Zm440 0h160v-160H620v160Z\"/>\n",
              "  </svg>\n",
              "    </button>\n",
              "\n",
              "  <style>\n",
              "    .colab-df-container {\n",
              "      display:flex;\n",
              "      gap: 12px;\n",
              "    }\n",
              "\n",
              "    .colab-df-convert {\n",
              "      background-color: #E8F0FE;\n",
              "      border: none;\n",
              "      border-radius: 50%;\n",
              "      cursor: pointer;\n",
              "      display: none;\n",
              "      fill: #1967D2;\n",
              "      height: 32px;\n",
              "      padding: 0 0 0 0;\n",
              "      width: 32px;\n",
              "    }\n",
              "\n",
              "    .colab-df-convert:hover {\n",
              "      background-color: #E2EBFA;\n",
              "      box-shadow: 0px 1px 2px rgba(60, 64, 67, 0.3), 0px 1px 3px 1px rgba(60, 64, 67, 0.15);\n",
              "      fill: #174EA6;\n",
              "    }\n",
              "\n",
              "    .colab-df-buttons div {\n",
              "      margin-bottom: 4px;\n",
              "    }\n",
              "\n",
              "    [theme=dark] .colab-df-convert {\n",
              "      background-color: #3B4455;\n",
              "      fill: #D2E3FC;\n",
              "    }\n",
              "\n",
              "    [theme=dark] .colab-df-convert:hover {\n",
              "      background-color: #434B5C;\n",
              "      box-shadow: 0px 1px 3px 1px rgba(0, 0, 0, 0.15);\n",
              "      filter: drop-shadow(0px 1px 2px rgba(0, 0, 0, 0.3));\n",
              "      fill: #FFFFFF;\n",
              "    }\n",
              "  </style>\n",
              "\n",
              "    <script>\n",
              "      const buttonEl =\n",
              "        document.querySelector('#df-a4f0b9f9-0f97-4fce-b55c-1a3567ae9dc4 button.colab-df-convert');\n",
              "      buttonEl.style.display =\n",
              "        google.colab.kernel.accessAllowed ? 'block' : 'none';\n",
              "\n",
              "      async function convertToInteractive(key) {\n",
              "        const element = document.querySelector('#df-a4f0b9f9-0f97-4fce-b55c-1a3567ae9dc4');\n",
              "        const dataTable =\n",
              "          await google.colab.kernel.invokeFunction('convertToInteractive',\n",
              "                                                    [key], {});\n",
              "        if (!dataTable) return;\n",
              "\n",
              "        const docLinkHtml = 'Like what you see? Visit the ' +\n",
              "          '<a target=\"_blank\" href=https://colab.research.google.com/notebooks/data_table.ipynb>data table notebook</a>'\n",
              "          + ' to learn more about interactive tables.';\n",
              "        element.innerHTML = '';\n",
              "        dataTable['output_type'] = 'display_data';\n",
              "        await google.colab.output.renderOutput(dataTable, element);\n",
              "        const docLink = document.createElement('div');\n",
              "        docLink.innerHTML = docLinkHtml;\n",
              "        element.appendChild(docLink);\n",
              "      }\n",
              "    </script>\n",
              "  </div>\n",
              "\n",
              "\n",
              "<div id=\"df-9f0b2c31-9c6e-4391-a37e-ca453cd103bb\">\n",
              "  <button class=\"colab-df-quickchart\" onclick=\"quickchart('df-9f0b2c31-9c6e-4391-a37e-ca453cd103bb')\"\n",
              "            title=\"Suggest charts\"\n",
              "            style=\"display:none;\">\n",
              "\n",
              "<svg xmlns=\"http://www.w3.org/2000/svg\" height=\"24px\"viewBox=\"0 0 24 24\"\n",
              "     width=\"24px\">\n",
              "    <g>\n",
              "        <path d=\"M19 3H5c-1.1 0-2 .9-2 2v14c0 1.1.9 2 2 2h14c1.1 0 2-.9 2-2V5c0-1.1-.9-2-2-2zM9 17H7v-7h2v7zm4 0h-2V7h2v10zm4 0h-2v-4h2v4z\"/>\n",
              "    </g>\n",
              "</svg>\n",
              "  </button>\n",
              "\n",
              "<style>\n",
              "  .colab-df-quickchart {\n",
              "      --bg-color: #E8F0FE;\n",
              "      --fill-color: #1967D2;\n",
              "      --hover-bg-color: #E2EBFA;\n",
              "      --hover-fill-color: #174EA6;\n",
              "      --disabled-fill-color: #AAA;\n",
              "      --disabled-bg-color: #DDD;\n",
              "  }\n",
              "\n",
              "  [theme=dark] .colab-df-quickchart {\n",
              "      --bg-color: #3B4455;\n",
              "      --fill-color: #D2E3FC;\n",
              "      --hover-bg-color: #434B5C;\n",
              "      --hover-fill-color: #FFFFFF;\n",
              "      --disabled-bg-color: #3B4455;\n",
              "      --disabled-fill-color: #666;\n",
              "  }\n",
              "\n",
              "  .colab-df-quickchart {\n",
              "    background-color: var(--bg-color);\n",
              "    border: none;\n",
              "    border-radius: 50%;\n",
              "    cursor: pointer;\n",
              "    display: none;\n",
              "    fill: var(--fill-color);\n",
              "    height: 32px;\n",
              "    padding: 0;\n",
              "    width: 32px;\n",
              "  }\n",
              "\n",
              "  .colab-df-quickchart:hover {\n",
              "    background-color: var(--hover-bg-color);\n",
              "    box-shadow: 0 1px 2px rgba(60, 64, 67, 0.3), 0 1px 3px 1px rgba(60, 64, 67, 0.15);\n",
              "    fill: var(--button-hover-fill-color);\n",
              "  }\n",
              "\n",
              "  .colab-df-quickchart-complete:disabled,\n",
              "  .colab-df-quickchart-complete:disabled:hover {\n",
              "    background-color: var(--disabled-bg-color);\n",
              "    fill: var(--disabled-fill-color);\n",
              "    box-shadow: none;\n",
              "  }\n",
              "\n",
              "  .colab-df-spinner {\n",
              "    border: 2px solid var(--fill-color);\n",
              "    border-color: transparent;\n",
              "    border-bottom-color: var(--fill-color);\n",
              "    animation:\n",
              "      spin 1s steps(1) infinite;\n",
              "  }\n",
              "\n",
              "  @keyframes spin {\n",
              "    0% {\n",
              "      border-color: transparent;\n",
              "      border-bottom-color: var(--fill-color);\n",
              "      border-left-color: var(--fill-color);\n",
              "    }\n",
              "    20% {\n",
              "      border-color: transparent;\n",
              "      border-left-color: var(--fill-color);\n",
              "      border-top-color: var(--fill-color);\n",
              "    }\n",
              "    30% {\n",
              "      border-color: transparent;\n",
              "      border-left-color: var(--fill-color);\n",
              "      border-top-color: var(--fill-color);\n",
              "      border-right-color: var(--fill-color);\n",
              "    }\n",
              "    40% {\n",
              "      border-color: transparent;\n",
              "      border-right-color: var(--fill-color);\n",
              "      border-top-color: var(--fill-color);\n",
              "    }\n",
              "    60% {\n",
              "      border-color: transparent;\n",
              "      border-right-color: var(--fill-color);\n",
              "    }\n",
              "    80% {\n",
              "      border-color: transparent;\n",
              "      border-right-color: var(--fill-color);\n",
              "      border-bottom-color: var(--fill-color);\n",
              "    }\n",
              "    90% {\n",
              "      border-color: transparent;\n",
              "      border-bottom-color: var(--fill-color);\n",
              "    }\n",
              "  }\n",
              "</style>\n",
              "\n",
              "  <script>\n",
              "    async function quickchart(key) {\n",
              "      const quickchartButtonEl =\n",
              "        document.querySelector('#' + key + ' button');\n",
              "      quickchartButtonEl.disabled = true;  // To prevent multiple clicks.\n",
              "      quickchartButtonEl.classList.add('colab-df-spinner');\n",
              "      try {\n",
              "        const charts = await google.colab.kernel.invokeFunction(\n",
              "            'suggestCharts', [key], {});\n",
              "      } catch (error) {\n",
              "        console.error('Error during call to suggestCharts:', error);\n",
              "      }\n",
              "      quickchartButtonEl.classList.remove('colab-df-spinner');\n",
              "      quickchartButtonEl.classList.add('colab-df-quickchart-complete');\n",
              "    }\n",
              "    (() => {\n",
              "      let quickchartButtonEl =\n",
              "        document.querySelector('#df-9f0b2c31-9c6e-4391-a37e-ca453cd103bb button');\n",
              "      quickchartButtonEl.style.display =\n",
              "        google.colab.kernel.accessAllowed ? 'block' : 'none';\n",
              "    })();\n",
              "  </script>\n",
              "</div>\n",
              "\n",
              "    </div>\n",
              "  </div>\n"
            ],
            "application/vnd.google.colaboratory.intrinsic+json": {
              "type": "dataframe",
              "summary": "{\n  \"name\": \"df\",\n  \"rows\": 5,\n  \"fields\": [\n    {\n      \"column\": \"text\",\n      \"properties\": {\n        \"dtype\": \"string\",\n        \"num_unique_values\": 5,\n        \"samples\": [\n          \"Kaori Sakamoto\\n\\n== Skating career ==\\n\\n===Senior career===\\n\\n==== 2019\\u20132020 season: Struggles ====\\n\\nSakamoto began the season at the [[2019 CS Ondrej Nepela Memorial]], where she won the silver medal, her first [[ISU Challenger Series|Challenger]] medal.\\n\\nBeginning on the [[2019-20 ISU Grand Prix of Figure Skating|Grand Prix]] at [[2019 Skate America]], Sakamoto placed second in the short program and fourth in the free skate after popping two of her jumps and finished the event fourth overall.<ref name=GS191019/><ref name=GS191020/> Her second Grand-Prix event was the [[2019 Internationaux de France]], where she placed sixth in the short program after falling on a double Axel and putting a foot down on her triple loop.<ref name=GS191101/>  Sakamoto was fourth in the free skate, despite several under rotations, rising to fourth place overall.<ref name=GS191102/>\\n\\nOn the [[2019-20 Japan Figure Skating Championships|2019\\u201320 Japanese Championships]], Sakamoto was third in the short program despite underrotating the back half of her jump combination and was narrowly behind second-place [[Satoko Miyahara]].<ref name=GS191219/>  She struggled in the free skate, underrotating or downgrading five jumps, and falling once, placing seventh in that segment and dropping to sixth place overall.<ref name=GS191221/>  Commenting on her disappointing results afterward, she attributed much of her difficulty this season to the absence of her friend and longtime training partner [[Mai Mihara]], who was sidelined from training due to illness: \\\"But this year I could not fight by myself. I\\u2019m old enough now that I should be able to rely on myself.\\\"<ref name=JT191221/>\\n\\nDespite her sixth-place finish at the national championships, Sakamoto was assigned to compete at the [[2020 Four Continents Figure Skating Championships|2020 Four Continents Championships]], where she was fourth in the short program despite turning out of the landing on her triple loop.<ref name=GS200206/>  In the free skate, Sakamoto attempted a [[quadruple jump|quad]] [[toe loop jump|toe loop]] in competition for the first time but fell and had the jump deemed downgraded.  Making several other errors, she dropped to fifth place overall.  Speaking afterward, she said, \\\"I couldn't fully trust myself. I'm glad I can use this experience and results as a learning experience for next season and future competitions.\\\"<ref name=GS200208/>\",\n          \"Sui Wenjing\\n\\n==Competitive highlights==\\n\\n===With Han===\\n\\n{| class=\\\"wikitable\\\" style=\\\"text-align:center\\\"\\n|-\\n! colspan=15 style=\\\"background-color: #ffdead; \\\" align=\\\"center\\\" | '''International'''<ref name=\\\"isucrWSCH\\\" />\\n|-\\n! Event\\n! [[2008\\u201309 figure skating season|08\\u201309]]\\n! [[2009\\u201310 figure skating season|09\\u201310]]\\n! [[2010\\u201311 figure skating season|10\\u201311]]\\n! [[2011\\u201312 figure skating season|11\\u201312]]\\n! [[2012\\u201313 figure skating season|12\\u201313]]\\n! [[2013\\u201314 figure skating season|13\\u201314]]\\n! [[2014\\u201315 figure skating season|14\\u201315]]\\n! [[2015\\u201316 figure skating season|15\\u201316]]\\n! [[2016\\u201317 figure skating season|16\\u201317]]\\n! [[2017\\u201318 figure skating season|17\\u201318]]\\n! [[2018\\u201319 figure skating season|18\\u201319]]\\n! [[2019\\u201320 figure skating season|19\\u201320]]\\n! [[2020\\u201321 figure skating season|20\\u201321]]\\n! [[2021\\u201322 figure skating season|21\\u201322]]\\n|-\\n| align=left | [[Figure skating at the Olympic Games|Olympics]] || || || || || || || || || || bgcolor=silver | 2nd || || || ||bgcolor=gold |1st\\n|-\\n| align=left | [[World Figure Skating Championships|Worlds]] || || || || 9th || 12th || 6th || bgcolor=silver | 2nd || bgcolor=silver | 2nd || bgcolor=gold | 1st || WD || bgcolor=gold | 1st || C || bgcolor=silver | 2nd ||\\n|-\\n| align=left | [[Four Continents Figure Skating Championships|Four Continents]] || || || || bgcolor=gold | 1st || || bgcolor=gold | 1st || 4th || bgcolor=gold | 1st || bgcolor=gold | 1st || WD || bgcolor=gold | 1st || bgcolor=gold | 1st || ||\\n|-\\n| align=left | {{small|GP}} [[Grand Prix of Figure Skating Final|Final]] || || || bgcolor=\\\"#cc9966\\\" | 3rd || || || || bgcolor=\\\"#cc9966\\\" | 3rd || WD || || bgcolor=silver | 2nd || || bgcolor=gold | 1st || ||C\\n|-\\n| align=left | {{small|GP}} [[Cup of China]] || || || bgcolor=silver | 2nd || 5th || WD || || || bgcolor=silver | 2nd || WD || bgcolor=gold |1st || || bgcolor=gold | 1st || WD || C\\n|-\\n| align=left |{{small|GP}} [[2018 Grand Prix of Helsinki|Finland]] || || || || || || || || || || || WD || || ||\\n|-\\n| align=left | {{small|GP}} [[Internationaux de France|France]] || || || || || || || bgcolor=silver | 2nd || || || || || || ||\\n|-\\n| align=left | {{small|GP}} [[2021 Gran Premio d'Italia|Italy]] || || || || || || || || || || || || || || bgcolor=gold |1st \\n|-\\n| align=left | {{small|GP}} [[NHK Trophy]] || || || || || WD || bgcolor=\\\"#cc9966\\\" | 3rd || || || || bgcolor=gold | 1st ||WD || bgcolor=gold | 1st || ||\\n|-\\n| align=left | {{small|GP}} [[Skate America]] || || || bgcolor=\\\"#cc9966\\\" | 3rd || || || || || bgcolor=gold | 1st || WD || || || || ||\",\n          \"Estonia at the 2022 Winter Olympics\\n\\n==Cross-country skiing==\\n\\n{{main article|Cross-country skiing at the 2022 Winter Olympics|Cross-country skiing at the 2022 Winter Olympics \\u2013 Qualification}}\\nEstonia qualified four male and five female cross-country skiers.\\n\\n;Distance\\n{|class=wikitable style=font-size:90%;text-align:center\\n|-\\n!rowspan=2|Athlete\\n!rowspan=2|Event\\n!colspan=2|Classical\\n!colspan=2|Freestyle\\n!colspan=3|Final\\n|-style=\\\"font-size: 95%\\\"\\n!Time\\n!Rank\\n!Time\\n!Rank\\n!Time\\n!Deficit\\n!Rank\\n|-\\n|align=left|[[Alvar Johannes Alev]]\\n|align=left rowspan=3|[[Cross-country skiing at the 2022 Winter Olympics \\u2013 Men's 15 kilometre classical|Men's 15 km classical]]\\n|colspan=4 {{N/A}}\\n|41:12.5\\n| +3:17.7\\n|35\\n|-\\n|align=left|[[Martin Himma]]\\n|colspan=4 {{N/A}}\\n|42:44.4\\n| +4:49.6\\n|56\\n|-\\n|align=left|[[Henri Roos]]\\n|colspan=4 {{N/A}}\\n|44:17.8\\n| +6:23.0\\n|70\\n|-\\n|align=left|[[Alvar Johannes Alev]]\\n|align=left|[[Cross-country skiing at the 2022 Winter Olympics \\u2013 Men's 30 kilometre skiathlon|Men's 30 km skiathlon]]\\n|42:08.8\\n|36\\n|41:08.3\\n|38\\n|1:23:50.5\\n| +7:40.7\\n|33\\n|-\\n|align=left|[[Alvar Johannes Alev]]\\n|align=left|[[Cross-country skiing at the 2022 Winter Olympics \\u2013 Men's 50 kilometre freestyle|Men's 50 km freestyle]]\\n|colspan=4 {{N/A}}\\n|1:16:28.4\\n| +4:55.7\\n|36\\n|-\\n|align=left|[[Alvar Johannes Alev]]<br/>[[Martin Himma]]<br/>[[Marko Kilp]]<br/>[[Henri Roos]]\\n|align=left|[[Cross-country skiing at the 2022 Winter Olympics \\u2013 Men's 4 \\u00d7 10 kilometre relay|4 \\u00d7 10 km relay]]\\n|colspan=4 {{n/a}}\\n|colspan=2|{{abbr|LAP|Lapped}}\\n|15\\n|-\\n|align=left|[[Kaidy Kaasiku]]\\n|align=left rowspan=3|[[Cross-country skiing at the 2022 Winter Olympics \\u2013 Women's 10 kilometre classical|Women's 10 km classical]]\\n|colspan=4 {{N/A}}\\n|33:50.7\\n| +5:44.4\\n|70\\n|-\\n|align=left|[[Keidy Kaasiku]]\\n|colspan=4 {{N/A}}\\n|32:55.4\\n| +4:49.1\\n|60\\n|-\\n|align=left|[[Aveli Uustalu]]\\n|colspan=4 {{N/A}}\\n|35:46.2\\n| +7:39.9\\n|80\\n|-\\n|align=left|[[Kaidy Kaasiku]]\\n|align=left rowspan=2|[[Cross-country skiing at the 2022 Winter Olympics \\u2013 Women's 15 kilometre skiathlon|Women's 15 km skiathlon]]\\n|27:02.9\\n|55\\n|24:32.7\\n|51\\n|52:12.6\\n| +7:58.9\\n|54\\n|-\\n|align=left|[[Keidy Kaasiku]]\\n|25:40.7\\n|47\\n|23:23.9\\n|26\\n|49:40.7\\n| +5:27.0\\n|39\\n|-\\n|align=left|[[Kaidy Kaasiku]]<br/>[[Merlii Mariel]]<br/>[[Keidy Kaasiku]]<br/>[[Aveli Uustalu]]\\n|align=left|[[Cross-country skiing at the 2022 Winter Olympics \\u2013 Women's 4 \\u00d7 5 kilometre relay|Women's 4 x 5 km relay]]\\n|colspan=4 {{n/a}}\\n|1:01:18.9\\n| +7:37.9\\n|16\\n|}\"\n        ],\n        \"semantic_type\": \"\",\n        \"description\": \"\"\n      }\n    },\n    {\n      \"column\": \"embedding\",\n      \"properties\": {\n        \"dtype\": \"object\",\n        \"semantic_type\": \"\",\n        \"description\": \"\"\n      }\n    }\n  ]\n}"
            }
          },
          "metadata": {},
          "execution_count": 22
        }
      ]
    },
    {
      "cell_type": "markdown",
      "id": "aa32cf88-9edb-4dc6-b4cf-a16a8de7d304",
      "metadata": {
        "tags": [],
        "id": "aa32cf88-9edb-4dc6-b4cf-a16a8de7d304"
      },
      "source": [
        "So we have a custom data-set split into sections, and embedding vectors calculated for each. We also have a function that can calculate the embedding for any question.\n",
        "\n",
        "Next we will use these embeddings to answer our users' questions.\n"
      ]
    },
    {
      "cell_type": "markdown",
      "source": [
        "\n",
        "#### Each time we receive a question\n",
        "\n",
        "* We calculate an embedding vector for the question with the `get_embedding` funtion we defined above.\n",
        "* For each chunk in our custom dataset, we calculate the cosine similarity between that chunk's embedding vector and the question's embedding vector\n",
        "* We rank the sections from most-cosine-similar to the question to least-cosine-similar"
      ],
      "metadata": {
        "id": "ifOWmFZakFg8"
      },
      "id": "ifOWmFZakFg8"
    },
    {
      "cell_type": "markdown",
      "source": [
        "We first define a couple of helper functions."
      ],
      "metadata": {
        "id": "UrIamAaN4YdS"
      },
      "id": "UrIamAaN4YdS"
    },
    {
      "cell_type": "code",
      "source": [
        "from IPython import embed\n",
        "\n",
        "# search function\n",
        "def strings_ranked_by_relatedness(\n",
        "    query: str,\n",
        "    df: pd.DataFrame,\n",
        "    relatedness_fn=lambda x, y: 1 - spatial.distance.cosine(x, y),\n",
        "    top_n: int = 100\n",
        ") -> tuple[list[str], list[float]]:\n",
        "\n",
        "    \"\"\"Returns a list of strings and relatednesses, sorted from most related to least.\"\"\"\n",
        "\n",
        "    query_embedding = get_embedding(query) # bug fixed\n",
        "\n",
        "    strings_and_relatednesses = [\n",
        "        (row[\"text\"], relatedness_fn(query_embedding, row[\"embedding\"]))\n",
        "        for i, row in df.iterrows()\n",
        "    ]\n",
        "    strings_and_relatednesses.sort(key=lambda x: x[1], reverse=True)\n",
        "    strings, relatednesses = zip(*strings_and_relatednesses)\n",
        "    return strings[:top_n], relatednesses[:top_n]"
      ],
      "metadata": {
        "id": "_ElgwsIYcQCR"
      },
      "id": "_ElgwsIYcQCR",
      "execution_count": null,
      "outputs": []
    },
    {
      "cell_type": "markdown",
      "source": [
        "Let's examine this function to see what it pulls up as documents most similar to the query string \"curling gold medal\""
      ],
      "metadata": {
        "id": "6I5LexJy5K-j"
      },
      "id": "6I5LexJy5K-j"
    },
    {
      "cell_type": "code",
      "execution_count": null,
      "id": "e3a27d73-f47f-480d-b336-079414f749cb",
      "metadata": {
        "id": "e3a27d73-f47f-480d-b336-079414f749cb",
        "colab": {
          "base_uri": "https://localhost:8080/",
          "height": 544
        },
        "outputId": "c15a4aa3-2bc3-4271-9afe-a8cd67719639"
      },
      "outputs": [
        {
          "output_type": "stream",
          "name": "stdout",
          "text": [
            "relatedness=0.879\n"
          ]
        },
        {
          "output_type": "display_data",
          "data": {
            "text/plain": [
              "'Curling at the 2022 Winter Olympics\\n\\n==Medal summary==\\n\\n===Medal table===\\n\\n{{Medals table\\n | caption        = \\n | host           = \\n | flag_template  = flagIOC\\n | event          = 2022 Winter\\n | team           = \\n | gold_CAN = 0 | silver_CAN = 0 | bronze_CAN = 1\\n | gold_ITA = 1 | silver_ITA = 0 | bronze_ITA = 0\\n | gold_NOR = 0 | silver_NOR = 1 | bronze_NOR = 0\\n | gold_SWE = 1 | silver_SWE = 0 | bronze_SWE = 2\\n | gold_GBR = 1 | silver_GBR = 1 | bronze_GBR = 0\\n | gold_JPN = 0 | silver_JPN = 1 | bronze_JPN - 0\\n}}'"
            ],
            "application/vnd.google.colaboratory.intrinsic+json": {
              "type": "string"
            }
          },
          "metadata": {}
        },
        {
          "output_type": "stream",
          "name": "stdout",
          "text": [
            "relatedness=0.872\n"
          ]
        },
        {
          "output_type": "display_data",
          "data": {
            "text/plain": [
              "\"Curling at the 2022 Winter Olympics\\n\\n==Results summary==\\n\\n===Women's tournament===\\n\\n====Playoffs====\\n\\n=====Gold medal game=====\\n\\n''Sunday, 20 February, 9:05''\\n{{#lst:Curling at the 2022 Winter Olympics – Women's tournament|GM}}\\n{{Player percentages\\n| team1 = {{flagIOC|JPN|2022 Winter}}\\n| [[Yurika Yoshida]] | 97%\\n| [[Yumi Suzuki]] | 82%\\n| [[Chinami Yoshida]] | 64%\\n| [[Satsuki Fujisawa]] | 69%\\n| teampct1 = 78%\\n| team2 = {{flagIOC|GBR|2022 Winter}}\\n| [[Hailey Duff]] | 90%\\n| [[Jennifer Dodds]] | 89%\\n| [[Vicky Wright]] | 89%\\n| [[Eve Muirhead]] | 88%\\n| teampct2 = 89%\\n}}\""
            ],
            "application/vnd.google.colaboratory.intrinsic+json": {
              "type": "string"
            }
          },
          "metadata": {}
        },
        {
          "output_type": "stream",
          "name": "stdout",
          "text": [
            "relatedness=0.869\n"
          ]
        },
        {
          "output_type": "display_data",
          "data": {
            "text/plain": [
              "'Curling at the 2022 Winter Olympics\\n\\n==Results summary==\\n\\n===Mixed doubles tournament===\\n\\n====Playoffs====\\n\\n=====Gold medal game=====\\n\\n\\'\\'Tuesday, 8 February, 20:05\\'\\'\\n{{#lst:Curling at the 2022 Winter Olympics – Mixed doubles tournament|GM}}\\n{| class=\"wikitable\"\\n!colspan=4 width=400|Player percentages\\n|-\\n!colspan=2 width=200 style=\"white-space:nowrap;\"| {{flagIOC|ITA|2022 Winter}}\\n!colspan=2 width=200 style=\"white-space:nowrap;\"| {{flagIOC|NOR|2022 Winter}}\\n|-\\n| [[Stefania Constantini]] || 83%\\n| [[Kristin Skaslien]] || 70%\\n|-\\n| [[Amos Mosaner]] || 90%\\n| [[Magnus Nedregotten]] || 69%\\n|-\\n| \\'\\'\\'Total\\'\\'\\' || 87%\\n| \\'\\'\\'Total\\'\\'\\' || 69%\\n|}'"
            ],
            "application/vnd.google.colaboratory.intrinsic+json": {
              "type": "string"
            }
          },
          "metadata": {}
        },
        {
          "output_type": "stream",
          "name": "stdout",
          "text": [
            "relatedness=0.868\n"
          ]
        },
        {
          "output_type": "display_data",
          "data": {
            "text/plain": [
              "\"Curling at the 2022 Winter Olympics\\n\\n==Medal summary==\\n\\n===Medalists===\\n\\n{| {{MedalistTable|type=Event|columns=1}}\\n|-\\n|Men<br/>{{DetailsLink|Curling at the 2022 Winter Olympics – Men's tournament}}\\n|{{flagIOC|SWE|2022 Winter}}<br>[[Niklas Edin]]<br>[[Oskar Eriksson]]<br>[[Rasmus Wranå]]<br>[[Christoffer Sundgren]]<br>[[Daniel Magnusson (curler)|Daniel Magnusson]]\\n|{{flagIOC|GBR|2022 Winter}}<br>[[Bruce Mouat]]<br>[[Grant Hardie]]<br>[[Bobby Lammie]]<br>[[Hammy McMillan Jr.]]<br>[[Ross Whyte]]\\n|{{flagIOC|CAN|2022 Winter}}<br>[[Brad Gushue]]<br>[[Mark Nichols (curler)|Mark Nichols]]<br>[[Brett Gallant]]<br>[[Geoff Walker (curler)|Geoff Walker]]<br>[[Marc Kennedy]]\\n|-\\n|Women<br/>{{DetailsLink|Curling at the 2022 Winter Olympics – Women's tournament}}\\n|{{flagIOC|GBR|2022 Winter}}<br>[[Eve Muirhead]]<br>[[Vicky Wright]]<br>[[Jennifer Dodds]]<br>[[Hailey Duff]]<br>[[Mili Smith]]\\n|{{flagIOC|JPN|2022 Winter}}<br>[[Satsuki Fujisawa]]<br>[[Chinami Yoshida]]<br>[[Yumi Suzuki]]<br>[[Yurika Yoshida]]<br>[[Kotomi Ishizaki]]\\n|{{flagIOC|SWE|2022 Winter}}<br>[[Anna Hasselborg]]<br>[[Sara McManus]]<br>[[Agnes Knochenhauer]]<br>[[Sofia Mabergs]]<br>[[Johanna Heldin]]\\n|-\\n|Mixed doubles<br/>{{DetailsLink|Curling at the 2022 Winter Olympics – Mixed doubles tournament}}\\n|{{flagIOC|ITA|2022 Winter}}<br>[[Stefania Constantini]]<br>[[Amos Mosaner]]\\n|{{flagIOC|NOR|2022 Winter}}<br>[[Kristin Skaslien]]<br>[[Magnus Nedregotten]]\\n|{{flagIOC|SWE|2022 Winter}}<br>[[Almida de Val]]<br>[[Oskar Eriksson]]\\n|}\""
            ],
            "application/vnd.google.colaboratory.intrinsic+json": {
              "type": "string"
            }
          },
          "metadata": {}
        },
        {
          "output_type": "stream",
          "name": "stdout",
          "text": [
            "relatedness=0.867\n"
          ]
        },
        {
          "output_type": "display_data",
          "data": {
            "text/plain": [
              "\"Curling at the 2022 Winter Olympics\\n\\n==Results summary==\\n\\n===Men's tournament===\\n\\n====Playoffs====\\n\\n=====Gold medal game=====\\n\\n''Saturday, 19 February, 14:50''\\n{{#lst:Curling at the 2022 Winter Olympics – Men's tournament|GM}}\\n{{Player percentages\\n| team1 = {{flagIOC|GBR|2022 Winter}}\\n| [[Hammy McMillan Jr.]] | 95%\\n| [[Bobby Lammie]] | 80%\\n| [[Grant Hardie]] | 94%\\n| [[Bruce Mouat]] | 89%\\n| teampct1 = 90%\\n| team2 = {{flagIOC|SWE|2022 Winter}}\\n| [[Christoffer Sundgren]] | 99%\\n| [[Rasmus Wranå]] | 95%\\n| [[Oskar Eriksson]] | 93%\\n| [[Niklas Edin]] | 87%\\n| teampct2 = 94%\\n}}\""
            ],
            "application/vnd.google.colaboratory.intrinsic+json": {
              "type": "string"
            }
          },
          "metadata": {}
        }
      ],
      "source": [
        "strings, relatednesses = strings_ranked_by_relatedness(\"curling gold medal\", df, top_n=5)\n",
        "for string, relatedness in zip(strings, relatednesses):\n",
        "    print(f\"{relatedness=:.3f}\")\n",
        "    display(string)"
      ]
    },
    {
      "cell_type": "markdown",
      "id": "3cf71fae-abb1-46b2-a483-c1b2f1a915c2",
      "metadata": {
        "id": "3cf71fae-abb1-46b2-a483-c1b2f1a915c2"
      },
      "source": [
        "We can see that what was pulled up were several sections of the Wikipedia page for curling at the 2022 Winter Olympics. Cool."
      ]
    },
    {
      "cell_type": "markdown",
      "id": "a0efa0f6-4469-457a-89a4-a2f5736a01e0",
      "metadata": {
        "id": "a0efa0f6-4469-457a-89a4-a2f5736a01e0"
      },
      "source": [
        "#### Starting from the most-cosine-similar section, include as many sections into the prompt as can fit into the context window\n",
        "\n",
        "\n",
        "Once we've calculated the most relevant pieces of context, we construct a prompt by simply prepending them to the supplied query. We write a fewer helper functions to do just this."
      ]
    },
    {
      "cell_type": "code",
      "source": [
        "HEADER = \"\"\"\n",
        "Use the below articles to answer the subsequent question. \\\n",
        "Answer the question as truthfully as possible, and if you're unsure \\\n",
        "of the answer, say \"Sorry, I don't know\"\n",
        "\"\"\""
      ],
      "metadata": {
        "id": "QtWjlkMKDvVb"
      },
      "id": "QtWjlkMKDvVb",
      "execution_count": null,
      "outputs": []
    },
    {
      "cell_type": "markdown",
      "source": [
        "Since we don't want to exceed the context window, we will need to count the tokens in our prompt. We use the `tiktoken` package for this."
      ],
      "metadata": {
        "id": "8dzXzJl5RmDq"
      },
      "id": "8dzXzJl5RmDq"
    },
    {
      "cell_type": "code",
      "execution_count": null,
      "id": "b763ace2-1946-48e0-8ff1-91ba335d47a0",
      "metadata": {
        "id": "b763ace2-1946-48e0-8ff1-91ba335d47a0"
      },
      "outputs": [],
      "source": [
        "import tiktoken  # for counting tokens\n",
        "\n",
        "def num_tokens(text: str, model: str = GPT_MODEL) -> int:\n",
        "    \"\"\"Return the number of tokens in a string.\"\"\"\n",
        "    encoding = tiktoken.encoding_for_model(model)\n",
        "    return len(encoding.encode(text))"
      ]
    },
    {
      "cell_type": "code",
      "execution_count": null,
      "id": "0c5c0509-eeb9-4552-a5d4-6ace04ef73dd",
      "metadata": {
        "id": "0c5c0509-eeb9-4552-a5d4-6ace04ef73dd"
      },
      "outputs": [],
      "source": [
        "def query_message(\n",
        "    query: str,\n",
        "    df: pd.DataFrame,\n",
        "    model: str,\n",
        "    token_budget: int\n",
        ") -> str:\n",
        "    \"\"\"Return a message for GPT, with relevant source texts pulled from a dataframe.\"\"\"\n",
        "    strings, relatednesses = strings_ranked_by_relatedness(query, df)\n",
        "    introduction = HEADER\n",
        "    question = f\"\\n\\nQuestion: {query}\"\n",
        "    message = introduction\n",
        "    for string in strings:\n",
        "      # useful to indicate the start of each new potentially relevant\n",
        "      # article here with the header 'Wikipedia article section:'\n",
        "\n",
        "        next_article = f'\\n\\nWikipedia article section:\\n\"\"\"\\n{string}\\n\"\"\"'\n",
        "        if (\n",
        "            num_tokens(message + next_article + question, model=model)\n",
        "            > token_budget\n",
        "        ):\n",
        "            break\n",
        "        else:\n",
        "            message += next_article\n",
        "    return message + question"
      ]
    },
    {
      "cell_type": "markdown",
      "source": [
        "Query message first begins with the `HEADER` and then pulls the related articles sorted in descending order of similarity to the query. We then add these articles to the query until the token budget is consumed. Below we pass in our query about 2022 curling with a token budget of 3700 tokens. We could go higher (how much higher?) but OpenAI charges by the token 😰\n",
        "\n"
      ],
      "metadata": {
        "id": "7bVyIS15gGAm"
      },
      "id": "7bVyIS15gGAm"
    },
    {
      "cell_type": "code",
      "execution_count": null,
      "id": "f614045a-3917-4b28-9643-7e0c299ec1a7",
      "metadata": {
        "id": "f614045a-3917-4b28-9643-7e0c299ec1a7",
        "colab": {
          "base_uri": "https://localhost:8080/"
        },
        "outputId": "c138be80-e945-4434-bfe0-2aa6bb293b6e"
      },
      "outputs": [
        {
          "output_type": "stream",
          "name": "stdout",
          "text": [
            "\n",
            "Use the below articles to answer the subsequent question. Answer the question as truthfully as possible, and if you're unsure of the answer, say \"Sorry, I don't know\"\n",
            "\n",
            "\n",
            "Wikipedia article section:\n",
            "\"\"\"\n",
            "List of 2022 Winter Olympics medal winners\n",
            "\n",
            "==Curling==\n",
            "\n",
            "{{main|Curling at the 2022 Winter Olympics}}\n",
            "{|{{MedalistTable|type=Event|columns=1|width=225|labelwidth=200}}\n",
            "|-valign=\"top\"\n",
            "|Men<br/>{{DetailsLink|Curling at the 2022 Winter Olympics – Men's tournament}}\n",
            "|{{flagIOC|SWE|2022 Winter}}<br/>[[Niklas Edin]]<br/>[[Oskar Eriksson]]<br/>[[Rasmus Wranå]]<br/>[[Christoffer Sundgren]]<br/>[[Daniel Magnusson (curler)|Daniel Magnusson]]\n",
            "|{{flagIOC|GBR|2022 Winter}}<br/>[[Bruce Mouat]]<br/>[[Grant Hardie]]<br/>[[Bobby Lammie]]<br/>[[Hammy McMillan Jr.]]<br/>[[Ross Whyte]]\n",
            "|{{flagIOC|CAN|2022 Winter}}<br/>[[Brad Gushue]]<br/>[[Mark Nichols (curler)|Mark Nichols]]<br/>[[Brett Gallant]]<br/>[[Geoff Walker (curler)|Geoff Walker]]<br/>[[Marc Kennedy]]\n",
            "|-valign=\"top\"\n",
            "|Women<br/>{{DetailsLink|Curling at the 2022 Winter Olympics – Women's tournament}}\n",
            "|{{flagIOC|GBR|2022 Winter}}<br/>[[Eve Muirhead]]<br/>[[Vicky Wright]]<br/>[[Jennifer Dodds]]<br/>[[Hailey Duff]]<br/>[[Mili Smith]]\n",
            "|{{flagIOC|JPN|2022 Winter}}<br/>[[Satsuki Fujisawa]]<br/>[[Chinami Yoshida]]<br/>[[Yumi Suzuki]]<br/>[[Yurika Yoshida]]<br/>[[Kotomi Ishizaki]]\n",
            "|{{flagIOC|SWE|2022 Winter}}<br/>[[Anna Hasselborg]]<br/>[[Sara McManus]]<br/>[[Agnes Knochenhauer]]<br/>[[Sofia Mabergs]]<br/>[[Johanna Heldin]]\n",
            "|-valign=\"top\"\n",
            "|Mixed doubles<br/>{{DetailsLink|Curling at the 2022 Winter Olympics – Mixed doubles tournament}}\n",
            "|{{flagIOC|ITA|2022 Winter}}<br/>[[Stefania Constantini]]<br/>[[Amos Mosaner]]\n",
            "|{{flagIOC|NOR|2022 Winter}}<br/>[[Kristin Skaslien]]<br/>[[Magnus Nedregotten]]\n",
            "|{{flagIOC|SWE|2022 Winter}}<br/>[[Almida de Val]]<br/>[[Oskar Eriksson]]\n",
            "|}\n",
            "\"\"\"\n",
            "\n",
            "Wikipedia article section:\n",
            "\"\"\"\n",
            "Curling at the 2022 Winter Olympics\n",
            "\n",
            "==Medal summary==\n",
            "\n",
            "===Medal table===\n",
            "\n",
            "{{Medals table\n",
            " | caption        = \n",
            " | host           = \n",
            " | flag_template  = flagIOC\n",
            " | event          = 2022 Winter\n",
            " | team           = \n",
            " | gold_CAN = 0 | silver_CAN = 0 | bronze_CAN = 1\n",
            " | gold_ITA = 1 | silver_ITA = 0 | bronze_ITA = 0\n",
            " | gold_NOR = 0 | silver_NOR = 1 | bronze_NOR = 0\n",
            " | gold_SWE = 1 | silver_SWE = 0 | bronze_SWE = 2\n",
            " | gold_GBR = 1 | silver_GBR = 1 | bronze_GBR = 0\n",
            " | gold_JPN = 0 | silver_JPN = 1 | bronze_JPN - 0\n",
            "}}\n",
            "\"\"\"\n",
            "\n",
            "Wikipedia article section:\n",
            "\"\"\"\n",
            "Curling at the 2022 Winter Olympics\n",
            "\n",
            "==Results summary==\n",
            "\n",
            "===Women's tournament===\n",
            "\n",
            "====Playoffs====\n",
            "\n",
            "=====Gold medal game=====\n",
            "\n",
            "''Sunday, 20 February, 9:05''\n",
            "{{#lst:Curling at the 2022 Winter Olympics – Women's tournament|GM}}\n",
            "{{Player percentages\n",
            "| team1 = {{flagIOC|JPN|2022 Winter}}\n",
            "| [[Yurika Yoshida]] | 97%\n",
            "| [[Yumi Suzuki]] | 82%\n",
            "| [[Chinami Yoshida]] | 64%\n",
            "| [[Satsuki Fujisawa]] | 69%\n",
            "| teampct1 = 78%\n",
            "| team2 = {{flagIOC|GBR|2022 Winter}}\n",
            "| [[Hailey Duff]] | 90%\n",
            "| [[Jennifer Dodds]] | 89%\n",
            "| [[Vicky Wright]] | 89%\n",
            "| [[Eve Muirhead]] | 88%\n",
            "| teampct2 = 89%\n",
            "}}\n",
            "\"\"\"\n",
            "\n",
            "Wikipedia article section:\n",
            "\"\"\"\n",
            "Curling at the 2022 Winter Olympics\n",
            "\n",
            "==Medal summary==\n",
            "\n",
            "===Medalists===\n",
            "\n",
            "{| {{MedalistTable|type=Event|columns=1}}\n",
            "|-\n",
            "|Men<br/>{{DetailsLink|Curling at the 2022 Winter Olympics – Men's tournament}}\n",
            "|{{flagIOC|SWE|2022 Winter}}<br>[[Niklas Edin]]<br>[[Oskar Eriksson]]<br>[[Rasmus Wranå]]<br>[[Christoffer Sundgren]]<br>[[Daniel Magnusson (curler)|Daniel Magnusson]]\n",
            "|{{flagIOC|GBR|2022 Winter}}<br>[[Bruce Mouat]]<br>[[Grant Hardie]]<br>[[Bobby Lammie]]<br>[[Hammy McMillan Jr.]]<br>[[Ross Whyte]]\n",
            "|{{flagIOC|CAN|2022 Winter}}<br>[[Brad Gushue]]<br>[[Mark Nichols (curler)|Mark Nichols]]<br>[[Brett Gallant]]<br>[[Geoff Walker (curler)|Geoff Walker]]<br>[[Marc Kennedy]]\n",
            "|-\n",
            "|Women<br/>{{DetailsLink|Curling at the 2022 Winter Olympics – Women's tournament}}\n",
            "|{{flagIOC|GBR|2022 Winter}}<br>[[Eve Muirhead]]<br>[[Vicky Wright]]<br>[[Jennifer Dodds]]<br>[[Hailey Duff]]<br>[[Mili Smith]]\n",
            "|{{flagIOC|JPN|2022 Winter}}<br>[[Satsuki Fujisawa]]<br>[[Chinami Yoshida]]<br>[[Yumi Suzuki]]<br>[[Yurika Yoshida]]<br>[[Kotomi Ishizaki]]\n",
            "|{{flagIOC|SWE|2022 Winter}}<br>[[Anna Hasselborg]]<br>[[Sara McManus]]<br>[[Agnes Knochenhauer]]<br>[[Sofia Mabergs]]<br>[[Johanna Heldin]]\n",
            "|-\n",
            "|Mixed doubles<br/>{{DetailsLink|Curling at the 2022 Winter Olympics – Mixed doubles tournament}}\n",
            "|{{flagIOC|ITA|2022 Winter}}<br>[[Stefania Constantini]]<br>[[Amos Mosaner]]\n",
            "|{{flagIOC|NOR|2022 Winter}}<br>[[Kristin Skaslien]]<br>[[Magnus Nedregotten]]\n",
            "|{{flagIOC|SWE|2022 Winter}}<br>[[Almida de Val]]<br>[[Oskar Eriksson]]\n",
            "|}\n",
            "\"\"\"\n",
            "\n",
            "Wikipedia article section:\n",
            "\"\"\"\n",
            "Curling at the 2022 Winter Olympics\n",
            "\n",
            "==Results summary==\n",
            "\n",
            "===Men's tournament===\n",
            "\n",
            "====Playoffs====\n",
            "\n",
            "=====Gold medal game=====\n",
            "\n",
            "''Saturday, 19 February, 14:50''\n",
            "{{#lst:Curling at the 2022 Winter Olympics – Men's tournament|GM}}\n",
            "{{Player percentages\n",
            "| team1 = {{flagIOC|GBR|2022 Winter}}\n",
            "| [[Hammy McMillan Jr.]] | 95%\n",
            "| [[Bobby Lammie]] | 80%\n",
            "| [[Grant Hardie]] | 94%\n",
            "| [[Bruce Mouat]] | 89%\n",
            "| teampct1 = 90%\n",
            "| team2 = {{flagIOC|SWE|2022 Winter}}\n",
            "| [[Christoffer Sundgren]] | 99%\n",
            "| [[Rasmus Wranå]] | 95%\n",
            "| [[Oskar Eriksson]] | 93%\n",
            "| [[Niklas Edin]] | 87%\n",
            "| teampct2 = 94%\n",
            "}}\n",
            "\"\"\"\n",
            "\n",
            "Wikipedia article section:\n",
            "\"\"\"\n",
            "Curling at the 2022 Winter Olympics\n",
            "\n",
            "==Results summary==\n",
            "\n",
            "===Men's tournament===\n",
            "\n",
            "====Playoffs====\n",
            "\n",
            "=====Bronze medal game=====\n",
            "\n",
            "''Friday, 18 February, 14:05''\n",
            "{{#lst:Curling at the 2022 Winter Olympics – Men's tournament|BM}}\n",
            "{{Player percentages\n",
            "| team1 = {{flagIOC|USA|2022 Winter}}\n",
            "| [[John Landsteiner]] | 80%\n",
            "| [[Matt Hamilton (curler)|Matt Hamilton]] | 86%\n",
            "| [[Chris Plys]] | 74%\n",
            "| [[John Shuster]] | 69%\n",
            "| teampct1 = 77%\n",
            "| team2 = {{flagIOC|CAN|2022 Winter}}\n",
            "| [[Geoff Walker (curler)|Geoff Walker]] | 84%\n",
            "| [[Brett Gallant]] | 86%\n",
            "| [[Mark Nichols (curler)|Mark Nichols]] | 78%\n",
            "| [[Brad Gushue]] | 78%\n",
            "| teampct2 = 82%\n",
            "}}\n",
            "\"\"\"\n",
            "\n",
            "Wikipedia article section:\n",
            "\"\"\"\n",
            "Russian Olympic Committee athletes at the 2022 Winter Olympics\n",
            "\n",
            "==Curling==\n",
            "\n",
            "{{main|Curling at the 2022 Winter Olympics|Curling at the 2022 Winter Olympics – Qualification}}\n",
            "\n",
            "Based on results of the 2021 World Curling Championships and Olympic Qualification Event, Russian Olympic Committee has qualified for men's and women's tournaments. Russian Curling Federation announced the five men and five women participating on 4 January 2022.\n",
            "\n",
            ";Summary\n",
            "{|class=wikitable style=font-size:90%;text-align:center\n",
            "|-\n",
            "!rowspan=2|Team\n",
            "!rowspan=2|Event\n",
            "!colspan=10|Group stage\n",
            "!Semifinal\n",
            "!colspan=2|Final / {{abbr|BM|Bronze medal match}}\n",
            "|-style=\"font-size:95%\"\n",
            "!Opposition<br />Score\n",
            "!Opposition<br />Score\n",
            "!Opposition<br />Score\n",
            "!Opposition<br />Score\n",
            "!Opposition<br />Score\n",
            "!Opposition<br />Score\n",
            "!Opposition<br />Score\n",
            "!Opposition<br />Score\n",
            "!Opposition<br />Score\n",
            "!Rank\n",
            "!Opposition<br />Score\n",
            "!Opposition<br />Score\n",
            "!Rank\n",
            "|-\n",
            "|align=left|[[Sergey Glukhov]]<br>[[Evgeny Klimov (curler)|Evgeny Klimov]]<br>[[Dmitry Mironov]]<br>[[Anton Kalalb]]<br>[[Daniil Goriachev]]\n",
            "|align=left|[[Curling at the 2022 Winter Olympics – Men's tournament|Men's tournament]]\n",
            "|{{flagIOCshort|USA|2022 Winter}}<br>'''L''' 5–6\n",
            "|{{flagIOCshort|CHN|2022 Winter}}<br>'''W''' 7–4\n",
            "|{{flagIOCshort|SUI|2022 Winter}}<br>'''L''' 3–6\n",
            "|{{flagIOCshort|DEN|2022 Winter}}<br>'''W''' 10–2\n",
            "|{{flagIOCshort|ITA|2022 Winter}}<br>'''W''' 10–7\n",
            "|{{flagIOCshort|SWE|2022 Winter}}<br>'''L''' 5–7\n",
            "|{{flagIOCshort|NOR|2022 Winter}}<br>'''L''' 5–12\n",
            "|{{flagIOCshort|CAN|2022 Winter}}<br>'''W''' 7–6\n",
            "|{{flagIOCshort|GBR|2022 Winter}}<br>'''L''' 6–8\n",
            "|8\n",
            "|colspan=3|Did not advance\n",
            "|-\n",
            "|align=left|[[Alina Kovaleva]]<br>[[Yulia Portunova]]<br>[[Galina Arsenkina]]<br>[[Ekaterina Kuzmina]]<br>[[Maria Komarova]]\n",
            "|align=left|[[Curling at the 2022 Winter Olympics – Women's tournament|Women's tournament]]\n",
            "|{{flagIOCshort|USA|2022 Winter}}<br>'''L''' 3–9\n",
            "|{{flagIOCshort|SUI|2022 Winter}}<br>'''L''' 7–8\n",
            "|{{flagIOCshort|KOR|2022 Winter}}<br>'''L''' 5–9\n",
            "|{{flagIOCshort|JPN|2022 Winter}}<br>'''L''' 5–10\n",
            "|{{flagIOCshort|CAN|2022 Winter}}<br>'''L''' 5–11\n",
            "|{{flagIOCshort|DEN|2022 Winter}}<br>'''L''' 5–10\n",
            "|{{flagIOCshort|CHN|2022 Winter}}<br>'''W''' 11–5\n",
            "|{{flagIOCshort|SWE|2022 Winter}}<br>'''L''' 5–8\n",
            "|{{flagIOCshort|GBR|2022 Winter}}<br>'''L''' 4–9\n",
            "|10\n",
            "|colspan=3|Did not advance\n",
            "|}\n",
            "\"\"\"\n",
            "\n",
            "Wikipedia article section:\n",
            "\"\"\"\n",
            "Curling at the 2022 Winter Olympics\n",
            "\n",
            "==Results summary==\n",
            "\n",
            "===Women's tournament===\n",
            "\n",
            "====Playoffs====\n",
            "\n",
            "=====Bronze medal game=====\n",
            "\n",
            "''Saturday, 19 February, 20:05''\n",
            "{{#lst:Curling at the 2022 Winter Olympics – Women's tournament|BM}}\n",
            "{{Player percentages\n",
            "| team1 = {{flagIOC|SUI|2022 Winter}}\n",
            "| [[Melanie Barbezat]] | 79%\n",
            "| [[Esther Neuenschwander]] | 75%\n",
            "| [[Silvana Tirinzoni]] | 81%\n",
            "| [[Alina Pätz]] | 64%\n",
            "| teampct1 = 75%\n",
            "| team2 = {{flagIOC|SWE|2022 Winter}}\n",
            "| [[Sofia Mabergs]] | 89%\n",
            "| [[Agnes Knochenhauer]] | 80%\n",
            "| [[Sara McManus]] | 81%\n",
            "| [[Anna Hasselborg]] | 76%\n",
            "| teampct2 = 82%\n",
            "}}\n",
            "\"\"\"\n",
            "\n",
            "Wikipedia article section:\n",
            "\"\"\"\n",
            "Curling at the 2022 Winter Olympics\n",
            "\n",
            "==Teams==\n",
            "\n",
            "===Mixed doubles===\n",
            "\n",
            "{| class=wikitable\n",
            "|-\n",
            "!width=200|{{flagIOC|AUS|2022 Winter}}\n",
            "!width=200|{{flagIOC|CAN|2022 Winter}}\n",
            "!width=200|{{flagIOC|CHN|2022 Winter}}\n",
            "!width=200|{{flagIOC|CZE|2022 Winter}}\n",
            "!width=200|{{flagIOC|GBR|2022 Winter}}\n",
            "|-\n",
            "|\n",
            "'''Female:''' [[Tahli Gill]]<br>\n",
            "'''Male:''' [[Dean Hewitt]]\n",
            "|\n",
            "'''Female:''' [[Rachel Homan]]<br>\n",
            "'''Male:''' [[John Morris (curler)|John Morris]]\n",
            "|\n",
            "'''Female:''' [[Fan Suyuan]]<br>\n",
            "'''Male:''' [[Ling Zhi]]\n",
            "|\n",
            "'''Female:''' [[Zuzana Paulová]]<br>\n",
            "'''Male:''' [[Tomáš Paul]]\n",
            "|\n",
            "'''Female:''' [[Jennifer Dodds]]<br>\n",
            "'''Male:''' [[Bruce Mouat]]\n",
            "|-\n",
            "!width=200|{{flagIOC|ITA|2022 Winter}}\n",
            "!width=200|{{flagIOC|NOR|2022 Winter}}\n",
            "!width=200|{{flagIOC|SWE|2022 Winter}}\n",
            "!width=200|{{flagIOC|SUI|2022 Winter}}\n",
            "!width=200|{{flagIOC|USA|2022 Winter}}\n",
            "|-\n",
            "|\n",
            "'''Female:''' [[Stefania Constantini]]<br>\n",
            "'''Male:''' [[Amos Mosaner]]\n",
            "|\n",
            "'''Female:''' [[Kristin Skaslien]]<br>\n",
            "'''Male:''' [[Magnus Nedregotten]]\n",
            "|\n",
            "'''Female:''' [[Almida de Val]]<br>\n",
            "'''Male:''' [[Oskar Eriksson]]\n",
            "|\n",
            "'''Female:''' [[Jenny Perret]]<br>\n",
            "'''Male:''' [[Martin Rios]]\n",
            "|\n",
            "'''Female:''' [[Vicky Persinger]]<br>\n",
            "'''Male:''' [[Chris Plys]]\n",
            "|}\n",
            "\"\"\"\n",
            "\n",
            "Question: 'Which athletes won the gold medal in curling at the 2022 Winter Olympics?\n"
          ]
        }
      ],
      "source": [
        "query = query_message(\"'Which athletes won the gold medal in curling at \\\n",
        "the 2022 Winter Olympics?\", df, GPT_MODEL, 3700)\n",
        "\n",
        "print(query)"
      ]
    },
    {
      "cell_type": "markdown",
      "source": [
        "We have now obtained the sections that are most relevant to the question and crafted a query. As a final step, let's put it all together to get an answer to the question.\n"
      ],
      "metadata": {
        "id": "8ln0tkZ3iQUp"
      },
      "id": "8ln0tkZ3iQUp"
    },
    {
      "cell_type": "code",
      "source": [
        "def ask(\n",
        "    query: str,\n",
        "    df: pd.DataFrame = df,\n",
        "    model: str = GPT_MODEL,\n",
        "    token_budget: int = 4096 - 500,\n",
        ") -> str:\n",
        "    \"\"\"Answers a query using GPT and a dataframe of relevant texts and embeddings.\"\"\"\n",
        "    message = query_message(query, df, model=model, token_budget=token_budget)\n",
        "\n",
        "    messages = [\n",
        "        {\"role\": \"system\", \"content\": \"You answer questions about the 2022 Winter Olympics.\"},\n",
        "        {\"role\": \"user\", \"content\": message},\n",
        "    ]\n",
        "\n",
        "    response = client.chat.completions.create(\n",
        "        model=model,\n",
        "        messages=messages,\n",
        "        temperature=0\n",
        "    )\n",
        "    response_message = response.choices[0].message.content\n",
        "    return response_message"
      ],
      "metadata": {
        "id": "GiE7Y4DWiL8-"
      },
      "id": "GiE7Y4DWiL8-",
      "execution_count": null,
      "outputs": []
    },
    {
      "cell_type": "markdown",
      "id": "1b022fd4-0a3c-4ae1-bed1-4c80e4f0fb56",
      "metadata": {
        "tags": [],
        "id": "1b022fd4-0a3c-4ae1-bed1-4c80e4f0fb56"
      },
      "source": [
        "#### Send the query into `gpt-3.5-turbo`!\n",
        "\n",
        "Now that we've retrieved the relevant sections and constructed our prompt, we can finally answer the user's query."
      ]
    },
    {
      "cell_type": "code",
      "source": [
        "print(ask('Which athletes won the gold medal in curling at the 2022 Winter Olympics?'))"
      ],
      "metadata": {
        "id": "kUJw_C5UgkCZ",
        "outputId": "e4b556b4-fde0-4375-ae74-8495664b8dae",
        "colab": {
          "base_uri": "https://localhost:8080/"
        }
      },
      "id": "kUJw_C5UgkCZ",
      "execution_count": null,
      "outputs": [
        {
          "output_type": "stream",
          "name": "stdout",
          "text": [
            "The athletes who won the gold medal in curling at the 2022 Winter Olympics were:\n",
            "\n",
            "- Men's tournament: Team Italy - Stefania Constantini, Amos Mosaner, Kristin Skaslien, Magnus Nedregotten\n",
            "- Women's tournament: Team Great Britain - Eve Muirhead, Vicky Wright, Jennifer Dodds, Hailey Duff, Mili Smith\n",
            "- Mixed doubles tournament: Team Sweden - Almida de Val, Oskar Eriksson\n"
          ]
        }
      ]
    },
    {
      "cell_type": "markdown",
      "source": [
        "Nice!\n",
        "\n",
        "Let's ask a question for an Olympics event that never happened!"
      ],
      "metadata": {
        "id": "wF_dng2dEJFH"
      },
      "id": "wF_dng2dEJFH"
    },
    {
      "cell_type": "code",
      "source": [
        "print(ask('Which athletes won the gold medal in curling at the 2016 Winter Olympics?'))"
      ],
      "metadata": {
        "id": "vC9LfXISED8l",
        "colab": {
          "base_uri": "https://localhost:8080/"
        },
        "outputId": "ba54bec9-4918-460f-9742-225f7d4c2361"
      },
      "id": "vC9LfXISED8l",
      "execution_count": null,
      "outputs": [
        {
          "output_type": "stream",
          "name": "stdout",
          "text": [
            "Sorry, I don't know.\n"
          ]
        }
      ]
    },
    {
      "cell_type": "markdown",
      "source": [
        "Good, it is trying to be humble and say \"I don't know\"."
      ],
      "metadata": {
        "id": "8eDW-Li0lo9T"
      },
      "id": "8eDW-Li0lo9T"
    },
    {
      "cell_type": "markdown",
      "source": [
        "Let's change the header to \"allow it to lie\" if it wants 👀 and see if it takes the bait."
      ],
      "metadata": {
        "id": "QmSnLQNbEb8n"
      },
      "id": "QmSnLQNbEb8n"
    },
    {
      "cell_type": "code",
      "source": [
        "HEADER = \"\"\"\n",
        "Answer the question using the provided context.\"\\n\\nContext:\\n\n",
        "\"\"\""
      ],
      "metadata": {
        "id": "pJvZaDWfEbY9"
      },
      "id": "pJvZaDWfEbY9",
      "execution_count": null,
      "outputs": []
    },
    {
      "cell_type": "code",
      "source": [
        "print(ask('Which athletes won the gold medal in curling at the 2016 Winter Olympics?'))"
      ],
      "metadata": {
        "id": "0D5ixg3aEpIB",
        "colab": {
          "base_uri": "https://localhost:8080/"
        },
        "outputId": "2c9e65a6-2f5c-449d-868c-74e559becd8b"
      },
      "id": "0D5ixg3aEpIB",
      "execution_count": null,
      "outputs": [
        {
          "output_type": "stream",
          "name": "stdout",
          "text": [
            "The athletes who won the gold medal in curling at the 2022 Winter Olympics were from Great Britain. The team consisted of Hammy McMillan Jr., Bobby Lammie, Grant Hardie, and Bruce Mouat.\n"
          ]
        }
      ]
    },
    {
      "cell_type": "markdown",
      "source": [
        "Hmm ... it is answering an irrelevant question. Removing that little extra phrase in the header - `as truthfully as possible` - changed its behavior!\n",
        "\n"
      ],
      "metadata": {
        "id": "7M4UdUiiE0N1"
      },
      "id": "7M4UdUiiE0N1"
    },
    {
      "cell_type": "markdown",
      "id": "7b48d155-d2d4-447c-ab8e-5a5b4722b07c",
      "metadata": {
        "id": "7b48d155-d2d4-447c-ab8e-5a5b4722b07c"
      },
      "source": [
        "## Conclusion\n",
        "By combining pretrained contextual embeddings and `text-davinci-003`, we have created a question-answering model using Retrieval-Augmented Generation that can answer questions in natural language using a custom dataset. It also **tries** not to make stuff up and says \"I don't know\" when it doesn't know the answer! **But this is not guaranteed.**\n",
        "\n",
        "For this example we have used a dataset of Wikipedia articles, but that dataset could be replaced with books, articles, documentation, service manuals, or much much more.\n",
        "\n"
      ]
    },
    {
      "cell_type": "markdown",
      "source": [
        "\n",
        "\n",
        "---\n",
        "\n",
        "How you can use this approach to \"understand\" a dense 56-page legal document:\n",
        "A fun [example](https://www.youtube.com/watch?v=ih9PBGVVOO4)\n",
        "\n",
        "---\n",
        "\n",
        "\n"
      ],
      "metadata": {
        "id": "pM5FjVPUCAuT"
      },
      "id": "pM5FjVPUCAuT"
    }
  ],
  "metadata": {
    "kernelspec": {
      "display_name": "Python 3.9.9 ('openai')",
      "language": "python",
      "name": "python3"
    },
    "language_info": {
      "codemirror_mode": {
        "name": "ipython",
        "version": 3
      },
      "file_extension": ".py",
      "mimetype": "text/x-python",
      "name": "python",
      "nbconvert_exporter": "python",
      "pygments_lexer": "ipython3",
      "version": "3.9.9"
    },
    "vscode": {
      "interpreter": {
        "hash": "365536dcbde60510dc9073d6b991cd35db2d9bac356a11f5b64279a5e6708b97"
      }
    },
    "colab": {
      "provenance": []
    }
  },
  "nbformat": 4,
  "nbformat_minor": 5
}