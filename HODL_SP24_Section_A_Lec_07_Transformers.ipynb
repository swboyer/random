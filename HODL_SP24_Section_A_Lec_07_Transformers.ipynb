{
  "nbformat": 4,
  "nbformat_minor": 0,
  "metadata": {
    "colab": {
      "provenance": [],
      "machine_shape": "hm"
    },
    "kernelspec": {
      "display_name": "Python 3",
      "name": "python3"
    },
    "language_info": {
      "name": "python"
    },
    "accelerator": "GPU"
  },
  "cells": [
    {
      "cell_type": "markdown",
      "metadata": {
        "id": "pLgwRLZiMVJv"
      },
      "source": [
        "# HODL-SP24-Lec-7-Transformers\n",
        "\n"
      ]
    },
    {
      "cell_type": "markdown",
      "source": [
        "## Introduction"
      ],
      "metadata": {
        "id": "XmxYrFl9m1hM"
      }
    },
    {
      "cell_type": "markdown",
      "metadata": {
        "id": "Wj53iy-WKMhu"
      },
      "source": [
        "\n",
        "\n",
        "In the previous module we studied the use of NLP to classify text. We saw that bag of words and bigrams (with a bit of help from word embeddings) were very useful for this task. In this module we will focus on a different task for which we'll need to develop a different neural network architecture.\n",
        "\n",
        "\n",
        "For this module we will use the ATIS dataset which includes queries from people trying to find travel information and book flight tickets between two destinations. The task will be to read this raw query and identify the key \"entities\" (or slots) in that query (which airports or cities, what days and times etc)."
      ]
    },
    {
      "cell_type": "markdown",
      "metadata": {
        "id": "3899YULkO2is"
      },
      "source": [
        "## Data Preprocessing\n"
      ]
    },
    {
      "cell_type": "markdown",
      "source": [
        "\n",
        "Let's begin extracting the data from the ATIS dataset and turning into a form that we can use in our Deep Learning models.\n",
        "\n",
        "The ATIS dataset is a standard benchmark dataset widely used to build models for intent classification and slot filling tasks (we will explain all this shortly). You can find a very detailed explanation [here](https://catalog.ldc.upenn.edu/docs/LDC93S4B/corpus.html).\n",
        "\n",
        "We will begin by loading the file and then partitioning into a test and a training set."
      ],
      "metadata": {
        "id": "xgv9-wh2i-eg"
      }
    },
    {
      "cell_type": "code",
      "metadata": {
        "id": "7rJh-xXx4jgD"
      },
      "source": [
        "import pandas as pd\n",
        "import numpy as np\n",
        "import os\n",
        "import matplotlib.pyplot as plt\n",
        "\n",
        "import tensorflow as tf\n",
        "from tensorflow import keras\n",
        "\n",
        "keras.utils.set_random_seed(42)"
      ],
      "execution_count": null,
      "outputs": []
    },
    {
      "cell_type": "code",
      "metadata": {
        "id": "muYUY4P67rma"
      },
      "source": [
        "df_train = pd.read_csv('https://www.dropbox.com/s/3pjctskve34qef5/atis_train_data.csv?dl=1')\n",
        "df_test = pd.read_csv('https://www.dropbox.com/s/pv7uc7ozvdxkncs/atis_test_data.csv?dl=1')"
      ],
      "execution_count": null,
      "outputs": []
    },
    {
      "cell_type": "code",
      "source": [
        "df_train.head()"
      ],
      "metadata": {
        "colab": {
          "base_uri": "https://localhost:8080/",
          "height": 206
        },
        "id": "iCpAdpM2ztvB",
        "outputId": "9bb9eb7a-34be-4947-bbbd-1da632016aa3"
      },
      "execution_count": null,
      "outputs": [
        {
          "output_type": "execute_result",
          "data": {
            "text/plain": [
              "   Unnamed: 0                                              query       intent  \\\n",
              "0           0   i want to fly from boston at 838 am and arriv...       flight   \n",
              "1           1   what flights are available from pittsburgh to...       flight   \n",
              "2           2   what is the arrival time in san francisco for...  flight_time   \n",
              "3           3           cheapest airfare from tacoma to orlando       airfare   \n",
              "4           4   round trip fares from pittsburgh to philadelp...      airfare   \n",
              "\n",
              "                                        slot filling  \n",
              "0   O O O O O B-fromloc.city_name O B-depart_time...  \n",
              "1   O O O O O B-fromloc.city_name O B-toloc.city_...  \n",
              "2   O O O B-flight_time I-flight_time O B-fromloc...  \n",
              "3   B-cost_relative O O B-fromloc.city_name O B-t...  \n",
              "4   B-round_trip I-round_trip O O B-fromloc.city_...  "
            ],
            "text/html": [
              "\n",
              "  <div id=\"df-f17c7008-680a-443b-bf38-89783e2dba00\" class=\"colab-df-container\">\n",
              "    <div>\n",
              "<style scoped>\n",
              "    .dataframe tbody tr th:only-of-type {\n",
              "        vertical-align: middle;\n",
              "    }\n",
              "\n",
              "    .dataframe tbody tr th {\n",
              "        vertical-align: top;\n",
              "    }\n",
              "\n",
              "    .dataframe thead th {\n",
              "        text-align: right;\n",
              "    }\n",
              "</style>\n",
              "<table border=\"1\" class=\"dataframe\">\n",
              "  <thead>\n",
              "    <tr style=\"text-align: right;\">\n",
              "      <th></th>\n",
              "      <th>Unnamed: 0</th>\n",
              "      <th>query</th>\n",
              "      <th>intent</th>\n",
              "      <th>slot filling</th>\n",
              "    </tr>\n",
              "  </thead>\n",
              "  <tbody>\n",
              "    <tr>\n",
              "      <th>0</th>\n",
              "      <td>0</td>\n",
              "      <td>i want to fly from boston at 838 am and arriv...</td>\n",
              "      <td>flight</td>\n",
              "      <td>O O O O O B-fromloc.city_name O B-depart_time...</td>\n",
              "    </tr>\n",
              "    <tr>\n",
              "      <th>1</th>\n",
              "      <td>1</td>\n",
              "      <td>what flights are available from pittsburgh to...</td>\n",
              "      <td>flight</td>\n",
              "      <td>O O O O O B-fromloc.city_name O B-toloc.city_...</td>\n",
              "    </tr>\n",
              "    <tr>\n",
              "      <th>2</th>\n",
              "      <td>2</td>\n",
              "      <td>what is the arrival time in san francisco for...</td>\n",
              "      <td>flight_time</td>\n",
              "      <td>O O O B-flight_time I-flight_time O B-fromloc...</td>\n",
              "    </tr>\n",
              "    <tr>\n",
              "      <th>3</th>\n",
              "      <td>3</td>\n",
              "      <td>cheapest airfare from tacoma to orlando</td>\n",
              "      <td>airfare</td>\n",
              "      <td>B-cost_relative O O B-fromloc.city_name O B-t...</td>\n",
              "    </tr>\n",
              "    <tr>\n",
              "      <th>4</th>\n",
              "      <td>4</td>\n",
              "      <td>round trip fares from pittsburgh to philadelp...</td>\n",
              "      <td>airfare</td>\n",
              "      <td>B-round_trip I-round_trip O O B-fromloc.city_...</td>\n",
              "    </tr>\n",
              "  </tbody>\n",
              "</table>\n",
              "</div>\n",
              "    <div class=\"colab-df-buttons\">\n",
              "\n",
              "  <div class=\"colab-df-container\">\n",
              "    <button class=\"colab-df-convert\" onclick=\"convertToInteractive('df-f17c7008-680a-443b-bf38-89783e2dba00')\"\n",
              "            title=\"Convert this dataframe to an interactive table.\"\n",
              "            style=\"display:none;\">\n",
              "\n",
              "  <svg xmlns=\"http://www.w3.org/2000/svg\" height=\"24px\" viewBox=\"0 -960 960 960\">\n",
              "    <path d=\"M120-120v-720h720v720H120Zm60-500h600v-160H180v160Zm220 220h160v-160H400v160Zm0 220h160v-160H400v160ZM180-400h160v-160H180v160Zm440 0h160v-160H620v160ZM180-180h160v-160H180v160Zm440 0h160v-160H620v160Z\"/>\n",
              "  </svg>\n",
              "    </button>\n",
              "\n",
              "  <style>\n",
              "    .colab-df-container {\n",
              "      display:flex;\n",
              "      gap: 12px;\n",
              "    }\n",
              "\n",
              "    .colab-df-convert {\n",
              "      background-color: #E8F0FE;\n",
              "      border: none;\n",
              "      border-radius: 50%;\n",
              "      cursor: pointer;\n",
              "      display: none;\n",
              "      fill: #1967D2;\n",
              "      height: 32px;\n",
              "      padding: 0 0 0 0;\n",
              "      width: 32px;\n",
              "    }\n",
              "\n",
              "    .colab-df-convert:hover {\n",
              "      background-color: #E2EBFA;\n",
              "      box-shadow: 0px 1px 2px rgba(60, 64, 67, 0.3), 0px 1px 3px 1px rgba(60, 64, 67, 0.15);\n",
              "      fill: #174EA6;\n",
              "    }\n",
              "\n",
              "    .colab-df-buttons div {\n",
              "      margin-bottom: 4px;\n",
              "    }\n",
              "\n",
              "    [theme=dark] .colab-df-convert {\n",
              "      background-color: #3B4455;\n",
              "      fill: #D2E3FC;\n",
              "    }\n",
              "\n",
              "    [theme=dark] .colab-df-convert:hover {\n",
              "      background-color: #434B5C;\n",
              "      box-shadow: 0px 1px 3px 1px rgba(0, 0, 0, 0.15);\n",
              "      filter: drop-shadow(0px 1px 2px rgba(0, 0, 0, 0.3));\n",
              "      fill: #FFFFFF;\n",
              "    }\n",
              "  </style>\n",
              "\n",
              "    <script>\n",
              "      const buttonEl =\n",
              "        document.querySelector('#df-f17c7008-680a-443b-bf38-89783e2dba00 button.colab-df-convert');\n",
              "      buttonEl.style.display =\n",
              "        google.colab.kernel.accessAllowed ? 'block' : 'none';\n",
              "\n",
              "      async function convertToInteractive(key) {\n",
              "        const element = document.querySelector('#df-f17c7008-680a-443b-bf38-89783e2dba00');\n",
              "        const dataTable =\n",
              "          await google.colab.kernel.invokeFunction('convertToInteractive',\n",
              "                                                    [key], {});\n",
              "        if (!dataTable) return;\n",
              "\n",
              "        const docLinkHtml = 'Like what you see? Visit the ' +\n",
              "          '<a target=\"_blank\" href=https://colab.research.google.com/notebooks/data_table.ipynb>data table notebook</a>'\n",
              "          + ' to learn more about interactive tables.';\n",
              "        element.innerHTML = '';\n",
              "        dataTable['output_type'] = 'display_data';\n",
              "        await google.colab.output.renderOutput(dataTable, element);\n",
              "        const docLink = document.createElement('div');\n",
              "        docLink.innerHTML = docLinkHtml;\n",
              "        element.appendChild(docLink);\n",
              "      }\n",
              "    </script>\n",
              "  </div>\n",
              "\n",
              "\n",
              "<div id=\"df-6496e91b-3b8c-4345-8f81-47c7f0cb5b28\">\n",
              "  <button class=\"colab-df-quickchart\" onclick=\"quickchart('df-6496e91b-3b8c-4345-8f81-47c7f0cb5b28')\"\n",
              "            title=\"Suggest charts\"\n",
              "            style=\"display:none;\">\n",
              "\n",
              "<svg xmlns=\"http://www.w3.org/2000/svg\" height=\"24px\"viewBox=\"0 0 24 24\"\n",
              "     width=\"24px\">\n",
              "    <g>\n",
              "        <path d=\"M19 3H5c-1.1 0-2 .9-2 2v14c0 1.1.9 2 2 2h14c1.1 0 2-.9 2-2V5c0-1.1-.9-2-2-2zM9 17H7v-7h2v7zm4 0h-2V7h2v10zm4 0h-2v-4h2v4z\"/>\n",
              "    </g>\n",
              "</svg>\n",
              "  </button>\n",
              "\n",
              "<style>\n",
              "  .colab-df-quickchart {\n",
              "      --bg-color: #E8F0FE;\n",
              "      --fill-color: #1967D2;\n",
              "      --hover-bg-color: #E2EBFA;\n",
              "      --hover-fill-color: #174EA6;\n",
              "      --disabled-fill-color: #AAA;\n",
              "      --disabled-bg-color: #DDD;\n",
              "  }\n",
              "\n",
              "  [theme=dark] .colab-df-quickchart {\n",
              "      --bg-color: #3B4455;\n",
              "      --fill-color: #D2E3FC;\n",
              "      --hover-bg-color: #434B5C;\n",
              "      --hover-fill-color: #FFFFFF;\n",
              "      --disabled-bg-color: #3B4455;\n",
              "      --disabled-fill-color: #666;\n",
              "  }\n",
              "\n",
              "  .colab-df-quickchart {\n",
              "    background-color: var(--bg-color);\n",
              "    border: none;\n",
              "    border-radius: 50%;\n",
              "    cursor: pointer;\n",
              "    display: none;\n",
              "    fill: var(--fill-color);\n",
              "    height: 32px;\n",
              "    padding: 0;\n",
              "    width: 32px;\n",
              "  }\n",
              "\n",
              "  .colab-df-quickchart:hover {\n",
              "    background-color: var(--hover-bg-color);\n",
              "    box-shadow: 0 1px 2px rgba(60, 64, 67, 0.3), 0 1px 3px 1px rgba(60, 64, 67, 0.15);\n",
              "    fill: var(--button-hover-fill-color);\n",
              "  }\n",
              "\n",
              "  .colab-df-quickchart-complete:disabled,\n",
              "  .colab-df-quickchart-complete:disabled:hover {\n",
              "    background-color: var(--disabled-bg-color);\n",
              "    fill: var(--disabled-fill-color);\n",
              "    box-shadow: none;\n",
              "  }\n",
              "\n",
              "  .colab-df-spinner {\n",
              "    border: 2px solid var(--fill-color);\n",
              "    border-color: transparent;\n",
              "    border-bottom-color: var(--fill-color);\n",
              "    animation:\n",
              "      spin 1s steps(1) infinite;\n",
              "  }\n",
              "\n",
              "  @keyframes spin {\n",
              "    0% {\n",
              "      border-color: transparent;\n",
              "      border-bottom-color: var(--fill-color);\n",
              "      border-left-color: var(--fill-color);\n",
              "    }\n",
              "    20% {\n",
              "      border-color: transparent;\n",
              "      border-left-color: var(--fill-color);\n",
              "      border-top-color: var(--fill-color);\n",
              "    }\n",
              "    30% {\n",
              "      border-color: transparent;\n",
              "      border-left-color: var(--fill-color);\n",
              "      border-top-color: var(--fill-color);\n",
              "      border-right-color: var(--fill-color);\n",
              "    }\n",
              "    40% {\n",
              "      border-color: transparent;\n",
              "      border-right-color: var(--fill-color);\n",
              "      border-top-color: var(--fill-color);\n",
              "    }\n",
              "    60% {\n",
              "      border-color: transparent;\n",
              "      border-right-color: var(--fill-color);\n",
              "    }\n",
              "    80% {\n",
              "      border-color: transparent;\n",
              "      border-right-color: var(--fill-color);\n",
              "      border-bottom-color: var(--fill-color);\n",
              "    }\n",
              "    90% {\n",
              "      border-color: transparent;\n",
              "      border-bottom-color: var(--fill-color);\n",
              "    }\n",
              "  }\n",
              "</style>\n",
              "\n",
              "  <script>\n",
              "    async function quickchart(key) {\n",
              "      const quickchartButtonEl =\n",
              "        document.querySelector('#' + key + ' button');\n",
              "      quickchartButtonEl.disabled = true;  // To prevent multiple clicks.\n",
              "      quickchartButtonEl.classList.add('colab-df-spinner');\n",
              "      try {\n",
              "        const charts = await google.colab.kernel.invokeFunction(\n",
              "            'suggestCharts', [key], {});\n",
              "      } catch (error) {\n",
              "        console.error('Error during call to suggestCharts:', error);\n",
              "      }\n",
              "      quickchartButtonEl.classList.remove('colab-df-spinner');\n",
              "      quickchartButtonEl.classList.add('colab-df-quickchart-complete');\n",
              "    }\n",
              "    (() => {\n",
              "      let quickchartButtonEl =\n",
              "        document.querySelector('#df-6496e91b-3b8c-4345-8f81-47c7f0cb5b28 button');\n",
              "      quickchartButtonEl.style.display =\n",
              "        google.colab.kernel.accessAllowed ? 'block' : 'none';\n",
              "    })();\n",
              "  </script>\n",
              "</div>\n",
              "\n",
              "    </div>\n",
              "  </div>\n"
            ],
            "application/vnd.google.colaboratory.intrinsic+json": {
              "type": "dataframe",
              "variable_name": "df_train",
              "summary": "{\n  \"name\": \"df_train\",\n  \"rows\": 4978,\n  \"fields\": [\n    {\n      \"column\": \"Unnamed: 0\",\n      \"properties\": {\n        \"dtype\": \"number\",\n        \"std\": 1437,\n        \"min\": 0,\n        \"max\": 4977,\n        \"num_unique_values\": 4978,\n        \"samples\": [\n          3992,\n          144,\n          3062\n        ],\n        \"semantic_type\": \"\",\n        \"description\": \"\"\n      }\n    },\n    {\n      \"column\": \"query\",\n      \"properties\": {\n        \"dtype\": \"string\",\n        \"num_unique_values\": 4634,\n        \"samples\": [\n          \" what is the last flight leaving san francisco going to washington on friday \",\n          \" what are the seating capacities of planes between pittsburgh and baltimore \",\n          \" in atlanta i would like information on ground transportation \"\n        ],\n        \"semantic_type\": \"\",\n        \"description\": \"\"\n      }\n    },\n    {\n      \"column\": \"intent\",\n      \"properties\": {\n        \"dtype\": \"category\",\n        \"num_unique_values\": 22,\n        \"samples\": [\n          \"flight\",\n          \"capacity\",\n          \"abbreviation\"\n        ],\n        \"semantic_type\": \"\",\n        \"description\": \"\"\n      }\n    },\n    {\n      \"column\": \"slot filling\",\n      \"properties\": {\n        \"dtype\": \"string\",\n        \"num_unique_values\": 2898,\n        \"samples\": [\n          \" O O O O O O O O O O B-city_name \",\n          \" O O O O O B-fromloc.airport_name I-fromloc.airport_name O B-toloc.city_name I-toloc.city_name I-toloc.city_name O \",\n          \" O O O O B-airline_code O O B-fromloc.city_name O B-toloc.city_name O O B-arrive_time.time_relative B-arrive_time.time I-arrive_time.time \"\n        ],\n        \"semantic_type\": \"\",\n        \"description\": \"\"\n      }\n    }\n  ]\n}"
            }
          },
          "metadata": {},
          "execution_count": 3
        }
      ]
    },
    {
      "cell_type": "markdown",
      "metadata": {
        "id": "WBciCu0YP_Sg"
      },
      "source": [
        "Let's take a look at some queries and the corresponding slot-filling answers."
      ]
    },
    {
      "cell_type": "code",
      "metadata": {
        "id": "vLhrFAkw4yTF"
      },
      "source": [
        "pd.set_option('display.max_colwidth', None)\n",
        "\n",
        "df_small = pd.DataFrame(columns=['query','intent','slot filling'])\n",
        "j = 0\n",
        "for i in df_train.intent.unique():\n",
        "  df_small.loc[j] = df_train[df_train.intent==i].iloc[0]\n",
        "  j = j+1"
      ],
      "execution_count": null,
      "outputs": []
    },
    {
      "cell_type": "code",
      "source": [
        "df_small"
      ],
      "metadata": {
        "colab": {
          "base_uri": "https://localhost:8080/",
          "height": 861
        },
        "id": "ZU4jH1fu0J_P",
        "outputId": "894ee6e5-3a52-4e1d-82e2-b4cfff9d00b2"
      },
      "execution_count": null,
      "outputs": [
        {
          "output_type": "execute_result",
          "data": {
            "text/plain": [
              "                                                                                                                                                                     query  \\\n",
              "0                                                                                         i want to fly from boston at 838 am and arrive in denver at 1110 in the morning    \n",
              "1                                                                                      what is the arrival time in san francisco for the 755 am flight leaving washington    \n",
              "2                                                                                                                                 cheapest airfare from tacoma to orlando    \n",
              "3                                                                                                      what kind of aircraft is used on a flight from cleveland to dallas    \n",
              "4                                                                                                               what kind of ground transportation is available in denver    \n",
              "5                                                                                                                                          what 's the airport at orlando    \n",
              "6                                                                                                                      which airline serves denver pittsburgh and atlanta    \n",
              "7                                                                                                                           how far is it from orlando airport to orlando    \n",
              "8                                                                                                                                                     what is fare code h    \n",
              "9                                                                                                              how much does the limousine service cost within pittsburgh    \n",
              "10                                                                                               please tell me how many nonstop flights there are from boston to atlanta    \n",
              "11                                                                                                                                        what city is the airport mco in    \n",
              "12                                                                                                                   flight numbers from columbus to minneapolis tomorrow    \n",
              "13                                                                                                                                                how many seats in a 100    \n",
              "14                                                                                  give me the flights and fares on december twenty seventh from indianapolis to orlando    \n",
              "15                                                                                                                show me all meals on flights from atlanta to washington    \n",
              "16                                                                     what are the air restrictions on flights from pittsburgh to atlanta for the airfare of 416 dollars    \n",
              "17                                                                                                                 airline and flight number from columbus to minneapolis    \n",
              "18                                                              what ground transportation is available from the pittsburgh airport to downtown and how much does it cost    \n",
              "19                                                                                                  show me the costs and times for flights from san francisco to atlanta    \n",
              "20                                                                                                                              show me the cheapest fare in the database    \n",
              "21   i want to fly from detroit to st. petersburg on northwest airlines and leave around 9 am tell me what aircraft are used by this flight and tell me the flight number    \n",
              "\n",
              "                        intent  \\\n",
              "0                       flight   \n",
              "1                  flight_time   \n",
              "2                      airfare   \n",
              "3                     aircraft   \n",
              "4               ground_service   \n",
              "5                      airport   \n",
              "6                      airline   \n",
              "7                     distance   \n",
              "8                 abbreviation   \n",
              "9                  ground_fare   \n",
              "10                    quantity   \n",
              "11                        city   \n",
              "12                   flight_no   \n",
              "13                    capacity   \n",
              "14              flight+airfare   \n",
              "15                        meal   \n",
              "16                 restriction   \n",
              "17           airline+flight_no   \n",
              "18  ground_service+ground_fare   \n",
              "19         airfare+flight_time   \n",
              "20                    cheapest   \n",
              "21   aircraft+flight+flight_no   \n",
              "\n",
              "                                                                                                                                                                                                 slot filling  \n",
              "0                                                         O O O O O B-fromloc.city_name O B-depart_time.time I-depart_time.time O O O B-toloc.city_name O B-arrive_time.time O O B-arrive_time.period_of_day   \n",
              "1                                                              O O O B-flight_time I-flight_time O B-fromloc.city_name I-fromloc.city_name O O B-depart_time.time I-depart_time.time O O B-fromloc.city_name   \n",
              "2                                                                                                                                                B-cost_relative O O B-fromloc.city_name O B-toloc.city_name   \n",
              "3                                                                                                                                                O O O O O O O O O O B-fromloc.city_name O B-toloc.city_name   \n",
              "4                                                                                                                                                                                O O O O O O O O B-city_name   \n",
              "5                                                                                                                                                                                      O O O O O B-city_name   \n",
              "6                                                                                                                                        O O O B-fromloc.city_name B-fromloc.city_name O B-fromloc.city_name   \n",
              "7                                                                                                                                O O O O O B-fromloc.airport_name I-fromloc.airport_name O B-toloc.city_name   \n",
              "8                                                                                                                                                                                  O O O O B-fare_basis_code   \n",
              "9                                                                                                                                                                 O O O O B-transport_type O O O B-city_name   \n",
              "10                                                                                                                                   O O O O O B-flight_stop O O O O B-fromloc.city_name O B-toloc.city_name   \n",
              "11                                                                                                                                                                        O O O O O B-fromloc.airport_code O   \n",
              "12                                                                                                                                O O O B-fromloc.city_name O B-toloc.city_name B-depart_date.today_relative   \n",
              "13                                                                                                                                                                                 O O O O O B-aircraft_code   \n",
              "14                                                                        O O O O O O O B-depart_date.month_name B-depart_date.day_number I-depart_date.day_number O B-fromloc.city_name O B-toloc.city_name   \n",
              "15                                                                                                                                                O O O B-meal O O O B-fromloc.city_name O B-toloc.city_name   \n",
              "16                                                                                                               O O O O O O O O B-fromloc.city_name O B-toloc.city_name O O O O B-fare_amount I-fare_amount   \n",
              "17                                                                                                                                                         O O O O O B-fromloc.city_name O B-toloc.city_name   \n",
              "18                                                                                                                               O O O O O O O B-fromloc.airport_name I-fromloc.airport_name O O O O O O O O   \n",
              "19                                                                                                                 O O O O O B-flight_time O O O B-fromloc.city_name I-fromloc.city_name O B-toloc.city_name   \n",
              "20                                                                                                                                                                             O O O B-cost_relative O O O O   \n",
              "21   O O O O O B-fromloc.city_name O B-toloc.city_name I-toloc.city_name O B-airline_name I-airline_name O O B-depart_time.time_relative B-depart_time.time I-depart_time.time O O O O O O O O O O O O O O O   "
            ],
            "text/html": [
              "\n",
              "  <div id=\"df-afaae731-257b-4c13-afb4-a4fb47be64dc\" class=\"colab-df-container\">\n",
              "    <div>\n",
              "<style scoped>\n",
              "    .dataframe tbody tr th:only-of-type {\n",
              "        vertical-align: middle;\n",
              "    }\n",
              "\n",
              "    .dataframe tbody tr th {\n",
              "        vertical-align: top;\n",
              "    }\n",
              "\n",
              "    .dataframe thead th {\n",
              "        text-align: right;\n",
              "    }\n",
              "</style>\n",
              "<table border=\"1\" class=\"dataframe\">\n",
              "  <thead>\n",
              "    <tr style=\"text-align: right;\">\n",
              "      <th></th>\n",
              "      <th>query</th>\n",
              "      <th>intent</th>\n",
              "      <th>slot filling</th>\n",
              "    </tr>\n",
              "  </thead>\n",
              "  <tbody>\n",
              "    <tr>\n",
              "      <th>0</th>\n",
              "      <td>i want to fly from boston at 838 am and arrive in denver at 1110 in the morning</td>\n",
              "      <td>flight</td>\n",
              "      <td>O O O O O B-fromloc.city_name O B-depart_time.time I-depart_time.time O O O B-toloc.city_name O B-arrive_time.time O O B-arrive_time.period_of_day</td>\n",
              "    </tr>\n",
              "    <tr>\n",
              "      <th>1</th>\n",
              "      <td>what is the arrival time in san francisco for the 755 am flight leaving washington</td>\n",
              "      <td>flight_time</td>\n",
              "      <td>O O O B-flight_time I-flight_time O B-fromloc.city_name I-fromloc.city_name O O B-depart_time.time I-depart_time.time O O B-fromloc.city_name</td>\n",
              "    </tr>\n",
              "    <tr>\n",
              "      <th>2</th>\n",
              "      <td>cheapest airfare from tacoma to orlando</td>\n",
              "      <td>airfare</td>\n",
              "      <td>B-cost_relative O O B-fromloc.city_name O B-toloc.city_name</td>\n",
              "    </tr>\n",
              "    <tr>\n",
              "      <th>3</th>\n",
              "      <td>what kind of aircraft is used on a flight from cleveland to dallas</td>\n",
              "      <td>aircraft</td>\n",
              "      <td>O O O O O O O O O O B-fromloc.city_name O B-toloc.city_name</td>\n",
              "    </tr>\n",
              "    <tr>\n",
              "      <th>4</th>\n",
              "      <td>what kind of ground transportation is available in denver</td>\n",
              "      <td>ground_service</td>\n",
              "      <td>O O O O O O O O B-city_name</td>\n",
              "    </tr>\n",
              "    <tr>\n",
              "      <th>5</th>\n",
              "      <td>what 's the airport at orlando</td>\n",
              "      <td>airport</td>\n",
              "      <td>O O O O O B-city_name</td>\n",
              "    </tr>\n",
              "    <tr>\n",
              "      <th>6</th>\n",
              "      <td>which airline serves denver pittsburgh and atlanta</td>\n",
              "      <td>airline</td>\n",
              "      <td>O O O B-fromloc.city_name B-fromloc.city_name O B-fromloc.city_name</td>\n",
              "    </tr>\n",
              "    <tr>\n",
              "      <th>7</th>\n",
              "      <td>how far is it from orlando airport to orlando</td>\n",
              "      <td>distance</td>\n",
              "      <td>O O O O O B-fromloc.airport_name I-fromloc.airport_name O B-toloc.city_name</td>\n",
              "    </tr>\n",
              "    <tr>\n",
              "      <th>8</th>\n",
              "      <td>what is fare code h</td>\n",
              "      <td>abbreviation</td>\n",
              "      <td>O O O O B-fare_basis_code</td>\n",
              "    </tr>\n",
              "    <tr>\n",
              "      <th>9</th>\n",
              "      <td>how much does the limousine service cost within pittsburgh</td>\n",
              "      <td>ground_fare</td>\n",
              "      <td>O O O O B-transport_type O O O B-city_name</td>\n",
              "    </tr>\n",
              "    <tr>\n",
              "      <th>10</th>\n",
              "      <td>please tell me how many nonstop flights there are from boston to atlanta</td>\n",
              "      <td>quantity</td>\n",
              "      <td>O O O O O B-flight_stop O O O O B-fromloc.city_name O B-toloc.city_name</td>\n",
              "    </tr>\n",
              "    <tr>\n",
              "      <th>11</th>\n",
              "      <td>what city is the airport mco in</td>\n",
              "      <td>city</td>\n",
              "      <td>O O O O O B-fromloc.airport_code O</td>\n",
              "    </tr>\n",
              "    <tr>\n",
              "      <th>12</th>\n",
              "      <td>flight numbers from columbus to minneapolis tomorrow</td>\n",
              "      <td>flight_no</td>\n",
              "      <td>O O O B-fromloc.city_name O B-toloc.city_name B-depart_date.today_relative</td>\n",
              "    </tr>\n",
              "    <tr>\n",
              "      <th>13</th>\n",
              "      <td>how many seats in a 100</td>\n",
              "      <td>capacity</td>\n",
              "      <td>O O O O O B-aircraft_code</td>\n",
              "    </tr>\n",
              "    <tr>\n",
              "      <th>14</th>\n",
              "      <td>give me the flights and fares on december twenty seventh from indianapolis to orlando</td>\n",
              "      <td>flight+airfare</td>\n",
              "      <td>O O O O O O O B-depart_date.month_name B-depart_date.day_number I-depart_date.day_number O B-fromloc.city_name O B-toloc.city_name</td>\n",
              "    </tr>\n",
              "    <tr>\n",
              "      <th>15</th>\n",
              "      <td>show me all meals on flights from atlanta to washington</td>\n",
              "      <td>meal</td>\n",
              "      <td>O O O B-meal O O O B-fromloc.city_name O B-toloc.city_name</td>\n",
              "    </tr>\n",
              "    <tr>\n",
              "      <th>16</th>\n",
              "      <td>what are the air restrictions on flights from pittsburgh to atlanta for the airfare of 416 dollars</td>\n",
              "      <td>restriction</td>\n",
              "      <td>O O O O O O O O B-fromloc.city_name O B-toloc.city_name O O O O B-fare_amount I-fare_amount</td>\n",
              "    </tr>\n",
              "    <tr>\n",
              "      <th>17</th>\n",
              "      <td>airline and flight number from columbus to minneapolis</td>\n",
              "      <td>airline+flight_no</td>\n",
              "      <td>O O O O O B-fromloc.city_name O B-toloc.city_name</td>\n",
              "    </tr>\n",
              "    <tr>\n",
              "      <th>18</th>\n",
              "      <td>what ground transportation is available from the pittsburgh airport to downtown and how much does it cost</td>\n",
              "      <td>ground_service+ground_fare</td>\n",
              "      <td>O O O O O O O B-fromloc.airport_name I-fromloc.airport_name O O O O O O O O</td>\n",
              "    </tr>\n",
              "    <tr>\n",
              "      <th>19</th>\n",
              "      <td>show me the costs and times for flights from san francisco to atlanta</td>\n",
              "      <td>airfare+flight_time</td>\n",
              "      <td>O O O O O B-flight_time O O O B-fromloc.city_name I-fromloc.city_name O B-toloc.city_name</td>\n",
              "    </tr>\n",
              "    <tr>\n",
              "      <th>20</th>\n",
              "      <td>show me the cheapest fare in the database</td>\n",
              "      <td>cheapest</td>\n",
              "      <td>O O O B-cost_relative O O O O</td>\n",
              "    </tr>\n",
              "    <tr>\n",
              "      <th>21</th>\n",
              "      <td>i want to fly from detroit to st. petersburg on northwest airlines and leave around 9 am tell me what aircraft are used by this flight and tell me the flight number</td>\n",
              "      <td>aircraft+flight+flight_no</td>\n",
              "      <td>O O O O O B-fromloc.city_name O B-toloc.city_name I-toloc.city_name O B-airline_name I-airline_name O O B-depart_time.time_relative B-depart_time.time I-depart_time.time O O O O O O O O O O O O O O O</td>\n",
              "    </tr>\n",
              "  </tbody>\n",
              "</table>\n",
              "</div>\n",
              "    <div class=\"colab-df-buttons\">\n",
              "\n",
              "  <div class=\"colab-df-container\">\n",
              "    <button class=\"colab-df-convert\" onclick=\"convertToInteractive('df-afaae731-257b-4c13-afb4-a4fb47be64dc')\"\n",
              "            title=\"Convert this dataframe to an interactive table.\"\n",
              "            style=\"display:none;\">\n",
              "\n",
              "  <svg xmlns=\"http://www.w3.org/2000/svg\" height=\"24px\" viewBox=\"0 -960 960 960\">\n",
              "    <path d=\"M120-120v-720h720v720H120Zm60-500h600v-160H180v160Zm220 220h160v-160H400v160Zm0 220h160v-160H400v160ZM180-400h160v-160H180v160Zm440 0h160v-160H620v160ZM180-180h160v-160H180v160Zm440 0h160v-160H620v160Z\"/>\n",
              "  </svg>\n",
              "    </button>\n",
              "\n",
              "  <style>\n",
              "    .colab-df-container {\n",
              "      display:flex;\n",
              "      gap: 12px;\n",
              "    }\n",
              "\n",
              "    .colab-df-convert {\n",
              "      background-color: #E8F0FE;\n",
              "      border: none;\n",
              "      border-radius: 50%;\n",
              "      cursor: pointer;\n",
              "      display: none;\n",
              "      fill: #1967D2;\n",
              "      height: 32px;\n",
              "      padding: 0 0 0 0;\n",
              "      width: 32px;\n",
              "    }\n",
              "\n",
              "    .colab-df-convert:hover {\n",
              "      background-color: #E2EBFA;\n",
              "      box-shadow: 0px 1px 2px rgba(60, 64, 67, 0.3), 0px 1px 3px 1px rgba(60, 64, 67, 0.15);\n",
              "      fill: #174EA6;\n",
              "    }\n",
              "\n",
              "    .colab-df-buttons div {\n",
              "      margin-bottom: 4px;\n",
              "    }\n",
              "\n",
              "    [theme=dark] .colab-df-convert {\n",
              "      background-color: #3B4455;\n",
              "      fill: #D2E3FC;\n",
              "    }\n",
              "\n",
              "    [theme=dark] .colab-df-convert:hover {\n",
              "      background-color: #434B5C;\n",
              "      box-shadow: 0px 1px 3px 1px rgba(0, 0, 0, 0.15);\n",
              "      filter: drop-shadow(0px 1px 2px rgba(0, 0, 0, 0.3));\n",
              "      fill: #FFFFFF;\n",
              "    }\n",
              "  </style>\n",
              "\n",
              "    <script>\n",
              "      const buttonEl =\n",
              "        document.querySelector('#df-afaae731-257b-4c13-afb4-a4fb47be64dc button.colab-df-convert');\n",
              "      buttonEl.style.display =\n",
              "        google.colab.kernel.accessAllowed ? 'block' : 'none';\n",
              "\n",
              "      async function convertToInteractive(key) {\n",
              "        const element = document.querySelector('#df-afaae731-257b-4c13-afb4-a4fb47be64dc');\n",
              "        const dataTable =\n",
              "          await google.colab.kernel.invokeFunction('convertToInteractive',\n",
              "                                                    [key], {});\n",
              "        if (!dataTable) return;\n",
              "\n",
              "        const docLinkHtml = 'Like what you see? Visit the ' +\n",
              "          '<a target=\"_blank\" href=https://colab.research.google.com/notebooks/data_table.ipynb>data table notebook</a>'\n",
              "          + ' to learn more about interactive tables.';\n",
              "        element.innerHTML = '';\n",
              "        dataTable['output_type'] = 'display_data';\n",
              "        await google.colab.output.renderOutput(dataTable, element);\n",
              "        const docLink = document.createElement('div');\n",
              "        docLink.innerHTML = docLinkHtml;\n",
              "        element.appendChild(docLink);\n",
              "      }\n",
              "    </script>\n",
              "  </div>\n",
              "\n",
              "\n",
              "<div id=\"df-04d945ca-57f0-4a0a-ad4d-d6bbb1703080\">\n",
              "  <button class=\"colab-df-quickchart\" onclick=\"quickchart('df-04d945ca-57f0-4a0a-ad4d-d6bbb1703080')\"\n",
              "            title=\"Suggest charts\"\n",
              "            style=\"display:none;\">\n",
              "\n",
              "<svg xmlns=\"http://www.w3.org/2000/svg\" height=\"24px\"viewBox=\"0 0 24 24\"\n",
              "     width=\"24px\">\n",
              "    <g>\n",
              "        <path d=\"M19 3H5c-1.1 0-2 .9-2 2v14c0 1.1.9 2 2 2h14c1.1 0 2-.9 2-2V5c0-1.1-.9-2-2-2zM9 17H7v-7h2v7zm4 0h-2V7h2v10zm4 0h-2v-4h2v4z\"/>\n",
              "    </g>\n",
              "</svg>\n",
              "  </button>\n",
              "\n",
              "<style>\n",
              "  .colab-df-quickchart {\n",
              "      --bg-color: #E8F0FE;\n",
              "      --fill-color: #1967D2;\n",
              "      --hover-bg-color: #E2EBFA;\n",
              "      --hover-fill-color: #174EA6;\n",
              "      --disabled-fill-color: #AAA;\n",
              "      --disabled-bg-color: #DDD;\n",
              "  }\n",
              "\n",
              "  [theme=dark] .colab-df-quickchart {\n",
              "      --bg-color: #3B4455;\n",
              "      --fill-color: #D2E3FC;\n",
              "      --hover-bg-color: #434B5C;\n",
              "      --hover-fill-color: #FFFFFF;\n",
              "      --disabled-bg-color: #3B4455;\n",
              "      --disabled-fill-color: #666;\n",
              "  }\n",
              "\n",
              "  .colab-df-quickchart {\n",
              "    background-color: var(--bg-color);\n",
              "    border: none;\n",
              "    border-radius: 50%;\n",
              "    cursor: pointer;\n",
              "    display: none;\n",
              "    fill: var(--fill-color);\n",
              "    height: 32px;\n",
              "    padding: 0;\n",
              "    width: 32px;\n",
              "  }\n",
              "\n",
              "  .colab-df-quickchart:hover {\n",
              "    background-color: var(--hover-bg-color);\n",
              "    box-shadow: 0 1px 2px rgba(60, 64, 67, 0.3), 0 1px 3px 1px rgba(60, 64, 67, 0.15);\n",
              "    fill: var(--button-hover-fill-color);\n",
              "  }\n",
              "\n",
              "  .colab-df-quickchart-complete:disabled,\n",
              "  .colab-df-quickchart-complete:disabled:hover {\n",
              "    background-color: var(--disabled-bg-color);\n",
              "    fill: var(--disabled-fill-color);\n",
              "    box-shadow: none;\n",
              "  }\n",
              "\n",
              "  .colab-df-spinner {\n",
              "    border: 2px solid var(--fill-color);\n",
              "    border-color: transparent;\n",
              "    border-bottom-color: var(--fill-color);\n",
              "    animation:\n",
              "      spin 1s steps(1) infinite;\n",
              "  }\n",
              "\n",
              "  @keyframes spin {\n",
              "    0% {\n",
              "      border-color: transparent;\n",
              "      border-bottom-color: var(--fill-color);\n",
              "      border-left-color: var(--fill-color);\n",
              "    }\n",
              "    20% {\n",
              "      border-color: transparent;\n",
              "      border-left-color: var(--fill-color);\n",
              "      border-top-color: var(--fill-color);\n",
              "    }\n",
              "    30% {\n",
              "      border-color: transparent;\n",
              "      border-left-color: var(--fill-color);\n",
              "      border-top-color: var(--fill-color);\n",
              "      border-right-color: var(--fill-color);\n",
              "    }\n",
              "    40% {\n",
              "      border-color: transparent;\n",
              "      border-right-color: var(--fill-color);\n",
              "      border-top-color: var(--fill-color);\n",
              "    }\n",
              "    60% {\n",
              "      border-color: transparent;\n",
              "      border-right-color: var(--fill-color);\n",
              "    }\n",
              "    80% {\n",
              "      border-color: transparent;\n",
              "      border-right-color: var(--fill-color);\n",
              "      border-bottom-color: var(--fill-color);\n",
              "    }\n",
              "    90% {\n",
              "      border-color: transparent;\n",
              "      border-bottom-color: var(--fill-color);\n",
              "    }\n",
              "  }\n",
              "</style>\n",
              "\n",
              "  <script>\n",
              "    async function quickchart(key) {\n",
              "      const quickchartButtonEl =\n",
              "        document.querySelector('#' + key + ' button');\n",
              "      quickchartButtonEl.disabled = true;  // To prevent multiple clicks.\n",
              "      quickchartButtonEl.classList.add('colab-df-spinner');\n",
              "      try {\n",
              "        const charts = await google.colab.kernel.invokeFunction(\n",
              "            'suggestCharts', [key], {});\n",
              "      } catch (error) {\n",
              "        console.error('Error during call to suggestCharts:', error);\n",
              "      }\n",
              "      quickchartButtonEl.classList.remove('colab-df-spinner');\n",
              "      quickchartButtonEl.classList.add('colab-df-quickchart-complete');\n",
              "    }\n",
              "    (() => {\n",
              "      let quickchartButtonEl =\n",
              "        document.querySelector('#df-04d945ca-57f0-4a0a-ad4d-d6bbb1703080 button');\n",
              "      quickchartButtonEl.style.display =\n",
              "        google.colab.kernel.accessAllowed ? 'block' : 'none';\n",
              "    })();\n",
              "  </script>\n",
              "</div>\n",
              "\n",
              "  <div id=\"id_ce13688d-a02b-41ac-9b64-b5a3c62ace57\">\n",
              "    <style>\n",
              "      .colab-df-generate {\n",
              "        background-color: #E8F0FE;\n",
              "        border: none;\n",
              "        border-radius: 50%;\n",
              "        cursor: pointer;\n",
              "        display: none;\n",
              "        fill: #1967D2;\n",
              "        height: 32px;\n",
              "        padding: 0 0 0 0;\n",
              "        width: 32px;\n",
              "      }\n",
              "\n",
              "      .colab-df-generate:hover {\n",
              "        background-color: #E2EBFA;\n",
              "        box-shadow: 0px 1px 2px rgba(60, 64, 67, 0.3), 0px 1px 3px 1px rgba(60, 64, 67, 0.15);\n",
              "        fill: #174EA6;\n",
              "      }\n",
              "\n",
              "      [theme=dark] .colab-df-generate {\n",
              "        background-color: #3B4455;\n",
              "        fill: #D2E3FC;\n",
              "      }\n",
              "\n",
              "      [theme=dark] .colab-df-generate:hover {\n",
              "        background-color: #434B5C;\n",
              "        box-shadow: 0px 1px 3px 1px rgba(0, 0, 0, 0.15);\n",
              "        filter: drop-shadow(0px 1px 2px rgba(0, 0, 0, 0.3));\n",
              "        fill: #FFFFFF;\n",
              "      }\n",
              "    </style>\n",
              "    <button class=\"colab-df-generate\" onclick=\"generateWithVariable('df_small')\"\n",
              "            title=\"Generate code using this dataframe.\"\n",
              "            style=\"display:none;\">\n",
              "\n",
              "  <svg xmlns=\"http://www.w3.org/2000/svg\" height=\"24px\"viewBox=\"0 0 24 24\"\n",
              "       width=\"24px\">\n",
              "    <path d=\"M7,19H8.4L18.45,9,17,7.55,7,17.6ZM5,21V16.75L18.45,3.32a2,2,0,0,1,2.83,0l1.4,1.43a1.91,1.91,0,0,1,.58,1.4,1.91,1.91,0,0,1-.58,1.4L9.25,21ZM18.45,9,17,7.55Zm-12,3A5.31,5.31,0,0,0,4.9,8.1,5.31,5.31,0,0,0,1,6.5,5.31,5.31,0,0,0,4.9,4.9,5.31,5.31,0,0,0,6.5,1,5.31,5.31,0,0,0,8.1,4.9,5.31,5.31,0,0,0,12,6.5,5.46,5.46,0,0,0,6.5,12Z\"/>\n",
              "  </svg>\n",
              "    </button>\n",
              "    <script>\n",
              "      (() => {\n",
              "      const buttonEl =\n",
              "        document.querySelector('#id_ce13688d-a02b-41ac-9b64-b5a3c62ace57 button.colab-df-generate');\n",
              "      buttonEl.style.display =\n",
              "        google.colab.kernel.accessAllowed ? 'block' : 'none';\n",
              "\n",
              "      buttonEl.onclick = () => {\n",
              "        google.colab.notebook.generateWithVariable('df_small');\n",
              "      }\n",
              "      })();\n",
              "    </script>\n",
              "  </div>\n",
              "\n",
              "    </div>\n",
              "  </div>\n"
            ],
            "application/vnd.google.colaboratory.intrinsic+json": {
              "type": "dataframe",
              "variable_name": "df_small",
              "summary": "{\n  \"name\": \"df_small\",\n  \"rows\": 22,\n  \"fields\": [\n    {\n      \"column\": \"query\",\n      \"properties\": {\n        \"dtype\": \"string\",\n        \"num_unique_values\": 22,\n        \"samples\": [\n          \" i want to fly from boston at 838 am and arrive in denver at 1110 in the morning \",\n          \" how many seats in a 100 \",\n          \" what is fare code h \"\n        ],\n        \"semantic_type\": \"\",\n        \"description\": \"\"\n      }\n    },\n    {\n      \"column\": \"intent\",\n      \"properties\": {\n        \"dtype\": \"string\",\n        \"num_unique_values\": 22,\n        \"samples\": [\n          \"flight\",\n          \"capacity\",\n          \"abbreviation\"\n        ],\n        \"semantic_type\": \"\",\n        \"description\": \"\"\n      }\n    },\n    {\n      \"column\": \"slot filling\",\n      \"properties\": {\n        \"dtype\": \"string\",\n        \"num_unique_values\": 22,\n        \"samples\": [\n          \" O O O O O B-fromloc.city_name O B-depart_time.time I-depart_time.time O O O B-toloc.city_name O B-arrive_time.time O O B-arrive_time.period_of_day \",\n          \" O O O O O B-aircraft_code \",\n          \" O O O O B-fare_basis_code \"\n        ],\n        \"semantic_type\": \"\",\n        \"description\": \"\"\n      }\n    }\n  ]\n}"
            }
          },
          "metadata": {},
          "execution_count": 5
        }
      ]
    },
    {
      "cell_type": "code",
      "source": [
        "df_small[['query', 'slot filling']]"
      ],
      "metadata": {
        "colab": {
          "base_uri": "https://localhost:8080/",
          "height": 843
        },
        "id": "BsZW9cA07HhU",
        "outputId": "2834f328-4b96-4556-ade4-37b8f341d63c"
      },
      "execution_count": null,
      "outputs": [
        {
          "output_type": "execute_result",
          "data": {
            "text/plain": [
              "                                                                                                                                                                     query  \\\n",
              "0                                                                                         i want to fly from boston at 838 am and arrive in denver at 1110 in the morning    \n",
              "1                                                                                      what is the arrival time in san francisco for the 755 am flight leaving washington    \n",
              "2                                                                                                                                 cheapest airfare from tacoma to orlando    \n",
              "3                                                                                                      what kind of aircraft is used on a flight from cleveland to dallas    \n",
              "4                                                                                                               what kind of ground transportation is available in denver    \n",
              "5                                                                                                                                          what 's the airport at orlando    \n",
              "6                                                                                                                      which airline serves denver pittsburgh and atlanta    \n",
              "7                                                                                                                           how far is it from orlando airport to orlando    \n",
              "8                                                                                                                                                     what is fare code h    \n",
              "9                                                                                                              how much does the limousine service cost within pittsburgh    \n",
              "10                                                                                               please tell me how many nonstop flights there are from boston to atlanta    \n",
              "11                                                                                                                                        what city is the airport mco in    \n",
              "12                                                                                                                   flight numbers from columbus to minneapolis tomorrow    \n",
              "13                                                                                                                                                how many seats in a 100    \n",
              "14                                                                                  give me the flights and fares on december twenty seventh from indianapolis to orlando    \n",
              "15                                                                                                                show me all meals on flights from atlanta to washington    \n",
              "16                                                                     what are the air restrictions on flights from pittsburgh to atlanta for the airfare of 416 dollars    \n",
              "17                                                                                                                 airline and flight number from columbus to minneapolis    \n",
              "18                                                              what ground transportation is available from the pittsburgh airport to downtown and how much does it cost    \n",
              "19                                                                                                  show me the costs and times for flights from san francisco to atlanta    \n",
              "20                                                                                                                              show me the cheapest fare in the database    \n",
              "21   i want to fly from detroit to st. petersburg on northwest airlines and leave around 9 am tell me what aircraft are used by this flight and tell me the flight number    \n",
              "\n",
              "                                                                                                                                                                                                 slot filling  \n",
              "0                                                         O O O O O B-fromloc.city_name O B-depart_time.time I-depart_time.time O O O B-toloc.city_name O B-arrive_time.time O O B-arrive_time.period_of_day   \n",
              "1                                                              O O O B-flight_time I-flight_time O B-fromloc.city_name I-fromloc.city_name O O B-depart_time.time I-depart_time.time O O B-fromloc.city_name   \n",
              "2                                                                                                                                                B-cost_relative O O B-fromloc.city_name O B-toloc.city_name   \n",
              "3                                                                                                                                                O O O O O O O O O O B-fromloc.city_name O B-toloc.city_name   \n",
              "4                                                                                                                                                                                O O O O O O O O B-city_name   \n",
              "5                                                                                                                                                                                      O O O O O B-city_name   \n",
              "6                                                                                                                                        O O O B-fromloc.city_name B-fromloc.city_name O B-fromloc.city_name   \n",
              "7                                                                                                                                O O O O O B-fromloc.airport_name I-fromloc.airport_name O B-toloc.city_name   \n",
              "8                                                                                                                                                                                  O O O O B-fare_basis_code   \n",
              "9                                                                                                                                                                 O O O O B-transport_type O O O B-city_name   \n",
              "10                                                                                                                                   O O O O O B-flight_stop O O O O B-fromloc.city_name O B-toloc.city_name   \n",
              "11                                                                                                                                                                        O O O O O B-fromloc.airport_code O   \n",
              "12                                                                                                                                O O O B-fromloc.city_name O B-toloc.city_name B-depart_date.today_relative   \n",
              "13                                                                                                                                                                                 O O O O O B-aircraft_code   \n",
              "14                                                                        O O O O O O O B-depart_date.month_name B-depart_date.day_number I-depart_date.day_number O B-fromloc.city_name O B-toloc.city_name   \n",
              "15                                                                                                                                                O O O B-meal O O O B-fromloc.city_name O B-toloc.city_name   \n",
              "16                                                                                                               O O O O O O O O B-fromloc.city_name O B-toloc.city_name O O O O B-fare_amount I-fare_amount   \n",
              "17                                                                                                                                                         O O O O O B-fromloc.city_name O B-toloc.city_name   \n",
              "18                                                                                                                               O O O O O O O B-fromloc.airport_name I-fromloc.airport_name O O O O O O O O   \n",
              "19                                                                                                                 O O O O O B-flight_time O O O B-fromloc.city_name I-fromloc.city_name O B-toloc.city_name   \n",
              "20                                                                                                                                                                             O O O B-cost_relative O O O O   \n",
              "21   O O O O O B-fromloc.city_name O B-toloc.city_name I-toloc.city_name O B-airline_name I-airline_name O O B-depart_time.time_relative B-depart_time.time I-depart_time.time O O O O O O O O O O O O O O O   "
            ],
            "text/html": [
              "\n",
              "  <div id=\"df-b3cc0742-e0a4-4dc5-8f6e-f7900b502c63\" class=\"colab-df-container\">\n",
              "    <div>\n",
              "<style scoped>\n",
              "    .dataframe tbody tr th:only-of-type {\n",
              "        vertical-align: middle;\n",
              "    }\n",
              "\n",
              "    .dataframe tbody tr th {\n",
              "        vertical-align: top;\n",
              "    }\n",
              "\n",
              "    .dataframe thead th {\n",
              "        text-align: right;\n",
              "    }\n",
              "</style>\n",
              "<table border=\"1\" class=\"dataframe\">\n",
              "  <thead>\n",
              "    <tr style=\"text-align: right;\">\n",
              "      <th></th>\n",
              "      <th>query</th>\n",
              "      <th>slot filling</th>\n",
              "    </tr>\n",
              "  </thead>\n",
              "  <tbody>\n",
              "    <tr>\n",
              "      <th>0</th>\n",
              "      <td>i want to fly from boston at 838 am and arrive in denver at 1110 in the morning</td>\n",
              "      <td>O O O O O B-fromloc.city_name O B-depart_time.time I-depart_time.time O O O B-toloc.city_name O B-arrive_time.time O O B-arrive_time.period_of_day</td>\n",
              "    </tr>\n",
              "    <tr>\n",
              "      <th>1</th>\n",
              "      <td>what is the arrival time in san francisco for the 755 am flight leaving washington</td>\n",
              "      <td>O O O B-flight_time I-flight_time O B-fromloc.city_name I-fromloc.city_name O O B-depart_time.time I-depart_time.time O O B-fromloc.city_name</td>\n",
              "    </tr>\n",
              "    <tr>\n",
              "      <th>2</th>\n",
              "      <td>cheapest airfare from tacoma to orlando</td>\n",
              "      <td>B-cost_relative O O B-fromloc.city_name O B-toloc.city_name</td>\n",
              "    </tr>\n",
              "    <tr>\n",
              "      <th>3</th>\n",
              "      <td>what kind of aircraft is used on a flight from cleveland to dallas</td>\n",
              "      <td>O O O O O O O O O O B-fromloc.city_name O B-toloc.city_name</td>\n",
              "    </tr>\n",
              "    <tr>\n",
              "      <th>4</th>\n",
              "      <td>what kind of ground transportation is available in denver</td>\n",
              "      <td>O O O O O O O O B-city_name</td>\n",
              "    </tr>\n",
              "    <tr>\n",
              "      <th>5</th>\n",
              "      <td>what 's the airport at orlando</td>\n",
              "      <td>O O O O O B-city_name</td>\n",
              "    </tr>\n",
              "    <tr>\n",
              "      <th>6</th>\n",
              "      <td>which airline serves denver pittsburgh and atlanta</td>\n",
              "      <td>O O O B-fromloc.city_name B-fromloc.city_name O B-fromloc.city_name</td>\n",
              "    </tr>\n",
              "    <tr>\n",
              "      <th>7</th>\n",
              "      <td>how far is it from orlando airport to orlando</td>\n",
              "      <td>O O O O O B-fromloc.airport_name I-fromloc.airport_name O B-toloc.city_name</td>\n",
              "    </tr>\n",
              "    <tr>\n",
              "      <th>8</th>\n",
              "      <td>what is fare code h</td>\n",
              "      <td>O O O O B-fare_basis_code</td>\n",
              "    </tr>\n",
              "    <tr>\n",
              "      <th>9</th>\n",
              "      <td>how much does the limousine service cost within pittsburgh</td>\n",
              "      <td>O O O O B-transport_type O O O B-city_name</td>\n",
              "    </tr>\n",
              "    <tr>\n",
              "      <th>10</th>\n",
              "      <td>please tell me how many nonstop flights there are from boston to atlanta</td>\n",
              "      <td>O O O O O B-flight_stop O O O O B-fromloc.city_name O B-toloc.city_name</td>\n",
              "    </tr>\n",
              "    <tr>\n",
              "      <th>11</th>\n",
              "      <td>what city is the airport mco in</td>\n",
              "      <td>O O O O O B-fromloc.airport_code O</td>\n",
              "    </tr>\n",
              "    <tr>\n",
              "      <th>12</th>\n",
              "      <td>flight numbers from columbus to minneapolis tomorrow</td>\n",
              "      <td>O O O B-fromloc.city_name O B-toloc.city_name B-depart_date.today_relative</td>\n",
              "    </tr>\n",
              "    <tr>\n",
              "      <th>13</th>\n",
              "      <td>how many seats in a 100</td>\n",
              "      <td>O O O O O B-aircraft_code</td>\n",
              "    </tr>\n",
              "    <tr>\n",
              "      <th>14</th>\n",
              "      <td>give me the flights and fares on december twenty seventh from indianapolis to orlando</td>\n",
              "      <td>O O O O O O O B-depart_date.month_name B-depart_date.day_number I-depart_date.day_number O B-fromloc.city_name O B-toloc.city_name</td>\n",
              "    </tr>\n",
              "    <tr>\n",
              "      <th>15</th>\n",
              "      <td>show me all meals on flights from atlanta to washington</td>\n",
              "      <td>O O O B-meal O O O B-fromloc.city_name O B-toloc.city_name</td>\n",
              "    </tr>\n",
              "    <tr>\n",
              "      <th>16</th>\n",
              "      <td>what are the air restrictions on flights from pittsburgh to atlanta for the airfare of 416 dollars</td>\n",
              "      <td>O O O O O O O O B-fromloc.city_name O B-toloc.city_name O O O O B-fare_amount I-fare_amount</td>\n",
              "    </tr>\n",
              "    <tr>\n",
              "      <th>17</th>\n",
              "      <td>airline and flight number from columbus to minneapolis</td>\n",
              "      <td>O O O O O B-fromloc.city_name O B-toloc.city_name</td>\n",
              "    </tr>\n",
              "    <tr>\n",
              "      <th>18</th>\n",
              "      <td>what ground transportation is available from the pittsburgh airport to downtown and how much does it cost</td>\n",
              "      <td>O O O O O O O B-fromloc.airport_name I-fromloc.airport_name O O O O O O O O</td>\n",
              "    </tr>\n",
              "    <tr>\n",
              "      <th>19</th>\n",
              "      <td>show me the costs and times for flights from san francisco to atlanta</td>\n",
              "      <td>O O O O O B-flight_time O O O B-fromloc.city_name I-fromloc.city_name O B-toloc.city_name</td>\n",
              "    </tr>\n",
              "    <tr>\n",
              "      <th>20</th>\n",
              "      <td>show me the cheapest fare in the database</td>\n",
              "      <td>O O O B-cost_relative O O O O</td>\n",
              "    </tr>\n",
              "    <tr>\n",
              "      <th>21</th>\n",
              "      <td>i want to fly from detroit to st. petersburg on northwest airlines and leave around 9 am tell me what aircraft are used by this flight and tell me the flight number</td>\n",
              "      <td>O O O O O B-fromloc.city_name O B-toloc.city_name I-toloc.city_name O B-airline_name I-airline_name O O B-depart_time.time_relative B-depart_time.time I-depart_time.time O O O O O O O O O O O O O O O</td>\n",
              "    </tr>\n",
              "  </tbody>\n",
              "</table>\n",
              "</div>\n",
              "    <div class=\"colab-df-buttons\">\n",
              "\n",
              "  <div class=\"colab-df-container\">\n",
              "    <button class=\"colab-df-convert\" onclick=\"convertToInteractive('df-b3cc0742-e0a4-4dc5-8f6e-f7900b502c63')\"\n",
              "            title=\"Convert this dataframe to an interactive table.\"\n",
              "            style=\"display:none;\">\n",
              "\n",
              "  <svg xmlns=\"http://www.w3.org/2000/svg\" height=\"24px\" viewBox=\"0 -960 960 960\">\n",
              "    <path d=\"M120-120v-720h720v720H120Zm60-500h600v-160H180v160Zm220 220h160v-160H400v160Zm0 220h160v-160H400v160ZM180-400h160v-160H180v160Zm440 0h160v-160H620v160ZM180-180h160v-160H180v160Zm440 0h160v-160H620v160Z\"/>\n",
              "  </svg>\n",
              "    </button>\n",
              "\n",
              "  <style>\n",
              "    .colab-df-container {\n",
              "      display:flex;\n",
              "      gap: 12px;\n",
              "    }\n",
              "\n",
              "    .colab-df-convert {\n",
              "      background-color: #E8F0FE;\n",
              "      border: none;\n",
              "      border-radius: 50%;\n",
              "      cursor: pointer;\n",
              "      display: none;\n",
              "      fill: #1967D2;\n",
              "      height: 32px;\n",
              "      padding: 0 0 0 0;\n",
              "      width: 32px;\n",
              "    }\n",
              "\n",
              "    .colab-df-convert:hover {\n",
              "      background-color: #E2EBFA;\n",
              "      box-shadow: 0px 1px 2px rgba(60, 64, 67, 0.3), 0px 1px 3px 1px rgba(60, 64, 67, 0.15);\n",
              "      fill: #174EA6;\n",
              "    }\n",
              "\n",
              "    .colab-df-buttons div {\n",
              "      margin-bottom: 4px;\n",
              "    }\n",
              "\n",
              "    [theme=dark] .colab-df-convert {\n",
              "      background-color: #3B4455;\n",
              "      fill: #D2E3FC;\n",
              "    }\n",
              "\n",
              "    [theme=dark] .colab-df-convert:hover {\n",
              "      background-color: #434B5C;\n",
              "      box-shadow: 0px 1px 3px 1px rgba(0, 0, 0, 0.15);\n",
              "      filter: drop-shadow(0px 1px 2px rgba(0, 0, 0, 0.3));\n",
              "      fill: #FFFFFF;\n",
              "    }\n",
              "  </style>\n",
              "\n",
              "    <script>\n",
              "      const buttonEl =\n",
              "        document.querySelector('#df-b3cc0742-e0a4-4dc5-8f6e-f7900b502c63 button.colab-df-convert');\n",
              "      buttonEl.style.display =\n",
              "        google.colab.kernel.accessAllowed ? 'block' : 'none';\n",
              "\n",
              "      async function convertToInteractive(key) {\n",
              "        const element = document.querySelector('#df-b3cc0742-e0a4-4dc5-8f6e-f7900b502c63');\n",
              "        const dataTable =\n",
              "          await google.colab.kernel.invokeFunction('convertToInteractive',\n",
              "                                                    [key], {});\n",
              "        if (!dataTable) return;\n",
              "\n",
              "        const docLinkHtml = 'Like what you see? Visit the ' +\n",
              "          '<a target=\"_blank\" href=https://colab.research.google.com/notebooks/data_table.ipynb>data table notebook</a>'\n",
              "          + ' to learn more about interactive tables.';\n",
              "        element.innerHTML = '';\n",
              "        dataTable['output_type'] = 'display_data';\n",
              "        await google.colab.output.renderOutput(dataTable, element);\n",
              "        const docLink = document.createElement('div');\n",
              "        docLink.innerHTML = docLinkHtml;\n",
              "        element.appendChild(docLink);\n",
              "      }\n",
              "    </script>\n",
              "  </div>\n",
              "\n",
              "\n",
              "<div id=\"df-e8c04569-5de0-4b73-ba2a-d3ca9a22a98e\">\n",
              "  <button class=\"colab-df-quickchart\" onclick=\"quickchart('df-e8c04569-5de0-4b73-ba2a-d3ca9a22a98e')\"\n",
              "            title=\"Suggest charts\"\n",
              "            style=\"display:none;\">\n",
              "\n",
              "<svg xmlns=\"http://www.w3.org/2000/svg\" height=\"24px\"viewBox=\"0 0 24 24\"\n",
              "     width=\"24px\">\n",
              "    <g>\n",
              "        <path d=\"M19 3H5c-1.1 0-2 .9-2 2v14c0 1.1.9 2 2 2h14c1.1 0 2-.9 2-2V5c0-1.1-.9-2-2-2zM9 17H7v-7h2v7zm4 0h-2V7h2v10zm4 0h-2v-4h2v4z\"/>\n",
              "    </g>\n",
              "</svg>\n",
              "  </button>\n",
              "\n",
              "<style>\n",
              "  .colab-df-quickchart {\n",
              "      --bg-color: #E8F0FE;\n",
              "      --fill-color: #1967D2;\n",
              "      --hover-bg-color: #E2EBFA;\n",
              "      --hover-fill-color: #174EA6;\n",
              "      --disabled-fill-color: #AAA;\n",
              "      --disabled-bg-color: #DDD;\n",
              "  }\n",
              "\n",
              "  [theme=dark] .colab-df-quickchart {\n",
              "      --bg-color: #3B4455;\n",
              "      --fill-color: #D2E3FC;\n",
              "      --hover-bg-color: #434B5C;\n",
              "      --hover-fill-color: #FFFFFF;\n",
              "      --disabled-bg-color: #3B4455;\n",
              "      --disabled-fill-color: #666;\n",
              "  }\n",
              "\n",
              "  .colab-df-quickchart {\n",
              "    background-color: var(--bg-color);\n",
              "    border: none;\n",
              "    border-radius: 50%;\n",
              "    cursor: pointer;\n",
              "    display: none;\n",
              "    fill: var(--fill-color);\n",
              "    height: 32px;\n",
              "    padding: 0;\n",
              "    width: 32px;\n",
              "  }\n",
              "\n",
              "  .colab-df-quickchart:hover {\n",
              "    background-color: var(--hover-bg-color);\n",
              "    box-shadow: 0 1px 2px rgba(60, 64, 67, 0.3), 0 1px 3px 1px rgba(60, 64, 67, 0.15);\n",
              "    fill: var(--button-hover-fill-color);\n",
              "  }\n",
              "\n",
              "  .colab-df-quickchart-complete:disabled,\n",
              "  .colab-df-quickchart-complete:disabled:hover {\n",
              "    background-color: var(--disabled-bg-color);\n",
              "    fill: var(--disabled-fill-color);\n",
              "    box-shadow: none;\n",
              "  }\n",
              "\n",
              "  .colab-df-spinner {\n",
              "    border: 2px solid var(--fill-color);\n",
              "    border-color: transparent;\n",
              "    border-bottom-color: var(--fill-color);\n",
              "    animation:\n",
              "      spin 1s steps(1) infinite;\n",
              "  }\n",
              "\n",
              "  @keyframes spin {\n",
              "    0% {\n",
              "      border-color: transparent;\n",
              "      border-bottom-color: var(--fill-color);\n",
              "      border-left-color: var(--fill-color);\n",
              "    }\n",
              "    20% {\n",
              "      border-color: transparent;\n",
              "      border-left-color: var(--fill-color);\n",
              "      border-top-color: var(--fill-color);\n",
              "    }\n",
              "    30% {\n",
              "      border-color: transparent;\n",
              "      border-left-color: var(--fill-color);\n",
              "      border-top-color: var(--fill-color);\n",
              "      border-right-color: var(--fill-color);\n",
              "    }\n",
              "    40% {\n",
              "      border-color: transparent;\n",
              "      border-right-color: var(--fill-color);\n",
              "      border-top-color: var(--fill-color);\n",
              "    }\n",
              "    60% {\n",
              "      border-color: transparent;\n",
              "      border-right-color: var(--fill-color);\n",
              "    }\n",
              "    80% {\n",
              "      border-color: transparent;\n",
              "      border-right-color: var(--fill-color);\n",
              "      border-bottom-color: var(--fill-color);\n",
              "    }\n",
              "    90% {\n",
              "      border-color: transparent;\n",
              "      border-bottom-color: var(--fill-color);\n",
              "    }\n",
              "  }\n",
              "</style>\n",
              "\n",
              "  <script>\n",
              "    async function quickchart(key) {\n",
              "      const quickchartButtonEl =\n",
              "        document.querySelector('#' + key + ' button');\n",
              "      quickchartButtonEl.disabled = true;  // To prevent multiple clicks.\n",
              "      quickchartButtonEl.classList.add('colab-df-spinner');\n",
              "      try {\n",
              "        const charts = await google.colab.kernel.invokeFunction(\n",
              "            'suggestCharts', [key], {});\n",
              "      } catch (error) {\n",
              "        console.error('Error during call to suggestCharts:', error);\n",
              "      }\n",
              "      quickchartButtonEl.classList.remove('colab-df-spinner');\n",
              "      quickchartButtonEl.classList.add('colab-df-quickchart-complete');\n",
              "    }\n",
              "    (() => {\n",
              "      let quickchartButtonEl =\n",
              "        document.querySelector('#df-e8c04569-5de0-4b73-ba2a-d3ca9a22a98e button');\n",
              "      quickchartButtonEl.style.display =\n",
              "        google.colab.kernel.accessAllowed ? 'block' : 'none';\n",
              "    })();\n",
              "  </script>\n",
              "</div>\n",
              "\n",
              "    </div>\n",
              "  </div>\n"
            ],
            "application/vnd.google.colaboratory.intrinsic+json": {
              "type": "dataframe",
              "summary": "{\n  \"name\": \"df_small[['query', 'slot filling']]\",\n  \"rows\": 22,\n  \"fields\": [\n    {\n      \"column\": \"query\",\n      \"properties\": {\n        \"dtype\": \"string\",\n        \"num_unique_values\": 22,\n        \"samples\": [\n          \" i want to fly from boston at 838 am and arrive in denver at 1110 in the morning \",\n          \" how many seats in a 100 \",\n          \" what is fare code h \"\n        ],\n        \"semantic_type\": \"\",\n        \"description\": \"\"\n      }\n    },\n    {\n      \"column\": \"slot filling\",\n      \"properties\": {\n        \"dtype\": \"string\",\n        \"num_unique_values\": 22,\n        \"samples\": [\n          \" O O O O O B-fromloc.city_name O B-depart_time.time I-depart_time.time O O O B-toloc.city_name O B-arrive_time.time O O B-arrive_time.period_of_day \",\n          \" O O O O O B-aircraft_code \",\n          \" O O O O B-fare_basis_code \"\n        ],\n        \"semantic_type\": \"\",\n        \"description\": \"\"\n      }\n    }\n  ]\n}"
            }
          },
          "metadata": {},
          "execution_count": 5
        }
      ]
    },
    {
      "cell_type": "code",
      "metadata": {
        "id": "vJM7m-ej_n8F"
      },
      "source": [
        "query_data_train = df_train['query'].values\n",
        "slot_data_train = df_train['slot filling'].values\n",
        "\n",
        "query_data_test = df_test['query'].values\n",
        "slot_data_test = df_test['slot filling'].values"
      ],
      "execution_count": null,
      "outputs": []
    },
    {
      "cell_type": "markdown",
      "metadata": {
        "id": "YcAtzt_annnq"
      },
      "source": [
        "## Transformers\n",
        "\n",
        "\n",
        "\n"
      ]
    },
    {
      "cell_type": "markdown",
      "metadata": {
        "id": "_NQeCvTbcAAN"
      },
      "source": [
        "### Encoder Model\n",
        "\n"
      ]
    },
    {
      "cell_type": "markdown",
      "metadata": {
        "id": "qTU22oQnpo6p"
      },
      "source": [
        "Because the code for transformer encoder architecture is a bit complicated to write, we have decided to package it. This means that you can import it directly from our own \"library\" (in the same way you do it for Keras layers).\n"
      ]
    },
    {
      "cell_type": "code",
      "source": [
        "# Download the \"HODL\" library\n",
        "!wget -q 'https://www.dropbox.com/s/4rdgil1epnvgitf/HODL.py'"
      ],
      "metadata": {
        "id": "kmF0qU5JXg0x"
      },
      "execution_count": null,
      "outputs": []
    },
    {
      "cell_type": "code",
      "source": [
        "# Import the transformer encoder and the positional embedding\n",
        "from HODL import TransformerEncoder, PositionalEmbedding"
      ],
      "metadata": {
        "id": "Bms2Np84XkZw"
      },
      "execution_count": null,
      "outputs": []
    },
    {
      "cell_type": "code",
      "source": [
        "max_query_length = 30"
      ],
      "metadata": {
        "id": "RLHEObkyJ5Oj"
      },
      "execution_count": null,
      "outputs": []
    },
    {
      "cell_type": "code",
      "source": [
        "# Textvec of query\n",
        "\n",
        "# define text_vectorization layer\n",
        "text_vectorization_query = keras.layers.TextVectorization(\n",
        "    output_sequence_length=max_query_length\n",
        ")\n",
        "\n",
        "# run training corpus through layer to create vocab\n",
        "text_vectorization_query.adapt(query_data_train)\n",
        "query_vocab_size = text_vectorization_query.vocabulary_size()"
      ],
      "metadata": {
        "id": "14CUPs6nZyll"
      },
      "execution_count": null,
      "outputs": []
    },
    {
      "cell_type": "code",
      "source": [
        "text_vectorization_query.vocabulary_size()"
      ],
      "metadata": {
        "colab": {
          "base_uri": "https://localhost:8080/"
        },
        "id": "L0SKkll64TaM",
        "outputId": "24b72808-60c0-48d2-8aa8-f830a14d5b97"
      },
      "execution_count": null,
      "outputs": [
        {
          "output_type": "execute_result",
          "data": {
            "text/plain": [
              "888"
            ]
          },
          "metadata": {},
          "execution_count": 12
        }
      ]
    },
    {
      "cell_type": "code",
      "source": [
        "text_vectorization_query.get_vocabulary()[:20]"
      ],
      "metadata": {
        "colab": {
          "base_uri": "https://localhost:8080/"
        },
        "id": "K4yGZe4OKCMJ",
        "outputId": "c823a036-1e93-49ae-e8cd-793dfc823d98"
      },
      "execution_count": null,
      "outputs": [
        {
          "output_type": "execute_result",
          "data": {
            "text/plain": [
              "['',\n",
              " '[UNK]',\n",
              " 'to',\n",
              " 'from',\n",
              " 'flights',\n",
              " 'the',\n",
              " 'on',\n",
              " 'what',\n",
              " 'me',\n",
              " 'flight',\n",
              " 'boston',\n",
              " 'show',\n",
              " 'san',\n",
              " 'i',\n",
              " 'denver',\n",
              " 'a',\n",
              " 'francisco',\n",
              " 'in',\n",
              " 'and',\n",
              " 'atlanta']"
            ]
          },
          "metadata": {},
          "execution_count": 13
        }
      ]
    },
    {
      "cell_type": "code",
      "source": [
        "# vectorize train and test queries\n",
        "source_train = text_vectorization_query(query_data_train)\n",
        "source_test = text_vectorization_query(query_data_test)"
      ],
      "metadata": {
        "id": "0z1nqUix2G13"
      },
      "execution_count": null,
      "outputs": []
    },
    {
      "cell_type": "markdown",
      "source": [
        "Next, we need to do STIE for the output side of the problem i.e. the slots"
      ],
      "metadata": {
        "id": "C7G86WOD2MI5"
      }
    },
    {
      "cell_type": "markdown",
      "source": [
        "Let's take another look at the slots."
      ],
      "metadata": {
        "id": "JCb9pXbM2i63"
      }
    },
    {
      "cell_type": "code",
      "source": [
        "df_small['slot filling'].head()"
      ],
      "metadata": {
        "colab": {
          "base_uri": "https://localhost:8080/"
        },
        "id": "xNUvMJTB2nES",
        "outputId": "d408044d-7c8e-4142-9405-26224481b15a"
      },
      "execution_count": null,
      "outputs": [
        {
          "output_type": "execute_result",
          "data": {
            "text/plain": [
              "0     O O O O O B-fromloc.city_name O B-depart_time.time I-depart_time.time O O O B-toloc.city_name O B-arrive_time.time O O B-arrive_time.period_of_day \n",
              "1          O O O B-flight_time I-flight_time O B-fromloc.city_name I-fromloc.city_name O O B-depart_time.time I-depart_time.time O O B-fromloc.city_name \n",
              "2                                                                                            B-cost_relative O O B-fromloc.city_name O B-toloc.city_name \n",
              "3                                                                                            O O O O O O O O O O B-fromloc.city_name O B-toloc.city_name \n",
              "4                                                                                                                            O O O O O O O O B-city_name \n",
              "Name: slot filling, dtype: object"
            ]
          },
          "metadata": {},
          "execution_count": 15
        }
      ]
    },
    {
      "cell_type": "markdown",
      "source": [
        "Note the - and . in the entity names 👆. We don't want the standardization to strip those out. Nor do we want to lower-case the names."
      ],
      "metadata": {
        "id": "UGEF14cv2yP3"
      }
    },
    {
      "cell_type": "code",
      "source": [
        "# Textvec of slots\n",
        "text_vectorization_slots = keras.layers.TextVectorization(\n",
        "    output_sequence_length=max_query_length,\n",
        "    standardize=None\n",
        ")\n",
        "text_vectorization_slots.adapt(slot_data_train)\n",
        "slot_vocab_size = text_vectorization_slots.vocabulary_size()\n",
        "\n",
        "target_train = text_vectorization_slots(slot_data_train)\n",
        "target_test = text_vectorization_slots(slot_data_test)\n"
      ],
      "metadata": {
        "id": "ma9COj0675XG"
      },
      "execution_count": null,
      "outputs": []
    },
    {
      "cell_type": "code",
      "source": [
        "text_vectorization_slots.get_vocabulary()"
      ],
      "metadata": {
        "id": "KrwM7oBKKLtQ"
      },
      "execution_count": null,
      "outputs": []
    },
    {
      "cell_type": "code",
      "source": [
        "text_vectorization_slots.vocabulary_size()"
      ],
      "metadata": {
        "colab": {
          "base_uri": "https://localhost:8080/"
        },
        "id": "366B5EOVFeWN",
        "outputId": "89592fce-7e05-472f-ee99-b965b1a58f1c"
      },
      "execution_count": null,
      "outputs": [
        {
          "output_type": "execute_result",
          "data": {
            "text/plain": [
              "125"
            ]
          },
          "metadata": {},
          "execution_count": 18
        }
      ]
    },
    {
      "cell_type": "markdown",
      "source": [
        "We will now set up a DNN with a Transformer Encoder (as described in lecture - see picture below)."
      ],
      "metadata": {
        "id": "SDznFNEQJN9r"
      }
    },
    {
      "cell_type": "markdown",
      "source": [
        "![image.png](data:image/png;base64,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)"
      ],
      "metadata": {
        "id": "izwl5duIJKhw"
      }
    },
    {
      "cell_type": "code",
      "source": [
        "# Params\n",
        "embed_dim = 512\n",
        "dense_dim = 64\n",
        "num_heads = 5\n",
        "\n",
        "units = 128\n",
        "\n",
        "# Embedding and Masking\n",
        "inputs = keras.Input(shape=(max_query_length,))\n",
        "\n",
        "embedding = PositionalEmbedding(max_query_length,\n",
        "                                query_vocab_size,\n",
        "                                embed_dim)\n",
        "x = embedding(inputs) #grey vectors\n",
        "\n",
        "encoder_out = TransformerEncoder(embed_dim,\n",
        "                                 dense_dim,\n",
        "                                 num_heads)(x)\n",
        "\n",
        "#encoder_out = BLUE!!! vectors\n",
        "\n",
        "# Classifier\n",
        "x = keras.layers.Dense(units, activation='relu')(encoder_out)\n",
        "x = keras.layers.Dropout(0.5)(x)\n",
        "outputs = keras.layers.Dense(slot_vocab_size, activation=\"softmax\")(x)\n",
        "\n",
        "model = keras.Model(inputs, outputs)\n",
        "model.summary()"
      ],
      "metadata": {
        "id": "w5lT0qaD7wB1",
        "colab": {
          "base_uri": "https://localhost:8080/"
        },
        "outputId": "f49c40a9-5080-4fc5-819e-e93d70aeec1b"
      },
      "execution_count": null,
      "outputs": [
        {
          "output_type": "stream",
          "name": "stdout",
          "text": [
            "Model: \"model\"\n",
            "_________________________________________________________________\n",
            " Layer (type)                Output Shape              Param #   \n",
            "=================================================================\n",
            " input_1 (InputLayer)        [(None, 30)]              0         \n",
            "                                                                 \n",
            " positional_embedding (Posi  (None, 30, 512)           470016    \n",
            " tionalEmbedding)                                                \n",
            "                                                                 \n",
            " transformer_encoder (Trans  (None, 30, 512)           5319232   \n",
            " formerEncoder)                                                  \n",
            "                                                                 \n",
            " dense_2 (Dense)             (None, 30, 128)           65664     \n",
            "                                                                 \n",
            " dropout (Dropout)           (None, 30, 128)           0         \n",
            "                                                                 \n",
            " dense_3 (Dense)             (None, 30, 125)           16125     \n",
            "                                                                 \n",
            "=================================================================\n",
            "Total params: 5871037 (22.40 MB)\n",
            "Trainable params: 5871037 (22.40 MB)\n",
            "Non-trainable params: 0 (0.00 Byte)\n",
            "_________________________________________________________________\n"
          ]
        }
      ]
    },
    {
      "cell_type": "markdown",
      "source": [
        "**OPTIONAL**: We have \"hand calculated\" the number of parameters in the Transformer Encoder. **After the next class**, work through it and understand it line-by-line for fame and fortune 🚀 🏅!!"
      ],
      "metadata": {
        "id": "Txp9NPJhThW-"
      }
    },
    {
      "cell_type": "code",
      "source": [
        "(num_heads * ((embed_dim + 1) * embed_dim * 3) +   # self-attention heads\n",
        "(num_heads * embed_dim + 1) * embed_dim +          # concatenate-and-project\n",
        "embed_dim * 2 +                                    # first layer norm\n",
        "(embed_dim + 1) * dense_dim +                      # first feed-forward\n",
        "(dense_dim + 1) * (embed_dim) +                    # final feed-forward\n",
        " embed_dim * 2)                                    # final layer norm"
      ],
      "metadata": {
        "colab": {
          "base_uri": "https://localhost:8080/"
        },
        "id": "FokhSLgURqbh",
        "outputId": "95373a18-34ba-4b5b-dcf8-52b7c2b43ce6"
      },
      "execution_count": null,
      "outputs": [
        {
          "output_type": "execute_result",
          "data": {
            "text/plain": [
              "5319232"
            ]
          },
          "metadata": {},
          "execution_count": 36
        }
      ]
    },
    {
      "cell_type": "markdown",
      "source": [
        "BTW, you can peek into any layer's weights easily using its `weights` attribute.\n",
        "\n",
        "Let's say we want to check out the weights of the `PositionalEmbedding` layer in the model above."
      ],
      "metadata": {
        "id": "c65fNvVvLdGm"
      }
    },
    {
      "cell_type": "code",
      "source": [
        "embedding.weights"
      ],
      "metadata": {
        "colab": {
          "base_uri": "https://localhost:8080/"
        },
        "id": "yFkUOikMbaJz",
        "outputId": "b0ce1f57-ed8a-4f88-aaa8-7d4a9e6e673b"
      },
      "execution_count": null,
      "outputs": [
        {
          "output_type": "execute_result",
          "data": {
            "text/plain": [
              "[<tf.Variable 'positional_embedding/embedding/embeddings:0' shape=(888, 512) dtype=float32, numpy=\n",
              " array([[ 0.03581891,  0.01626286, -0.01412892, ...,  0.0452905 ,\n",
              "         -0.02311034,  0.02508745],\n",
              "        [ 0.02021731,  0.01918722, -0.00385682, ...,  0.02363205,\n",
              "         -0.02280219, -0.00295401],\n",
              "        [-0.01289467,  0.03753278, -0.00539821, ...,  0.02464176,\n",
              "         -0.01119621,  0.01759655],\n",
              "        ...,\n",
              "        [ 0.02409312, -0.00869781, -0.01521801, ...,  0.00323968,\n",
              "          0.01492134, -0.01377813],\n",
              "        [ 0.04109884,  0.0002197 ,  0.01844469, ..., -0.04935136,\n",
              "         -0.02678368, -0.01112056],\n",
              "        [-0.00839518, -0.02063971,  0.00734846, ...,  0.01073778,\n",
              "          0.00010662,  0.02275636]], dtype=float32)>,\n",
              " <tf.Variable 'positional_embedding/embedding_1/embeddings:0' shape=(30, 512) dtype=float32, numpy=\n",
              " array([[ 0.04791559, -0.00179821,  0.02660979, ...,  0.02429681,\n",
              "         -0.02299124, -0.01301686],\n",
              "        [-0.0365486 , -0.01160147, -0.04650236, ..., -0.03935713,\n",
              "         -0.04289023,  0.04146255],\n",
              "        [-0.02161982,  0.01293555, -0.02727276, ..., -0.02790877,\n",
              "         -0.04306101,  0.04120204],\n",
              "        ...,\n",
              "        [-0.00329853, -0.01233319, -0.02484986, ...,  0.04039692,\n",
              "          0.0357436 ,  0.03016606],\n",
              "        [-0.04414365,  0.00970565, -0.04817975, ..., -0.00731384,\n",
              "          0.03528408,  0.02775887],\n",
              "        [-0.03897489, -0.03327184,  0.03664217, ..., -0.02953119,\n",
              "          0.025712  ,  0.02896516]], dtype=float32)>]"
            ]
          },
          "metadata": {},
          "execution_count": 20
        }
      ]
    },
    {
      "cell_type": "code",
      "metadata": {
        "id": "fuDpwFcb8Diz"
      },
      "source": [
        "model.compile(optimizer=\"adam\",\n",
        "              loss=\"sparse_categorical_crossentropy\",\n",
        "              metrics=[\"sparse_categorical_accuracy\"])\n"
      ],
      "execution_count": null,
      "outputs": []
    },
    {
      "cell_type": "code",
      "source": [
        "BATCH_SIZE = 64\n",
        "epochs = 10\n",
        "\n",
        "# Fit\n",
        "history = model.fit(source_train, target_train,\n",
        "                 batch_size=BATCH_SIZE,\n",
        "                 epochs=epochs)"
      ],
      "metadata": {
        "id": "XtC7kzdDdMqG",
        "colab": {
          "base_uri": "https://localhost:8080/"
        },
        "outputId": "5cc2bcbd-0b8b-4c5b-8a28-9d9aa6e53e91"
      },
      "execution_count": null,
      "outputs": [
        {
          "output_type": "stream",
          "name": "stdout",
          "text": [
            "Epoch 1/10\n",
            "78/78 [==============================] - 11s 66ms/step - loss: 0.4511 - sparse_categorical_accuracy: 0.9048\n",
            "Epoch 2/10\n",
            "78/78 [==============================] - 3s 32ms/step - loss: 0.1314 - sparse_categorical_accuracy: 0.9612\n",
            "Epoch 3/10\n",
            "78/78 [==============================] - 3s 34ms/step - loss: 0.0937 - sparse_categorical_accuracy: 0.9704\n",
            "Epoch 4/10\n",
            "78/78 [==============================] - 2s 28ms/step - loss: 0.0689 - sparse_categorical_accuracy: 0.9797\n",
            "Epoch 5/10\n",
            "78/78 [==============================] - 2s 29ms/step - loss: 0.0476 - sparse_categorical_accuracy: 0.9862\n",
            "Epoch 6/10\n",
            "78/78 [==============================] - 2s 31ms/step - loss: 0.0357 - sparse_categorical_accuracy: 0.9900\n",
            "Epoch 7/10\n",
            "78/78 [==============================] - 2s 30ms/step - loss: 0.0276 - sparse_categorical_accuracy: 0.9921\n",
            "Epoch 8/10\n",
            "78/78 [==============================] - 2s 28ms/step - loss: 0.0225 - sparse_categorical_accuracy: 0.9936\n",
            "Epoch 9/10\n",
            "78/78 [==============================] - 2s 28ms/step - loss: 0.0180 - sparse_categorical_accuracy: 0.9948\n",
            "Epoch 10/10\n",
            "78/78 [==============================] - 2s 30ms/step - loss: 0.0156 - sparse_categorical_accuracy: 0.9955\n"
          ]
        }
      ]
    },
    {
      "cell_type": "markdown",
      "source": [
        "The accuracy on the training set is 99.55%! What is it on the test set?"
      ],
      "metadata": {
        "id": "W4cXsUaYGGbW"
      }
    },
    {
      "cell_type": "code",
      "source": [
        "model.evaluate(source_test, target_test)"
      ],
      "metadata": {
        "colab": {
          "base_uri": "https://localhost:8080/"
        },
        "id": "qwpHf0unGMcK",
        "outputId": "1a570c3d-731d-40ea-9c02-68a2c7a6a004"
      },
      "execution_count": null,
      "outputs": [
        {
          "output_type": "stream",
          "name": "stdout",
          "text": [
            "28/28 [==============================] - 1s 10ms/step - loss: 0.0639 - sparse_categorical_accuracy: 0.9887\n"
          ]
        },
        {
          "output_type": "execute_result",
          "data": {
            "text/plain": [
              "[0.06391596049070358, 0.9886524677276611]"
            ]
          },
          "metadata": {},
          "execution_count": 32
        }
      ]
    },
    {
      "cell_type": "markdown",
      "source": [
        "Is this impressive?\n",
        "\n",
        "<br>\n",
        "<br>\n",
        "<br>\n",
        "<br>"
      ],
      "metadata": {
        "id": "FNFGQIpOGXcj"
      }
    },
    {
      "cell_type": "markdown",
      "source": [
        "Let's write a little helper function to calculate the accuracy on just the non-O slots."
      ],
      "metadata": {
        "id": "EfHR8RqXTHAd"
      }
    },
    {
      "cell_type": "code",
      "source": [
        "# Metrics\n",
        "def slot_filling_accuracy(actual, predicted, only_slots=False):\n",
        "  not_padding = np.not_equal(actual, 0) #+ np.not_equal(predicted, 0)\n",
        "\n",
        "  if only_slots:\n",
        "    non_slot_token = text_vectorization_slots(['O']).numpy()[0, 0]\n",
        "    slots = np.not_equal(actual, non_slot_token)\n",
        "    correct_predictions = np.equal(actual, predicted)[not_padding * slots]\n",
        "  else:\n",
        "    correct_predictions = np.equal(actual, predicted)[not_padding]\n",
        "\n",
        "  sample_length = len(correct_predictions)\n",
        "\n",
        "  weights = np.ones(sample_length)\n",
        "\n",
        "  return np.dot(correct_predictions, weights) / sample_length\n"
      ],
      "metadata": {
        "id": "epn7rEY2Qgih"
      },
      "execution_count": null,
      "outputs": []
    },
    {
      "cell_type": "code",
      "source": [
        "predicted = np.argmax(model.predict(source_test), axis=-1).reshape(-1)\n",
        "actual = target_test.numpy().reshape(-1)\n",
        "\n",
        "acc = slot_filling_accuracy(actual, predicted, only_slots=False)\n",
        "acc_slots = slot_filling_accuracy(actual, predicted, only_slots=True)\n",
        "\n",
        "print(f'Accuracy = {acc:.3f}')\n",
        "print(f'Accuracy on slots = {acc_slots:.3f}')"
      ],
      "metadata": {
        "colab": {
          "base_uri": "https://localhost:8080/"
        },
        "id": "GCnpUqwHTFgc",
        "outputId": "47e9ef82-f724-41b5-d547-a00cc9c081e0"
      },
      "execution_count": null,
      "outputs": [
        {
          "output_type": "stream",
          "name": "stdout",
          "text": [
            "28/28 [==============================] - 1s 9ms/step\n",
            "Accuracy = 0.967\n",
            "Accuracy on slots = 0.920\n"
          ]
        }
      ]
    },
    {
      "cell_type": "markdown",
      "source": [
        "We get 92% accuracy on the slots and 97% accuracy in general.\n"
      ],
      "metadata": {
        "id": "RbKQV0LGhI__"
      }
    },
    {
      "cell_type": "markdown",
      "source": [
        "\n",
        "\n",
        "---\n",
        "\n",
        "Is 92% accuracy good enough for practical use?\n",
        "\n",
        "\n",
        "\n",
        "\n",
        "---\n",
        "\n"
      ],
      "metadata": {
        "id": "EBjI2oDlG0fR"
      }
    },
    {
      "cell_type": "markdown",
      "source": [
        "### Examples\n",
        "\n",
        "Let's see some examples:"
      ],
      "metadata": {
        "id": "Nn9h4yWtMSk8"
      }
    },
    {
      "cell_type": "code",
      "source": [
        "def predict_slots_query(query):\n",
        "  sentence = text_vectorization_query([query])\n",
        "\n",
        "  prediction = np.argmax(model.predict(sentence), axis=-1)[0]\n",
        "\n",
        "  inverse_vocab = dict(enumerate(text_vectorization_slots.get_vocabulary()))\n",
        "  decoded_prediction = \" \".join(inverse_vocab[int(i)] for i in prediction)\n",
        "  return decoded_prediction"
      ],
      "metadata": {
        "id": "WuWqtUjXP6FM"
      },
      "execution_count": null,
      "outputs": []
    },
    {
      "cell_type": "code",
      "source": [
        "examples = [\n",
        "            'from los angeles',\n",
        "            'to los angeles',\n",
        "            'cheapest flight from boston to los angeles tomorrow',\n",
        "            'what is the airport at orlando',\n",
        "            'what are the air restrictions on flights from pittsburgh to atlanta for the airfare of 416 dollars',\n",
        "            'flight from boston to santiago',\n",
        "]\n",
        "\n",
        "for e in examples:\n",
        "  print(e)\n",
        "  print(predict_slots_query(e))\n",
        "  print()"
      ],
      "metadata": {
        "colab": {
          "base_uri": "https://localhost:8080/"
        },
        "id": "3J74nlH49Xii",
        "outputId": "3828a710-87bf-4cfe-8765-bfc665bbfede"
      },
      "execution_count": null,
      "outputs": [
        {
          "output_type": "stream",
          "name": "stdout",
          "text": [
            "from los angeles\n",
            "1/1 [==============================] - 0s 21ms/step\n",
            "O B-fromloc.city_name I-fromloc.city_name                           \n",
            "\n",
            "to los angeles\n",
            "1/1 [==============================] - 0s 19ms/step\n",
            "O B-toloc.city_name I-toloc.city_name                           \n",
            "\n",
            "cheapest flight from boston to los angeles tomorrow\n",
            "1/1 [==============================] - 0s 19ms/step\n",
            "B-cost_relative O O B-fromloc.city_name O B-toloc.city_name I-toloc.city_name B-depart_date.today_relative                      \n",
            "\n",
            "what is the airport at orlando\n",
            "1/1 [==============================] - 0s 19ms/step\n",
            "O O O O O B-airport_name                        \n",
            "\n",
            "what are the air restrictions on flights from pittsburgh to atlanta for the airfare of 416 dollars\n",
            "1/1 [==============================] - 0s 19ms/step\n",
            "O O O O O O O O B-fromloc.city_name O B-toloc.city_name O O O O B-fare_amount I-fare_amount             \n",
            "\n",
            "flight from boston to santiago\n",
            "1/1 [==============================] - 0s 19ms/step\n",
            "O O B-fromloc.city_name O B-toloc.city_name                         \n",
            "\n"
          ]
        }
      ]
    },
    {
      "cell_type": "code",
      "source": [
        "predict_slots_query(\"Your query here!\")\n"
      ],
      "metadata": {
        "id": "Cn1jw2BNhr3Z"
      },
      "execution_count": null,
      "outputs": []
    },
    {
      "cell_type": "markdown",
      "source": [
        "Can we \"break\" this model with an \"adversarial\" query?"
      ],
      "metadata": {
        "id": "Y_ARP-HuaxSv"
      }
    },
    {
      "cell_type": "code",
      "source": [
        "predict_slots_query(\"cheapest flight to fly from MIT to Mars\")"
      ],
      "metadata": {
        "id": "10G_7sHhZUKM",
        "colab": {
          "base_uri": "https://localhost:8080/",
          "height": 52
        },
        "outputId": "f515b605-2960-448a-b59c-2b61e9b29657"
      },
      "execution_count": null,
      "outputs": [
        {
          "output_type": "stream",
          "name": "stdout",
          "text": [
            "1/1 [==============================] - 0s 19ms/step\n"
          ]
        },
        {
          "output_type": "execute_result",
          "data": {
            "text/plain": [
              "'B-cost_relative O O O O O O O                      '"
            ],
            "application/vnd.google.colaboratory.intrinsic+json": {
              "type": "string"
            }
          },
          "metadata": {},
          "execution_count": 24
        }
      ]
    }
  ]
}